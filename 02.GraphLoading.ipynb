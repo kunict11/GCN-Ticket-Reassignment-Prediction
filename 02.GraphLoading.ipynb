{
 "cells": [
  {
   "cell_type": "code",
   "execution_count": 143,
   "id": "fe8ac8c3",
   "metadata": {},
   "outputs": [],
   "source": [
    "import pandas as pd\n",
    "import numpy as np\n",
    "import torch\n",
    "from torch.nn import Embedding\n",
    "from torch_geometric.data import HeteroData\n",
    "from sentence_transformers import SentenceTransformer\n",
    "from sklearn.preprocessing import LabelEncoder"
   ]
  },
  {
   "cell_type": "code",
   "execution_count": 144,
   "id": "5e4e7cc0",
   "metadata": {},
   "outputs": [],
   "source": [
    "EMBEDDING_SIZE = 16\n",
    "incident_path = 'data/incidents.csv'\n",
    "support_org_path = 'data/support_orgs.csv'\n",
    "customer_path = 'data/customers.csv'\n",
    "vendor_path = 'data/vendors.csv'\n",
    "target_path = 'data/target.pt'"
   ]
  },
  {
   "cell_type": "code",
   "execution_count": 145,
   "id": "6f31a1c6",
   "metadata": {},
   "outputs": [],
   "source": [
    "df_incident = pd.read_csv(incident_path)"
   ]
  },
  {
   "cell_type": "code",
   "execution_count": 146,
   "id": "3d445397",
   "metadata": {},
   "outputs": [],
   "source": [
    "class SimpleEncoder:\n",
    "    # The 'IdentityEncoder' takes the raw column values and converts them to\n",
    "    # PyTorch tensors.\n",
    "    def __init__(self, dtype=torch.float):\n",
    "        self.dtype = dtype\n",
    "\n",
    "    def __call__(self, df):\n",
    "        return torch.from_numpy(df.values).view(-1, 1).to(self.dtype)"
   ]
  },
  {
   "cell_type": "code",
   "execution_count": 147,
   "id": "3e68c02f",
   "metadata": {},
   "outputs": [],
   "source": [
    "class WordEncoder:\n",
    "    # The 'SequenceEncoder' encodes raw column strings into embeddings.\n",
    "    def __init__(self, vocab_size, embedding_dim=EMBEDDING_SIZE):\n",
    "        self.embeddings = Embedding(vocab_size, embedding_dim)\n",
    "\n",
    "    @torch.no_grad()\n",
    "    def __call__(self, df):\n",
    "        label_encoder = LabelEncoder()\n",
    "        df = label_encoder.fit_transform(df)\n",
    "        embeds = self.embeddings(torch.tensor(df, dtype=torch.long)).view((-1, EMBEDDING_SIZE)).to(torch.float)\n",
    "        return embeds\n"
   ]
  },
  {
   "cell_type": "code",
   "execution_count": 148,
   "id": "d2e199a9",
   "metadata": {},
   "outputs": [],
   "source": [
    "def load_node_csv(path, index_col, encoders=None):\n",
    "    df = pd.read_csv(path, index_col=index_col)\n",
    "    mapping = {index: i for i, index in enumerate(df.index.unique())}\n",
    "\n",
    "    x = None\n",
    "    if encoders is not None:\n",
    "        xs = [encoder(df[col]) for col, encoder in encoders.items()]\n",
    "        x = torch.cat(xs, dim=-1)\n",
    "\n",
    "    return x, mapping"
   ]
  },
  {
   "cell_type": "code",
   "execution_count": 149,
   "id": "7984bcb2",
   "metadata": {},
   "outputs": [],
   "source": [
    "def load_edge_csv(path, src_index_col, src_mapping, dst_index_col, dst_mapping,\n",
    "                  encoders=None, **kwargs):\n",
    "    df = pd.read_csv(path, **kwargs)\n",
    "\n",
    "    src = [src_mapping[index] for index in df[src_index_col]]\n",
    "    dst = [dst_mapping[index] for index in df[dst_index_col]]\n",
    "    edge_index = torch.tensor([src, dst])\n",
    "\n",
    "    edge_attr = None\n",
    "    if encoders is not None:\n",
    "        edge_attrs = [encoder(df[col]) for col, encoder in encoders.items()]\n",
    "        edge_attr = torch.cat(edge_attrs, dim=-1)\n",
    "    return edge_index, edge_attr"
   ]
  },
  {
   "cell_type": "code",
   "execution_count": 150,
   "id": "367b2ca1",
   "metadata": {},
   "outputs": [],
   "source": [
    "support_org_x, support_org_map = load_node_csv(support_org_path, \n",
    "                                               'assignment_group', \n",
    "                                               encoders={'assigned_to': SimpleEncoder(),\n",
    "                                                         'number': WordEncoder(len(df_incident['number']), EMBEDDING_SIZE)})"
   ]
  },
  {
   "cell_type": "code",
   "execution_count": 151,
   "id": "148637f1",
   "metadata": {},
   "outputs": [],
   "source": [
    "vendor_x, vendor_map = load_node_csv(vendor_path, 'vendor', encoders={'number': WordEncoder(len(df_incident['number']), EMBEDDING_SIZE)})"
   ]
  },
  {
   "cell_type": "code",
   "execution_count": 152,
   "id": "4b72c297",
   "metadata": {},
   "outputs": [],
   "source": [
    "customer_x, customer_map = load_node_csv(customer_path, 'opened_by', encoders={'number': WordEncoder(len(df_incident['number']), EMBEDDING_SIZE)})"
   ]
  },
  {
   "cell_type": "code",
   "execution_count": 153,
   "id": "865c3901",
   "metadata": {},
   "outputs": [],
   "source": [
    "incident_encoders = {}\n",
    "for col in df_incident.columns[2:]:\n",
    "    if col == 'incident_state' or col == 'contact_type':\n",
    "        incident_encoders[col] = WordEncoder(len(df_incident[col].unique()), EMBEDDING_SIZE)\n",
    "    else:\n",
    "        incident_encoders[col] = SimpleEncoder()"
   ]
  },
  {
   "cell_type": "code",
   "execution_count": 154,
   "id": "15390ac0",
   "metadata": {},
   "outputs": [],
   "source": [
    "incident_x, incident_map = load_node_csv(incident_path, 'number', encoders=incident_encoders)"
   ]
  },
  {
   "cell_type": "code",
   "execution_count": 155,
   "id": "60b4c8bb",
   "metadata": {},
   "outputs": [],
   "source": [
    "incident_support_org, incident_support_org_label = load_edge_csv(support_org_path, \n",
    "                                                                 src_index_col='assignment_group',\n",
    "                                                                 src_mapping=support_org_map,\n",
    "                                                                 dst_index_col='number',\n",
    "                                                                 dst_mapping=incident_map\n",
    "                                                                )"
   ]
  },
  {
   "cell_type": "code",
   "execution_count": 156,
   "id": "76e613fc",
   "metadata": {},
   "outputs": [],
   "source": [
    "incident_customer, incident_customer_label = load_edge_csv(customer_path, \n",
    "                                                           src_index_col='opened_by',\n",
    "                                                           src_mapping=customer_map,\n",
    "                                                           dst_index_col='number',\n",
    "                                                           dst_mapping=incident_map\n",
    "                                                           )"
   ]
  },
  {
   "cell_type": "code",
   "execution_count": 157,
   "id": "42c5c7bd",
   "metadata": {},
   "outputs": [],
   "source": [
    "incident_vendor, incident_vendor_label = load_edge_csv(vendor_path, \n",
    "                                                       src_index_col='vendor',\n",
    "                                                       src_mapping=vendor_map,\n",
    "                                                       dst_index_col='number',\n",
    "                                                       dst_mapping=incident_map\n",
    "                                                       )"
   ]
  },
  {
   "cell_type": "code",
   "execution_count": 169,
   "id": "9d9b3ca9",
   "metadata": {},
   "outputs": [],
   "source": [
    "data = HeteroData()"
   ]
  },
  {
   "cell_type": "code",
   "execution_count": 170,
   "id": "eb7b8113",
   "metadata": {},
   "outputs": [],
   "source": [
    "target = torch.load(target_path)"
   ]
  },
  {
   "cell_type": "code",
   "execution_count": 171,
   "id": "e58132b2",
   "metadata": {},
   "outputs": [],
   "source": [
    "data['incident'].x = incident_x\n",
    "data['incident'].y = target\n",
    "data['support_org'].x = support_org_x\n",
    "data['customer'].x = customer_x\n",
    "data['vendor'].x = vendor_x"
   ]
  },
  {
   "cell_type": "code",
   "execution_count": 172,
   "id": "ef7a0e38",
   "metadata": {},
   "outputs": [],
   "source": [
    "data['incident', 'assigned', 'support_org'].edge_index = incident_support_org\n",
    "data['incident', 'assigned', 'support_org'].edge_label = incident_support_org_label\n",
    "\n",
    "data['incident', 'assigned', 'vendor'].edge_index = incident_vendor\n",
    "data['incident', 'assigned', 'vendor'].edge_label = incident_vendor_label\n",
    "\n",
    "data['incident', 'reported', 'customer'].edge_index = incident_customer\n",
    "data['incident', 'reported', 'customer'].edge_label = incident_customer_label"
   ]
  },
  {
   "cell_type": "code",
   "execution_count": 173,
   "id": "a2b682a6",
   "metadata": {},
   "outputs": [
    {
     "data": {
      "text/plain": [
       "HeteroData(\n",
       "  incident={\n",
       "    x=[141707, 51],\n",
       "    y=[141707],\n",
       "  },\n",
       "  support_org={ x=[141707, 17] },\n",
       "  customer={ x=[141707, 16] },\n",
       "  vendor={ x=[141707, 16] },\n",
       "  (incident, assigned, support_org)={ edge_index=[2, 141707] },\n",
       "  (incident, assigned, vendor)={ edge_index=[2, 141707] },\n",
       "  (incident, reported, customer)={ edge_index=[2, 141707] }\n",
       ")"
      ]
     },
     "execution_count": 173,
     "metadata": {},
     "output_type": "execute_result"
    }
   ],
   "source": [
    "data"
   ]
  },
  {
   "cell_type": "code",
   "execution_count": 174,
   "id": "20bada2e",
   "metadata": {},
   "outputs": [],
   "source": [
    "torch.save(data, 'data/hetero_data.pt')"
   ]
  },
  {
   "cell_type": "code",
   "execution_count": null,
   "id": "12af34c7",
   "metadata": {},
   "outputs": [],
   "source": []
  }
 ],
 "metadata": {
  "kernelspec": {
   "display_name": "Python 3",
   "language": "python",
   "name": "python3"
  },
  "language_info": {
   "codemirror_mode": {
    "name": "ipython",
    "version": 3
   },
   "file_extension": ".py",
   "mimetype": "text/x-python",
   "name": "python",
   "nbconvert_exporter": "python",
   "pygments_lexer": "ipython3",
   "version": "3.8.8"
  }
 },
 "nbformat": 4,
 "nbformat_minor": 5
}
