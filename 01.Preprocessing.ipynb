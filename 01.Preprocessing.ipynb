{
 "cells": [
  {
   "cell_type": "code",
   "execution_count": 1,
   "id": "294f67ca",
   "metadata": {},
   "outputs": [],
   "source": [
    "import pandas as pd\n",
    "import numpy as np\n",
    "import random"
   ]
  },
  {
   "cell_type": "code",
   "execution_count": 2,
   "id": "0ca6ce4d",
   "metadata": {},
   "outputs": [],
   "source": [
    "pd.options.mode.chained_assignment = None"
   ]
  },
  {
   "cell_type": "code",
   "execution_count": 3,
   "id": "7b796279",
   "metadata": {},
   "outputs": [
    {
     "data": {
      "text/plain": [
       "(141712, 36)"
      ]
     },
     "execution_count": 3,
     "metadata": {},
     "output_type": "execute_result"
    }
   ],
   "source": [
    "df = pd.read_csv('data/incident_event_log.csv')\n",
    "df.shape"
   ]
  },
  {
   "cell_type": "code",
   "execution_count": 4,
   "id": "5fd2da73",
   "metadata": {},
   "outputs": [
    {
     "data": {
      "text/html": [
       "<div>\n",
       "<style scoped>\n",
       "    .dataframe tbody tr th:only-of-type {\n",
       "        vertical-align: middle;\n",
       "    }\n",
       "\n",
       "    .dataframe tbody tr th {\n",
       "        vertical-align: top;\n",
       "    }\n",
       "\n",
       "    .dataframe thead th {\n",
       "        text-align: right;\n",
       "    }\n",
       "</style>\n",
       "<table border=\"1\" class=\"dataframe\">\n",
       "  <thead>\n",
       "    <tr style=\"text-align: right;\">\n",
       "      <th></th>\n",
       "      <th>number</th>\n",
       "      <th>incident_state</th>\n",
       "      <th>active</th>\n",
       "      <th>reassignment_count</th>\n",
       "      <th>reopen_count</th>\n",
       "      <th>sys_mod_count</th>\n",
       "      <th>made_sla</th>\n",
       "      <th>caller_id</th>\n",
       "      <th>opened_by</th>\n",
       "      <th>opened_at</th>\n",
       "      <th>...</th>\n",
       "      <th>u_priority_confirmation</th>\n",
       "      <th>notify</th>\n",
       "      <th>problem_id</th>\n",
       "      <th>rfc</th>\n",
       "      <th>vendor</th>\n",
       "      <th>caused_by</th>\n",
       "      <th>closed_code</th>\n",
       "      <th>resolved_by</th>\n",
       "      <th>resolved_at</th>\n",
       "      <th>closed_at</th>\n",
       "    </tr>\n",
       "  </thead>\n",
       "  <tbody>\n",
       "    <tr>\n",
       "      <th>0</th>\n",
       "      <td>INC0000045</td>\n",
       "      <td>New</td>\n",
       "      <td>True</td>\n",
       "      <td>0</td>\n",
       "      <td>0</td>\n",
       "      <td>0</td>\n",
       "      <td>True</td>\n",
       "      <td>Caller 2403</td>\n",
       "      <td>Opened by  8</td>\n",
       "      <td>29/2/2016 01:16</td>\n",
       "      <td>...</td>\n",
       "      <td>False</td>\n",
       "      <td>Do Not Notify</td>\n",
       "      <td>?</td>\n",
       "      <td>?</td>\n",
       "      <td>?</td>\n",
       "      <td>?</td>\n",
       "      <td>code 5</td>\n",
       "      <td>Resolved by 149</td>\n",
       "      <td>29/2/2016 11:29</td>\n",
       "      <td>5/3/2016 12:00</td>\n",
       "    </tr>\n",
       "    <tr>\n",
       "      <th>1</th>\n",
       "      <td>INC0000045</td>\n",
       "      <td>Resolved</td>\n",
       "      <td>True</td>\n",
       "      <td>0</td>\n",
       "      <td>0</td>\n",
       "      <td>2</td>\n",
       "      <td>True</td>\n",
       "      <td>Caller 2403</td>\n",
       "      <td>Opened by  8</td>\n",
       "      <td>29/2/2016 01:16</td>\n",
       "      <td>...</td>\n",
       "      <td>False</td>\n",
       "      <td>Do Not Notify</td>\n",
       "      <td>?</td>\n",
       "      <td>?</td>\n",
       "      <td>?</td>\n",
       "      <td>?</td>\n",
       "      <td>code 5</td>\n",
       "      <td>Resolved by 149</td>\n",
       "      <td>29/2/2016 11:29</td>\n",
       "      <td>5/3/2016 12:00</td>\n",
       "    </tr>\n",
       "    <tr>\n",
       "      <th>2</th>\n",
       "      <td>INC0000045</td>\n",
       "      <td>Resolved</td>\n",
       "      <td>True</td>\n",
       "      <td>0</td>\n",
       "      <td>0</td>\n",
       "      <td>3</td>\n",
       "      <td>True</td>\n",
       "      <td>Caller 2403</td>\n",
       "      <td>Opened by  8</td>\n",
       "      <td>29/2/2016 01:16</td>\n",
       "      <td>...</td>\n",
       "      <td>False</td>\n",
       "      <td>Do Not Notify</td>\n",
       "      <td>?</td>\n",
       "      <td>?</td>\n",
       "      <td>?</td>\n",
       "      <td>?</td>\n",
       "      <td>code 5</td>\n",
       "      <td>Resolved by 149</td>\n",
       "      <td>29/2/2016 11:29</td>\n",
       "      <td>5/3/2016 12:00</td>\n",
       "    </tr>\n",
       "    <tr>\n",
       "      <th>3</th>\n",
       "      <td>INC0000045</td>\n",
       "      <td>Closed</td>\n",
       "      <td>False</td>\n",
       "      <td>0</td>\n",
       "      <td>0</td>\n",
       "      <td>4</td>\n",
       "      <td>True</td>\n",
       "      <td>Caller 2403</td>\n",
       "      <td>Opened by  8</td>\n",
       "      <td>29/2/2016 01:16</td>\n",
       "      <td>...</td>\n",
       "      <td>False</td>\n",
       "      <td>Do Not Notify</td>\n",
       "      <td>?</td>\n",
       "      <td>?</td>\n",
       "      <td>?</td>\n",
       "      <td>?</td>\n",
       "      <td>code 5</td>\n",
       "      <td>Resolved by 149</td>\n",
       "      <td>29/2/2016 11:29</td>\n",
       "      <td>5/3/2016 12:00</td>\n",
       "    </tr>\n",
       "    <tr>\n",
       "      <th>4</th>\n",
       "      <td>INC0000047</td>\n",
       "      <td>New</td>\n",
       "      <td>True</td>\n",
       "      <td>0</td>\n",
       "      <td>0</td>\n",
       "      <td>0</td>\n",
       "      <td>True</td>\n",
       "      <td>Caller 2403</td>\n",
       "      <td>Opened by  397</td>\n",
       "      <td>29/2/2016 04:40</td>\n",
       "      <td>...</td>\n",
       "      <td>False</td>\n",
       "      <td>Do Not Notify</td>\n",
       "      <td>?</td>\n",
       "      <td>?</td>\n",
       "      <td>?</td>\n",
       "      <td>?</td>\n",
       "      <td>code 5</td>\n",
       "      <td>Resolved by 81</td>\n",
       "      <td>1/3/2016 09:52</td>\n",
       "      <td>6/3/2016 10:00</td>\n",
       "    </tr>\n",
       "    <tr>\n",
       "      <th>5</th>\n",
       "      <td>INC0000047</td>\n",
       "      <td>Active</td>\n",
       "      <td>True</td>\n",
       "      <td>1</td>\n",
       "      <td>0</td>\n",
       "      <td>1</td>\n",
       "      <td>True</td>\n",
       "      <td>Caller 2403</td>\n",
       "      <td>Opened by  397</td>\n",
       "      <td>29/2/2016 04:40</td>\n",
       "      <td>...</td>\n",
       "      <td>False</td>\n",
       "      <td>Do Not Notify</td>\n",
       "      <td>?</td>\n",
       "      <td>?</td>\n",
       "      <td>?</td>\n",
       "      <td>?</td>\n",
       "      <td>code 5</td>\n",
       "      <td>Resolved by 81</td>\n",
       "      <td>1/3/2016 09:52</td>\n",
       "      <td>6/3/2016 10:00</td>\n",
       "    </tr>\n",
       "    <tr>\n",
       "      <th>6</th>\n",
       "      <td>INC0000047</td>\n",
       "      <td>Active</td>\n",
       "      <td>True</td>\n",
       "      <td>1</td>\n",
       "      <td>0</td>\n",
       "      <td>2</td>\n",
       "      <td>True</td>\n",
       "      <td>Caller 2403</td>\n",
       "      <td>Opened by  397</td>\n",
       "      <td>29/2/2016 04:40</td>\n",
       "      <td>...</td>\n",
       "      <td>False</td>\n",
       "      <td>Do Not Notify</td>\n",
       "      <td>?</td>\n",
       "      <td>?</td>\n",
       "      <td>?</td>\n",
       "      <td>?</td>\n",
       "      <td>code 5</td>\n",
       "      <td>Resolved by 81</td>\n",
       "      <td>1/3/2016 09:52</td>\n",
       "      <td>6/3/2016 10:00</td>\n",
       "    </tr>\n",
       "    <tr>\n",
       "      <th>7</th>\n",
       "      <td>INC0000047</td>\n",
       "      <td>Active</td>\n",
       "      <td>True</td>\n",
       "      <td>1</td>\n",
       "      <td>0</td>\n",
       "      <td>3</td>\n",
       "      <td>True</td>\n",
       "      <td>Caller 2403</td>\n",
       "      <td>Opened by  397</td>\n",
       "      <td>29/2/2016 04:40</td>\n",
       "      <td>...</td>\n",
       "      <td>False</td>\n",
       "      <td>Do Not Notify</td>\n",
       "      <td>?</td>\n",
       "      <td>?</td>\n",
       "      <td>?</td>\n",
       "      <td>?</td>\n",
       "      <td>code 5</td>\n",
       "      <td>Resolved by 81</td>\n",
       "      <td>1/3/2016 09:52</td>\n",
       "      <td>6/3/2016 10:00</td>\n",
       "    </tr>\n",
       "    <tr>\n",
       "      <th>8</th>\n",
       "      <td>INC0000047</td>\n",
       "      <td>Active</td>\n",
       "      <td>True</td>\n",
       "      <td>1</td>\n",
       "      <td>0</td>\n",
       "      <td>4</td>\n",
       "      <td>True</td>\n",
       "      <td>Caller 2403</td>\n",
       "      <td>Opened by  397</td>\n",
       "      <td>29/2/2016 04:40</td>\n",
       "      <td>...</td>\n",
       "      <td>False</td>\n",
       "      <td>Do Not Notify</td>\n",
       "      <td>?</td>\n",
       "      <td>?</td>\n",
       "      <td>?</td>\n",
       "      <td>?</td>\n",
       "      <td>code 5</td>\n",
       "      <td>Resolved by 81</td>\n",
       "      <td>1/3/2016 09:52</td>\n",
       "      <td>6/3/2016 10:00</td>\n",
       "    </tr>\n",
       "    <tr>\n",
       "      <th>9</th>\n",
       "      <td>INC0000047</td>\n",
       "      <td>Active</td>\n",
       "      <td>True</td>\n",
       "      <td>1</td>\n",
       "      <td>0</td>\n",
       "      <td>5</td>\n",
       "      <td>True</td>\n",
       "      <td>Caller 2403</td>\n",
       "      <td>Opened by  397</td>\n",
       "      <td>29/2/2016 04:40</td>\n",
       "      <td>...</td>\n",
       "      <td>False</td>\n",
       "      <td>Do Not Notify</td>\n",
       "      <td>?</td>\n",
       "      <td>?</td>\n",
       "      <td>?</td>\n",
       "      <td>?</td>\n",
       "      <td>code 5</td>\n",
       "      <td>Resolved by 81</td>\n",
       "      <td>1/3/2016 09:52</td>\n",
       "      <td>6/3/2016 10:00</td>\n",
       "    </tr>\n",
       "  </tbody>\n",
       "</table>\n",
       "<p>10 rows × 36 columns</p>\n",
       "</div>"
      ],
      "text/plain": [
       "       number incident_state  active  reassignment_count  reopen_count  \\\n",
       "0  INC0000045            New    True                   0             0   \n",
       "1  INC0000045       Resolved    True                   0             0   \n",
       "2  INC0000045       Resolved    True                   0             0   \n",
       "3  INC0000045         Closed   False                   0             0   \n",
       "4  INC0000047            New    True                   0             0   \n",
       "5  INC0000047         Active    True                   1             0   \n",
       "6  INC0000047         Active    True                   1             0   \n",
       "7  INC0000047         Active    True                   1             0   \n",
       "8  INC0000047         Active    True                   1             0   \n",
       "9  INC0000047         Active    True                   1             0   \n",
       "\n",
       "   sys_mod_count  made_sla    caller_id       opened_by        opened_at  ...  \\\n",
       "0              0      True  Caller 2403    Opened by  8  29/2/2016 01:16  ...   \n",
       "1              2      True  Caller 2403    Opened by  8  29/2/2016 01:16  ...   \n",
       "2              3      True  Caller 2403    Opened by  8  29/2/2016 01:16  ...   \n",
       "3              4      True  Caller 2403    Opened by  8  29/2/2016 01:16  ...   \n",
       "4              0      True  Caller 2403  Opened by  397  29/2/2016 04:40  ...   \n",
       "5              1      True  Caller 2403  Opened by  397  29/2/2016 04:40  ...   \n",
       "6              2      True  Caller 2403  Opened by  397  29/2/2016 04:40  ...   \n",
       "7              3      True  Caller 2403  Opened by  397  29/2/2016 04:40  ...   \n",
       "8              4      True  Caller 2403  Opened by  397  29/2/2016 04:40  ...   \n",
       "9              5      True  Caller 2403  Opened by  397  29/2/2016 04:40  ...   \n",
       "\n",
       "  u_priority_confirmation         notify problem_id rfc vendor caused_by  \\\n",
       "0                   False  Do Not Notify          ?   ?      ?         ?   \n",
       "1                   False  Do Not Notify          ?   ?      ?         ?   \n",
       "2                   False  Do Not Notify          ?   ?      ?         ?   \n",
       "3                   False  Do Not Notify          ?   ?      ?         ?   \n",
       "4                   False  Do Not Notify          ?   ?      ?         ?   \n",
       "5                   False  Do Not Notify          ?   ?      ?         ?   \n",
       "6                   False  Do Not Notify          ?   ?      ?         ?   \n",
       "7                   False  Do Not Notify          ?   ?      ?         ?   \n",
       "8                   False  Do Not Notify          ?   ?      ?         ?   \n",
       "9                   False  Do Not Notify          ?   ?      ?         ?   \n",
       "\n",
       "  closed_code      resolved_by      resolved_at       closed_at  \n",
       "0      code 5  Resolved by 149  29/2/2016 11:29  5/3/2016 12:00  \n",
       "1      code 5  Resolved by 149  29/2/2016 11:29  5/3/2016 12:00  \n",
       "2      code 5  Resolved by 149  29/2/2016 11:29  5/3/2016 12:00  \n",
       "3      code 5  Resolved by 149  29/2/2016 11:29  5/3/2016 12:00  \n",
       "4      code 5   Resolved by 81   1/3/2016 09:52  6/3/2016 10:00  \n",
       "5      code 5   Resolved by 81   1/3/2016 09:52  6/3/2016 10:00  \n",
       "6      code 5   Resolved by 81   1/3/2016 09:52  6/3/2016 10:00  \n",
       "7      code 5   Resolved by 81   1/3/2016 09:52  6/3/2016 10:00  \n",
       "8      code 5   Resolved by 81   1/3/2016 09:52  6/3/2016 10:00  \n",
       "9      code 5   Resolved by 81   1/3/2016 09:52  6/3/2016 10:00  \n",
       "\n",
       "[10 rows x 36 columns]"
      ]
     },
     "execution_count": 4,
     "metadata": {},
     "output_type": "execute_result"
    }
   ],
   "source": [
    "df.head(10)"
   ]
  },
  {
   "cell_type": "code",
   "execution_count": 5,
   "id": "4f6c42ae",
   "metadata": {},
   "outputs": [
    {
     "name": "stdout",
     "output_type": "stream",
     "text": [
      "<class 'pandas.core.frame.DataFrame'>\n",
      "RangeIndex: 141712 entries, 0 to 141711\n",
      "Data columns (total 36 columns):\n",
      " #   Column                   Non-Null Count   Dtype \n",
      "---  ------                   --------------   ----- \n",
      " 0   number                   141712 non-null  object\n",
      " 1   incident_state           141712 non-null  object\n",
      " 2   active                   141712 non-null  bool  \n",
      " 3   reassignment_count       141712 non-null  int64 \n",
      " 4   reopen_count             141712 non-null  int64 \n",
      " 5   sys_mod_count            141712 non-null  int64 \n",
      " 6   made_sla                 141712 non-null  bool  \n",
      " 7   caller_id                141712 non-null  object\n",
      " 8   opened_by                141712 non-null  object\n",
      " 9   opened_at                141712 non-null  object\n",
      " 10  sys_created_by           141712 non-null  object\n",
      " 11  sys_created_at           141712 non-null  object\n",
      " 12  sys_updated_by           141712 non-null  object\n",
      " 13  sys_updated_at           141712 non-null  object\n",
      " 14  contact_type             141712 non-null  object\n",
      " 15  location                 141712 non-null  object\n",
      " 16  category                 141712 non-null  object\n",
      " 17  subcategory              141712 non-null  object\n",
      " 18  u_symptom                141712 non-null  object\n",
      " 19  cmdb_ci                  141712 non-null  object\n",
      " 20  impact                   141712 non-null  object\n",
      " 21  urgency                  141712 non-null  object\n",
      " 22  priority                 141712 non-null  object\n",
      " 23  assignment_group         141712 non-null  object\n",
      " 24  assigned_to              141712 non-null  object\n",
      " 25  knowledge                141712 non-null  bool  \n",
      " 26  u_priority_confirmation  141712 non-null  bool  \n",
      " 27  notify                   141712 non-null  object\n",
      " 28  problem_id               141712 non-null  object\n",
      " 29  rfc                      141712 non-null  object\n",
      " 30  vendor                   141712 non-null  object\n",
      " 31  caused_by                141712 non-null  object\n",
      " 32  closed_code              141712 non-null  object\n",
      " 33  resolved_by              141712 non-null  object\n",
      " 34  resolved_at              141712 non-null  object\n",
      " 35  closed_at                141712 non-null  object\n",
      "dtypes: bool(4), int64(3), object(29)\n",
      "memory usage: 35.1+ MB\n"
     ]
    }
   ],
   "source": [
    "df.info()"
   ]
  },
  {
   "cell_type": "markdown",
   "id": "721c28a3",
   "metadata": {},
   "source": [
    "Atributi koji označavaju vreme neke akcije nisu od posebne važnosti za učenje modela."
   ]
  },
  {
   "cell_type": "code",
   "execution_count": 6,
   "id": "73091709",
   "metadata": {},
   "outputs": [],
   "source": [
    "timestamp_features = ['opened_at', 'sys_created_at', 'sys_updated_at', 'resolved_at', 'closed_at']\n",
    "df.drop(columns=timestamp_features, inplace=True)"
   ]
  },
  {
   "cell_type": "markdown",
   "id": "98f7ce7b",
   "metadata": {},
   "source": [
    "Neispravna vrednost se pojavljuje za atribut incident_state. Vrste sa tom vrednošću se mogu ukloniti."
   ]
  },
  {
   "cell_type": "code",
   "execution_count": 7,
   "id": "b52c1217",
   "metadata": {},
   "outputs": [
    {
     "data": {
      "text/plain": [
       "incident_state\n",
       "Active                38716\n",
       "New                   36407\n",
       "Resolved              25751\n",
       "Closed                24985\n",
       "Awaiting User Info    14642\n",
       "Awaiting Vendor         707\n",
       "Awaiting Problem        461\n",
       "Awaiting Evidence        38\n",
       "-100                      5\n",
       "Name: count, dtype: int64"
      ]
     },
     "execution_count": 7,
     "metadata": {},
     "output_type": "execute_result"
    }
   ],
   "source": [
    "df['incident_state'].value_counts()"
   ]
  },
  {
   "cell_type": "code",
   "execution_count": 8,
   "id": "32d58a63",
   "metadata": {},
   "outputs": [],
   "source": [
    "df = df[df['incident_state'] != '-100' ]"
   ]
  },
  {
   "cell_type": "code",
   "execution_count": 9,
   "id": "c1047fe8",
   "metadata": {},
   "outputs": [
    {
     "data": {
      "text/plain": [
       "(141707, 31)"
      ]
     },
     "execution_count": 9,
     "metadata": {},
     "output_type": "execute_result"
    }
   ],
   "source": [
    "df.shape"
   ]
  },
  {
   "cell_type": "markdown",
   "id": "3f0339c8",
   "metadata": {},
   "source": [
    "Kako bi se kasnije lakše razlikovali tipovi čvorova pri konstrukciji grafa, dobra je ideja da se glavni skup podataka podeli na više tabela koje odgovaraju svakom entitetu (`incident`, `support_org`, `customer`, `vendor`)."
   ]
  },
  {
   "cell_type": "code",
   "execution_count": 10,
   "id": "cf2ce44f",
   "metadata": {},
   "outputs": [
    {
     "data": {
      "text/plain": [
       "Index(['number', 'incident_state', 'active', 'reassignment_count',\n",
       "       'reopen_count', 'sys_mod_count', 'made_sla', 'caller_id', 'opened_by',\n",
       "       'sys_created_by', 'sys_updated_by', 'contact_type', 'location',\n",
       "       'category', 'subcategory', 'u_symptom', 'cmdb_ci', 'impact', 'urgency',\n",
       "       'priority', 'assignment_group', 'assigned_to', 'knowledge',\n",
       "       'u_priority_confirmation', 'notify', 'problem_id', 'rfc', 'vendor',\n",
       "       'caused_by', 'closed_code', 'resolved_by'],\n",
       "      dtype='object')"
      ]
     },
     "execution_count": 10,
     "metadata": {},
     "output_type": "execute_result"
    }
   ],
   "source": [
    "df.columns"
   ]
  },
  {
   "cell_type": "code",
   "execution_count": 11,
   "id": "995ac829",
   "metadata": {},
   "outputs": [],
   "source": [
    "incident_cols = ['number', 'incident_state', 'active', 'reassignment_count',\n",
    "        'reopen_count', 'sys_mod_count', 'made_sla', 'caller_id','sys_created_by', 'sys_updated_by', \n",
    "        'contact_type', 'location', 'category', 'subcategory', 'u_symptom', 'cmdb_ci', 'impact', 'urgency',\n",
    "        'priority', 'knowledge', 'u_priority_confirmation', 'notify', 'problem_id', 'rfc',\n",
    "        'caused_by', 'closed_code', 'resolved_by']\n",
    "support_org_cols = ['number', 'assignment_group', 'assigned_to']\n",
    "customer_cols = ['number', 'opened_by']\n",
    "vendor_cols = ['number', 'vendor']"
   ]
  },
  {
   "cell_type": "markdown",
   "id": "01a7c570",
   "metadata": {},
   "source": [
    "Pomoćna funkcija za proveru broja nedostajućih vrednosti"
   ]
  },
  {
   "cell_type": "code",
   "execution_count": 12,
   "id": "b1b5de8d",
   "metadata": {},
   "outputs": [],
   "source": [
    "def count_missing(df, col):\n",
    "    return sum(df[col].values == '?')"
   ]
  },
  {
   "cell_type": "code",
   "execution_count": 13,
   "id": "5d140ef4",
   "metadata": {},
   "outputs": [],
   "source": [
    "def exctractIds(value):\n",
    "    return value.split(sep=' ')[-1]"
   ]
  },
  {
   "cell_type": "markdown",
   "id": "93661231",
   "metadata": {},
   "source": [
    "### Tabela support_org"
   ]
  },
  {
   "cell_type": "code",
   "execution_count": 14,
   "id": "c3619ab0",
   "metadata": {},
   "outputs": [],
   "source": [
    "df_support_org = df[support_org_cols]"
   ]
  },
  {
   "cell_type": "code",
   "execution_count": 15,
   "id": "ef73b99d",
   "metadata": {},
   "outputs": [
    {
     "data": {
      "text/html": [
       "<div>\n",
       "<style scoped>\n",
       "    .dataframe tbody tr th:only-of-type {\n",
       "        vertical-align: middle;\n",
       "    }\n",
       "\n",
       "    .dataframe tbody tr th {\n",
       "        vertical-align: top;\n",
       "    }\n",
       "\n",
       "    .dataframe thead th {\n",
       "        text-align: right;\n",
       "    }\n",
       "</style>\n",
       "<table border=\"1\" class=\"dataframe\">\n",
       "  <thead>\n",
       "    <tr style=\"text-align: right;\">\n",
       "      <th></th>\n",
       "      <th>number</th>\n",
       "      <th>assignment_group</th>\n",
       "      <th>assigned_to</th>\n",
       "    </tr>\n",
       "  </thead>\n",
       "  <tbody>\n",
       "    <tr>\n",
       "      <th>0</th>\n",
       "      <td>INC0000045</td>\n",
       "      <td>Group 56</td>\n",
       "      <td>?</td>\n",
       "    </tr>\n",
       "    <tr>\n",
       "      <th>1</th>\n",
       "      <td>INC0000045</td>\n",
       "      <td>Group 56</td>\n",
       "      <td>?</td>\n",
       "    </tr>\n",
       "    <tr>\n",
       "      <th>2</th>\n",
       "      <td>INC0000045</td>\n",
       "      <td>Group 56</td>\n",
       "      <td>?</td>\n",
       "    </tr>\n",
       "    <tr>\n",
       "      <th>3</th>\n",
       "      <td>INC0000045</td>\n",
       "      <td>Group 56</td>\n",
       "      <td>?</td>\n",
       "    </tr>\n",
       "    <tr>\n",
       "      <th>4</th>\n",
       "      <td>INC0000047</td>\n",
       "      <td>Group 70</td>\n",
       "      <td>Resolver 89</td>\n",
       "    </tr>\n",
       "    <tr>\n",
       "      <th>5</th>\n",
       "      <td>INC0000047</td>\n",
       "      <td>Group 24</td>\n",
       "      <td>Resolver 31</td>\n",
       "    </tr>\n",
       "    <tr>\n",
       "      <th>6</th>\n",
       "      <td>INC0000047</td>\n",
       "      <td>Group 24</td>\n",
       "      <td>Resolver 31</td>\n",
       "    </tr>\n",
       "    <tr>\n",
       "      <th>7</th>\n",
       "      <td>INC0000047</td>\n",
       "      <td>Group 24</td>\n",
       "      <td>Resolver 31</td>\n",
       "    </tr>\n",
       "    <tr>\n",
       "      <th>8</th>\n",
       "      <td>INC0000047</td>\n",
       "      <td>Group 24</td>\n",
       "      <td>Resolver 31</td>\n",
       "    </tr>\n",
       "    <tr>\n",
       "      <th>9</th>\n",
       "      <td>INC0000047</td>\n",
       "      <td>Group 24</td>\n",
       "      <td>Resolver 31</td>\n",
       "    </tr>\n",
       "  </tbody>\n",
       "</table>\n",
       "</div>"
      ],
      "text/plain": [
       "       number assignment_group  assigned_to\n",
       "0  INC0000045         Group 56            ?\n",
       "1  INC0000045         Group 56            ?\n",
       "2  INC0000045         Group 56            ?\n",
       "3  INC0000045         Group 56            ?\n",
       "4  INC0000047         Group 70  Resolver 89\n",
       "5  INC0000047         Group 24  Resolver 31\n",
       "6  INC0000047         Group 24  Resolver 31\n",
       "7  INC0000047         Group 24  Resolver 31\n",
       "8  INC0000047         Group 24  Resolver 31\n",
       "9  INC0000047         Group 24  Resolver 31"
      ]
     },
     "execution_count": 15,
     "metadata": {},
     "output_type": "execute_result"
    }
   ],
   "source": [
    "df_support_org.head(10)"
   ]
  },
  {
   "cell_type": "markdown",
   "id": "4da7fdea",
   "metadata": {},
   "source": [
    "Prefiksi `Group` i `Resolver` nemaju nikakvo značenje, pa se mogu izvući samo numeričke vrednosti."
   ]
  },
  {
   "cell_type": "code",
   "execution_count": 16,
   "id": "96c5a516",
   "metadata": {},
   "outputs": [],
   "source": [
    "for col in support_org_cols[1:]:\n",
    "    df_support_org[col] = df_support_org[col].apply(exctractIds)"
   ]
  },
  {
   "cell_type": "code",
   "execution_count": 17,
   "id": "db8813eb",
   "metadata": {},
   "outputs": [
    {
     "data": {
      "text/html": [
       "<div>\n",
       "<style scoped>\n",
       "    .dataframe tbody tr th:only-of-type {\n",
       "        vertical-align: middle;\n",
       "    }\n",
       "\n",
       "    .dataframe tbody tr th {\n",
       "        vertical-align: top;\n",
       "    }\n",
       "\n",
       "    .dataframe thead th {\n",
       "        text-align: right;\n",
       "    }\n",
       "</style>\n",
       "<table border=\"1\" class=\"dataframe\">\n",
       "  <thead>\n",
       "    <tr style=\"text-align: right;\">\n",
       "      <th></th>\n",
       "      <th>number</th>\n",
       "      <th>assignment_group</th>\n",
       "      <th>assigned_to</th>\n",
       "    </tr>\n",
       "  </thead>\n",
       "  <tbody>\n",
       "    <tr>\n",
       "      <th>0</th>\n",
       "      <td>INC0000045</td>\n",
       "      <td>56</td>\n",
       "      <td>?</td>\n",
       "    </tr>\n",
       "    <tr>\n",
       "      <th>1</th>\n",
       "      <td>INC0000045</td>\n",
       "      <td>56</td>\n",
       "      <td>?</td>\n",
       "    </tr>\n",
       "    <tr>\n",
       "      <th>2</th>\n",
       "      <td>INC0000045</td>\n",
       "      <td>56</td>\n",
       "      <td>?</td>\n",
       "    </tr>\n",
       "    <tr>\n",
       "      <th>3</th>\n",
       "      <td>INC0000045</td>\n",
       "      <td>56</td>\n",
       "      <td>?</td>\n",
       "    </tr>\n",
       "    <tr>\n",
       "      <th>4</th>\n",
       "      <td>INC0000047</td>\n",
       "      <td>70</td>\n",
       "      <td>89</td>\n",
       "    </tr>\n",
       "    <tr>\n",
       "      <th>5</th>\n",
       "      <td>INC0000047</td>\n",
       "      <td>24</td>\n",
       "      <td>31</td>\n",
       "    </tr>\n",
       "    <tr>\n",
       "      <th>6</th>\n",
       "      <td>INC0000047</td>\n",
       "      <td>24</td>\n",
       "      <td>31</td>\n",
       "    </tr>\n",
       "    <tr>\n",
       "      <th>7</th>\n",
       "      <td>INC0000047</td>\n",
       "      <td>24</td>\n",
       "      <td>31</td>\n",
       "    </tr>\n",
       "    <tr>\n",
       "      <th>8</th>\n",
       "      <td>INC0000047</td>\n",
       "      <td>24</td>\n",
       "      <td>31</td>\n",
       "    </tr>\n",
       "    <tr>\n",
       "      <th>9</th>\n",
       "      <td>INC0000047</td>\n",
       "      <td>24</td>\n",
       "      <td>31</td>\n",
       "    </tr>\n",
       "  </tbody>\n",
       "</table>\n",
       "</div>"
      ],
      "text/plain": [
       "       number assignment_group assigned_to\n",
       "0  INC0000045               56           ?\n",
       "1  INC0000045               56           ?\n",
       "2  INC0000045               56           ?\n",
       "3  INC0000045               56           ?\n",
       "4  INC0000047               70          89\n",
       "5  INC0000047               24          31\n",
       "6  INC0000047               24          31\n",
       "7  INC0000047               24          31\n",
       "8  INC0000047               24          31\n",
       "9  INC0000047               24          31"
      ]
     },
     "execution_count": 17,
     "metadata": {},
     "output_type": "execute_result"
    }
   ],
   "source": [
    "df_support_org.head(10)"
   ]
  },
  {
   "cell_type": "code",
   "execution_count": 18,
   "id": "4ff01414",
   "metadata": {},
   "outputs": [
    {
     "data": {
      "text/plain": [
       "[14213, 27496]"
      ]
     },
     "execution_count": 18,
     "metadata": {},
     "output_type": "execute_result"
    }
   ],
   "source": [
    "[count_missing(df_support_org, 'assignment_group'), count_missing(df_support_org, 'assigned_to')]"
   ]
  },
  {
   "cell_type": "markdown",
   "id": "71b8e6a0",
   "metadata": {},
   "source": [
    "Vrednost `?` može da se posmatra kao posebna vrednost, pošto označava podatke koji su skriveni zbog privatnosti a ne kao nedostajuće vrednosti."
   ]
  },
  {
   "cell_type": "code",
   "execution_count": 19,
   "id": "e44e1c67",
   "metadata": {},
   "outputs": [],
   "source": [
    "df_support_org['assignment_group'] = df_support_org['assignment_group'].replace(to_replace='?', value='1').astype(int)\n",
    "df_support_org['assigned_to'] = df_support_org['assigned_to'].replace(to_replace='?', value='1').astype(int)"
   ]
  },
  {
   "cell_type": "code",
   "execution_count": 20,
   "id": "a65860bb",
   "metadata": {},
   "outputs": [
    {
     "name": "stdout",
     "output_type": "stream",
     "text": [
      "<class 'pandas.core.frame.DataFrame'>\n",
      "Index: 141707 entries, 0 to 141711\n",
      "Data columns (total 3 columns):\n",
      " #   Column            Non-Null Count   Dtype \n",
      "---  ------            --------------   ----- \n",
      " 0   number            141707 non-null  object\n",
      " 1   assignment_group  141707 non-null  int64 \n",
      " 2   assigned_to       141707 non-null  int64 \n",
      "dtypes: int64(2), object(1)\n",
      "memory usage: 4.3+ MB\n"
     ]
    }
   ],
   "source": [
    "df_support_org.info()"
   ]
  },
  {
   "cell_type": "markdown",
   "id": "2029f771",
   "metadata": {},
   "source": [
    "### Tabela customer"
   ]
  },
  {
   "cell_type": "markdown",
   "id": "920ba833",
   "metadata": {},
   "source": [
    "Kao i u prethodnom primeru, prefiks 'Opened by' kod vrednosti kolone `opened_by` se može izostaviti."
   ]
  },
  {
   "cell_type": "code",
   "execution_count": 21,
   "id": "d7acf143",
   "metadata": {},
   "outputs": [
    {
     "data": {
      "text/html": [
       "<div>\n",
       "<style scoped>\n",
       "    .dataframe tbody tr th:only-of-type {\n",
       "        vertical-align: middle;\n",
       "    }\n",
       "\n",
       "    .dataframe tbody tr th {\n",
       "        vertical-align: top;\n",
       "    }\n",
       "\n",
       "    .dataframe thead th {\n",
       "        text-align: right;\n",
       "    }\n",
       "</style>\n",
       "<table border=\"1\" class=\"dataframe\">\n",
       "  <thead>\n",
       "    <tr style=\"text-align: right;\">\n",
       "      <th></th>\n",
       "      <th>number</th>\n",
       "      <th>opened_by</th>\n",
       "    </tr>\n",
       "  </thead>\n",
       "  <tbody>\n",
       "    <tr>\n",
       "      <th>0</th>\n",
       "      <td>INC0000045</td>\n",
       "      <td>Opened by  8</td>\n",
       "    </tr>\n",
       "    <tr>\n",
       "      <th>1</th>\n",
       "      <td>INC0000045</td>\n",
       "      <td>Opened by  8</td>\n",
       "    </tr>\n",
       "    <tr>\n",
       "      <th>2</th>\n",
       "      <td>INC0000045</td>\n",
       "      <td>Opened by  8</td>\n",
       "    </tr>\n",
       "    <tr>\n",
       "      <th>3</th>\n",
       "      <td>INC0000045</td>\n",
       "      <td>Opened by  8</td>\n",
       "    </tr>\n",
       "    <tr>\n",
       "      <th>4</th>\n",
       "      <td>INC0000047</td>\n",
       "      <td>Opened by  397</td>\n",
       "    </tr>\n",
       "    <tr>\n",
       "      <th>5</th>\n",
       "      <td>INC0000047</td>\n",
       "      <td>Opened by  397</td>\n",
       "    </tr>\n",
       "    <tr>\n",
       "      <th>6</th>\n",
       "      <td>INC0000047</td>\n",
       "      <td>Opened by  397</td>\n",
       "    </tr>\n",
       "    <tr>\n",
       "      <th>7</th>\n",
       "      <td>INC0000047</td>\n",
       "      <td>Opened by  397</td>\n",
       "    </tr>\n",
       "    <tr>\n",
       "      <th>8</th>\n",
       "      <td>INC0000047</td>\n",
       "      <td>Opened by  397</td>\n",
       "    </tr>\n",
       "    <tr>\n",
       "      <th>9</th>\n",
       "      <td>INC0000047</td>\n",
       "      <td>Opened by  397</td>\n",
       "    </tr>\n",
       "  </tbody>\n",
       "</table>\n",
       "</div>"
      ],
      "text/plain": [
       "       number       opened_by\n",
       "0  INC0000045    Opened by  8\n",
       "1  INC0000045    Opened by  8\n",
       "2  INC0000045    Opened by  8\n",
       "3  INC0000045    Opened by  8\n",
       "4  INC0000047  Opened by  397\n",
       "5  INC0000047  Opened by  397\n",
       "6  INC0000047  Opened by  397\n",
       "7  INC0000047  Opened by  397\n",
       "8  INC0000047  Opened by  397\n",
       "9  INC0000047  Opened by  397"
      ]
     },
     "execution_count": 21,
     "metadata": {},
     "output_type": "execute_result"
    }
   ],
   "source": [
    "df_customer = df[customer_cols]\n",
    "df_customer.head(10)"
   ]
  },
  {
   "cell_type": "code",
   "execution_count": 22,
   "id": "9d124a2e",
   "metadata": {},
   "outputs": [],
   "source": [
    "df_customer['opened_by'] = df_customer['opened_by'].apply(exctractIds)"
   ]
  },
  {
   "cell_type": "code",
   "execution_count": 23,
   "id": "fbc976ff",
   "metadata": {},
   "outputs": [
    {
     "data": {
      "text/html": [
       "<div>\n",
       "<style scoped>\n",
       "    .dataframe tbody tr th:only-of-type {\n",
       "        vertical-align: middle;\n",
       "    }\n",
       "\n",
       "    .dataframe tbody tr th {\n",
       "        vertical-align: top;\n",
       "    }\n",
       "\n",
       "    .dataframe thead th {\n",
       "        text-align: right;\n",
       "    }\n",
       "</style>\n",
       "<table border=\"1\" class=\"dataframe\">\n",
       "  <thead>\n",
       "    <tr style=\"text-align: right;\">\n",
       "      <th></th>\n",
       "      <th>number</th>\n",
       "      <th>opened_by</th>\n",
       "    </tr>\n",
       "  </thead>\n",
       "  <tbody>\n",
       "    <tr>\n",
       "      <th>0</th>\n",
       "      <td>INC0000045</td>\n",
       "      <td>8</td>\n",
       "    </tr>\n",
       "    <tr>\n",
       "      <th>1</th>\n",
       "      <td>INC0000045</td>\n",
       "      <td>8</td>\n",
       "    </tr>\n",
       "    <tr>\n",
       "      <th>2</th>\n",
       "      <td>INC0000045</td>\n",
       "      <td>8</td>\n",
       "    </tr>\n",
       "    <tr>\n",
       "      <th>3</th>\n",
       "      <td>INC0000045</td>\n",
       "      <td>8</td>\n",
       "    </tr>\n",
       "    <tr>\n",
       "      <th>4</th>\n",
       "      <td>INC0000047</td>\n",
       "      <td>397</td>\n",
       "    </tr>\n",
       "    <tr>\n",
       "      <th>5</th>\n",
       "      <td>INC0000047</td>\n",
       "      <td>397</td>\n",
       "    </tr>\n",
       "    <tr>\n",
       "      <th>6</th>\n",
       "      <td>INC0000047</td>\n",
       "      <td>397</td>\n",
       "    </tr>\n",
       "    <tr>\n",
       "      <th>7</th>\n",
       "      <td>INC0000047</td>\n",
       "      <td>397</td>\n",
       "    </tr>\n",
       "    <tr>\n",
       "      <th>8</th>\n",
       "      <td>INC0000047</td>\n",
       "      <td>397</td>\n",
       "    </tr>\n",
       "    <tr>\n",
       "      <th>9</th>\n",
       "      <td>INC0000047</td>\n",
       "      <td>397</td>\n",
       "    </tr>\n",
       "  </tbody>\n",
       "</table>\n",
       "</div>"
      ],
      "text/plain": [
       "       number opened_by\n",
       "0  INC0000045         8\n",
       "1  INC0000045         8\n",
       "2  INC0000045         8\n",
       "3  INC0000045         8\n",
       "4  INC0000047       397\n",
       "5  INC0000047       397\n",
       "6  INC0000047       397\n",
       "7  INC0000047       397\n",
       "8  INC0000047       397\n",
       "9  INC0000047       397"
      ]
     },
     "execution_count": 23,
     "metadata": {},
     "output_type": "execute_result"
    }
   ],
   "source": [
    "df_customer.head(10)"
   ]
  },
  {
   "cell_type": "code",
   "execution_count": 24,
   "id": "f8328654",
   "metadata": {},
   "outputs": [
    {
     "data": {
      "text/plain": [
       "4835"
      ]
     },
     "execution_count": 24,
     "metadata": {},
     "output_type": "execute_result"
    }
   ],
   "source": [
    "count_missing(df_customer, 'opened_by')"
   ]
  },
  {
   "cell_type": "code",
   "execution_count": 25,
   "id": "cd011475",
   "metadata": {},
   "outputs": [
    {
     "data": {
      "text/plain": [
       "array(['8', '397', '180', '131', '24', '40', '433', '62', '501', '301',\n",
       "       '4', '55', '257', '128', '221', '386', '240', '325', '381', '185',\n",
       "       '191', '59', '239', '305', '443', '390', '512', '461', '536', '9',\n",
       "       '?', '226', '316', '120', '168', '503', '228', '155', '517', '247',\n",
       "       '444', '124', '47', '20', '431', '237', '441', '79', '505', '468',\n",
       "       '502', '267', '360', '142', '188', '174', '419', '317', '385',\n",
       "       '392', '460', '322', '2', '524', '533', '75', '157', '356', '402',\n",
       "       '368', '364', '12', '44', '193', '453', '17', '108', '351', '70',\n",
       "       '520', '465', '184', '58', '80', '10', '172', '467', '296', '119',\n",
       "       '528', '277', '423', '253', '60', '337', '369', '464', '91', '298',\n",
       "       '3', '500', '262', '39', '515', '530', '321', '319', '94', '255',\n",
       "       '73', '412', '246', '382', '109', '163', '242', '32', '463', '68',\n",
       "       '106', '320', '46', '350', '293', '354', '111', '535', '469',\n",
       "       '403', '147', '230', '219', '182', '151', '486', '72', '256',\n",
       "       '233', '472', '353', '122', '101', '90', '216', '430', '420',\n",
       "       '198', '265', '209', '346', '5', '280', '270', '144', '344', '212',\n",
       "       '118', '347', '462', '104', '194', '440', '483', '159', '481',\n",
       "       '30', '438', '141', '162', '14', '74', '223', '447', '77', '519',\n",
       "       '195', '148', '160', '54', '26', '370', '245', '448', '166', '275',\n",
       "       '435', '67', '455', '406', '66', '52', '313', '538', '318', '429',\n",
       "       '333', '150', '189', '452', '488', '389', '273', '211', '7', '88',\n",
       "       '271', '508', '490'], dtype=object)"
      ]
     },
     "execution_count": 25,
     "metadata": {},
     "output_type": "execute_result"
    }
   ],
   "source": [
    "df_customer['opened_by'].unique()"
   ]
  },
  {
   "cell_type": "markdown",
   "id": "503daed6",
   "metadata": {},
   "source": [
    "Nedostajuća vrednost `?` može da se posmatra kao posebna vrednost. Neka se `?` preslikava u neku numeričku vrednost, npr. 1."
   ]
  },
  {
   "cell_type": "code",
   "execution_count": 26,
   "id": "251a46d1",
   "metadata": {},
   "outputs": [],
   "source": [
    "df_customer['opened_by'].replace(to_replace='?', value='1', inplace=True)"
   ]
  },
  {
   "cell_type": "code",
   "execution_count": 27,
   "id": "351c19b7",
   "metadata": {},
   "outputs": [
    {
     "data": {
      "text/plain": [
       "0"
      ]
     },
     "execution_count": 27,
     "metadata": {},
     "output_type": "execute_result"
    }
   ],
   "source": [
    "count_missing(df_customer, 'opened_by')"
   ]
  },
  {
   "cell_type": "code",
   "execution_count": 28,
   "id": "eb8d0dc6",
   "metadata": {},
   "outputs": [],
   "source": [
    "df_customer['opened_by'] = df_customer['opened_by'].astype(int)"
   ]
  },
  {
   "cell_type": "code",
   "execution_count": 29,
   "id": "fda6b3cb",
   "metadata": {},
   "outputs": [
    {
     "name": "stdout",
     "output_type": "stream",
     "text": [
      "<class 'pandas.core.frame.DataFrame'>\n",
      "Index: 141707 entries, 0 to 141711\n",
      "Data columns (total 2 columns):\n",
      " #   Column     Non-Null Count   Dtype \n",
      "---  ------     --------------   ----- \n",
      " 0   number     141707 non-null  object\n",
      " 1   opened_by  141707 non-null  int64 \n",
      "dtypes: int64(1), object(1)\n",
      "memory usage: 3.2+ MB\n"
     ]
    }
   ],
   "source": [
    "df_customer.info()"
   ]
  },
  {
   "cell_type": "markdown",
   "id": "e222c1ef",
   "metadata": {},
   "source": [
    "### Tabela vendor"
   ]
  },
  {
   "cell_type": "code",
   "execution_count": 30,
   "id": "5a89bb62",
   "metadata": {},
   "outputs": [],
   "source": [
    "df_vendor = df[vendor_cols]"
   ]
  },
  {
   "cell_type": "code",
   "execution_count": 31,
   "id": "b4191662",
   "metadata": {},
   "outputs": [
    {
     "data": {
      "text/html": [
       "<div>\n",
       "<style scoped>\n",
       "    .dataframe tbody tr th:only-of-type {\n",
       "        vertical-align: middle;\n",
       "    }\n",
       "\n",
       "    .dataframe tbody tr th {\n",
       "        vertical-align: top;\n",
       "    }\n",
       "\n",
       "    .dataframe thead th {\n",
       "        text-align: right;\n",
       "    }\n",
       "</style>\n",
       "<table border=\"1\" class=\"dataframe\">\n",
       "  <thead>\n",
       "    <tr style=\"text-align: right;\">\n",
       "      <th></th>\n",
       "      <th>number</th>\n",
       "      <th>vendor</th>\n",
       "    </tr>\n",
       "  </thead>\n",
       "  <tbody>\n",
       "    <tr>\n",
       "      <th>0</th>\n",
       "      <td>INC0000045</td>\n",
       "      <td>?</td>\n",
       "    </tr>\n",
       "    <tr>\n",
       "      <th>1</th>\n",
       "      <td>INC0000045</td>\n",
       "      <td>?</td>\n",
       "    </tr>\n",
       "    <tr>\n",
       "      <th>2</th>\n",
       "      <td>INC0000045</td>\n",
       "      <td>?</td>\n",
       "    </tr>\n",
       "    <tr>\n",
       "      <th>3</th>\n",
       "      <td>INC0000045</td>\n",
       "      <td>?</td>\n",
       "    </tr>\n",
       "    <tr>\n",
       "      <th>4</th>\n",
       "      <td>INC0000047</td>\n",
       "      <td>?</td>\n",
       "    </tr>\n",
       "    <tr>\n",
       "      <th>5</th>\n",
       "      <td>INC0000047</td>\n",
       "      <td>?</td>\n",
       "    </tr>\n",
       "    <tr>\n",
       "      <th>6</th>\n",
       "      <td>INC0000047</td>\n",
       "      <td>?</td>\n",
       "    </tr>\n",
       "    <tr>\n",
       "      <th>7</th>\n",
       "      <td>INC0000047</td>\n",
       "      <td>?</td>\n",
       "    </tr>\n",
       "    <tr>\n",
       "      <th>8</th>\n",
       "      <td>INC0000047</td>\n",
       "      <td>?</td>\n",
       "    </tr>\n",
       "    <tr>\n",
       "      <th>9</th>\n",
       "      <td>INC0000047</td>\n",
       "      <td>?</td>\n",
       "    </tr>\n",
       "  </tbody>\n",
       "</table>\n",
       "</div>"
      ],
      "text/plain": [
       "       number vendor\n",
       "0  INC0000045      ?\n",
       "1  INC0000045      ?\n",
       "2  INC0000045      ?\n",
       "3  INC0000045      ?\n",
       "4  INC0000047      ?\n",
       "5  INC0000047      ?\n",
       "6  INC0000047      ?\n",
       "7  INC0000047      ?\n",
       "8  INC0000047      ?\n",
       "9  INC0000047      ?"
      ]
     },
     "execution_count": 31,
     "metadata": {},
     "output_type": "execute_result"
    }
   ],
   "source": [
    "df_vendor.head(10)"
   ]
  },
  {
   "cell_type": "code",
   "execution_count": 32,
   "id": "ceb6e239",
   "metadata": {},
   "outputs": [
    {
     "data": {
      "text/plain": [
       "vendor\n",
       "?           141463\n",
       "code 8s        167\n",
       "Vendor 1        69\n",
       "Vendor 3         6\n",
       "Vendor 2         2\n",
       "Name: count, dtype: int64"
      ]
     },
     "execution_count": 32,
     "metadata": {},
     "output_type": "execute_result"
    }
   ],
   "source": [
    "df_vendor['vendor'].value_counts()"
   ]
  },
  {
   "cell_type": "markdown",
   "id": "f46d6189",
   "metadata": {},
   "source": [
    "Kolona vendor sadrži veliki broj skrivenih vrednosti s obzirom da su u pitanju osetljivi podaci. Kako je ova kolona bitna za tip čvora vendor, bolje je zameniti ove vrednosti drugim vrednostima na nasumičan način (iako nije idealno rešenje)."
   ]
  },
  {
   "cell_type": "code",
   "execution_count": 33,
   "id": "303484c0",
   "metadata": {},
   "outputs": [
    {
     "data": {
      "text/plain": [
       "['code 8s', 'Vendor 1', 'Vendor 3', 'Vendor 2']"
      ]
     },
     "execution_count": 33,
     "metadata": {},
     "output_type": "execute_result"
    }
   ],
   "source": [
    "vendor_list = list(df_vendor['vendor'].value_counts().keys()[1:])\n",
    "vendor_list"
   ]
  },
  {
   "cell_type": "code",
   "execution_count": 34,
   "id": "a1586f1d",
   "metadata": {},
   "outputs": [
    {
     "data": {
      "text/plain": [
       "array([167,  69,   6,   2])"
      ]
     },
     "execution_count": 34,
     "metadata": {},
     "output_type": "execute_result"
    }
   ],
   "source": [
    "vendor_weights = df_vendor['vendor'].value_counts().values[1:]\n",
    "vendor_weights"
   ]
  },
  {
   "cell_type": "code",
   "execution_count": 35,
   "id": "4486b26d",
   "metadata": {},
   "outputs": [],
   "source": [
    "mask = df_vendor['vendor'].values == '?'"
   ]
  },
  {
   "cell_type": "code",
   "execution_count": 36,
   "id": "3a29f683",
   "metadata": {},
   "outputs": [
    {
     "data": {
      "text/plain": [
       "141463"
      ]
     },
     "execution_count": 36,
     "metadata": {},
     "output_type": "execute_result"
    }
   ],
   "source": [
    "num_missing = sum(mask)\n",
    "num_missing"
   ]
  },
  {
   "cell_type": "code",
   "execution_count": 37,
   "id": "1d085bd0",
   "metadata": {},
   "outputs": [
    {
     "data": {
      "text/plain": [
       "vendor\n",
       "code 8s     96840\n",
       "Vendor 1    40127\n",
       "Vendor 3     3573\n",
       "Vendor 2     1167\n",
       "Name: count, dtype: int64"
      ]
     },
     "execution_count": 37,
     "metadata": {},
     "output_type": "execute_result"
    }
   ],
   "source": [
    "df_vendor['vendor'].values[mask] = random.choices(vendor_list, weights=vendor_weights, k=num_missing)\n",
    "df_vendor['vendor'].value_counts()"
   ]
  },
  {
   "cell_type": "markdown",
   "id": "43644a2e",
   "metadata": {},
   "source": [
    "### Tabela incident"
   ]
  },
  {
   "cell_type": "code",
   "execution_count": 38,
   "id": "a7c152c3",
   "metadata": {},
   "outputs": [],
   "source": [
    "pd.set_option('display.max_columns', None)  "
   ]
  },
  {
   "cell_type": "code",
   "execution_count": 39,
   "id": "81ca3d48",
   "metadata": {},
   "outputs": [
    {
     "data": {
      "text/html": [
       "<div>\n",
       "<style scoped>\n",
       "    .dataframe tbody tr th:only-of-type {\n",
       "        vertical-align: middle;\n",
       "    }\n",
       "\n",
       "    .dataframe tbody tr th {\n",
       "        vertical-align: top;\n",
       "    }\n",
       "\n",
       "    .dataframe thead th {\n",
       "        text-align: right;\n",
       "    }\n",
       "</style>\n",
       "<table border=\"1\" class=\"dataframe\">\n",
       "  <thead>\n",
       "    <tr style=\"text-align: right;\">\n",
       "      <th></th>\n",
       "      <th>number</th>\n",
       "      <th>incident_state</th>\n",
       "      <th>active</th>\n",
       "      <th>reassignment_count</th>\n",
       "      <th>reopen_count</th>\n",
       "      <th>sys_mod_count</th>\n",
       "      <th>made_sla</th>\n",
       "      <th>caller_id</th>\n",
       "      <th>sys_created_by</th>\n",
       "      <th>sys_updated_by</th>\n",
       "      <th>contact_type</th>\n",
       "      <th>location</th>\n",
       "      <th>category</th>\n",
       "      <th>subcategory</th>\n",
       "      <th>u_symptom</th>\n",
       "      <th>cmdb_ci</th>\n",
       "      <th>impact</th>\n",
       "      <th>urgency</th>\n",
       "      <th>priority</th>\n",
       "      <th>knowledge</th>\n",
       "      <th>u_priority_confirmation</th>\n",
       "      <th>notify</th>\n",
       "      <th>problem_id</th>\n",
       "      <th>rfc</th>\n",
       "      <th>caused_by</th>\n",
       "      <th>closed_code</th>\n",
       "      <th>resolved_by</th>\n",
       "    </tr>\n",
       "  </thead>\n",
       "  <tbody>\n",
       "    <tr>\n",
       "      <th>0</th>\n",
       "      <td>INC0000045</td>\n",
       "      <td>New</td>\n",
       "      <td>True</td>\n",
       "      <td>0</td>\n",
       "      <td>0</td>\n",
       "      <td>0</td>\n",
       "      <td>True</td>\n",
       "      <td>Caller 2403</td>\n",
       "      <td>Created by 6</td>\n",
       "      <td>Updated by 21</td>\n",
       "      <td>Phone</td>\n",
       "      <td>Location 143</td>\n",
       "      <td>Category 55</td>\n",
       "      <td>Subcategory 170</td>\n",
       "      <td>Symptom 72</td>\n",
       "      <td>?</td>\n",
       "      <td>2 - Medium</td>\n",
       "      <td>2 - Medium</td>\n",
       "      <td>3 - Moderate</td>\n",
       "      <td>True</td>\n",
       "      <td>False</td>\n",
       "      <td>Do Not Notify</td>\n",
       "      <td>?</td>\n",
       "      <td>?</td>\n",
       "      <td>?</td>\n",
       "      <td>code 5</td>\n",
       "      <td>Resolved by 149</td>\n",
       "    </tr>\n",
       "    <tr>\n",
       "      <th>1</th>\n",
       "      <td>INC0000045</td>\n",
       "      <td>Resolved</td>\n",
       "      <td>True</td>\n",
       "      <td>0</td>\n",
       "      <td>0</td>\n",
       "      <td>2</td>\n",
       "      <td>True</td>\n",
       "      <td>Caller 2403</td>\n",
       "      <td>Created by 6</td>\n",
       "      <td>Updated by 642</td>\n",
       "      <td>Phone</td>\n",
       "      <td>Location 143</td>\n",
       "      <td>Category 55</td>\n",
       "      <td>Subcategory 170</td>\n",
       "      <td>Symptom 72</td>\n",
       "      <td>?</td>\n",
       "      <td>2 - Medium</td>\n",
       "      <td>2 - Medium</td>\n",
       "      <td>3 - Moderate</td>\n",
       "      <td>True</td>\n",
       "      <td>False</td>\n",
       "      <td>Do Not Notify</td>\n",
       "      <td>?</td>\n",
       "      <td>?</td>\n",
       "      <td>?</td>\n",
       "      <td>code 5</td>\n",
       "      <td>Resolved by 149</td>\n",
       "    </tr>\n",
       "    <tr>\n",
       "      <th>2</th>\n",
       "      <td>INC0000045</td>\n",
       "      <td>Resolved</td>\n",
       "      <td>True</td>\n",
       "      <td>0</td>\n",
       "      <td>0</td>\n",
       "      <td>3</td>\n",
       "      <td>True</td>\n",
       "      <td>Caller 2403</td>\n",
       "      <td>Created by 6</td>\n",
       "      <td>Updated by 804</td>\n",
       "      <td>Phone</td>\n",
       "      <td>Location 143</td>\n",
       "      <td>Category 55</td>\n",
       "      <td>Subcategory 170</td>\n",
       "      <td>Symptom 72</td>\n",
       "      <td>?</td>\n",
       "      <td>2 - Medium</td>\n",
       "      <td>2 - Medium</td>\n",
       "      <td>3 - Moderate</td>\n",
       "      <td>True</td>\n",
       "      <td>False</td>\n",
       "      <td>Do Not Notify</td>\n",
       "      <td>?</td>\n",
       "      <td>?</td>\n",
       "      <td>?</td>\n",
       "      <td>code 5</td>\n",
       "      <td>Resolved by 149</td>\n",
       "    </tr>\n",
       "    <tr>\n",
       "      <th>3</th>\n",
       "      <td>INC0000045</td>\n",
       "      <td>Closed</td>\n",
       "      <td>False</td>\n",
       "      <td>0</td>\n",
       "      <td>0</td>\n",
       "      <td>4</td>\n",
       "      <td>True</td>\n",
       "      <td>Caller 2403</td>\n",
       "      <td>Created by 6</td>\n",
       "      <td>Updated by 908</td>\n",
       "      <td>Phone</td>\n",
       "      <td>Location 143</td>\n",
       "      <td>Category 55</td>\n",
       "      <td>Subcategory 170</td>\n",
       "      <td>Symptom 72</td>\n",
       "      <td>?</td>\n",
       "      <td>2 - Medium</td>\n",
       "      <td>2 - Medium</td>\n",
       "      <td>3 - Moderate</td>\n",
       "      <td>True</td>\n",
       "      <td>False</td>\n",
       "      <td>Do Not Notify</td>\n",
       "      <td>?</td>\n",
       "      <td>?</td>\n",
       "      <td>?</td>\n",
       "      <td>code 5</td>\n",
       "      <td>Resolved by 149</td>\n",
       "    </tr>\n",
       "    <tr>\n",
       "      <th>4</th>\n",
       "      <td>INC0000047</td>\n",
       "      <td>New</td>\n",
       "      <td>True</td>\n",
       "      <td>0</td>\n",
       "      <td>0</td>\n",
       "      <td>0</td>\n",
       "      <td>True</td>\n",
       "      <td>Caller 2403</td>\n",
       "      <td>Created by 171</td>\n",
       "      <td>Updated by 746</td>\n",
       "      <td>Phone</td>\n",
       "      <td>Location 165</td>\n",
       "      <td>Category 40</td>\n",
       "      <td>Subcategory 215</td>\n",
       "      <td>Symptom 471</td>\n",
       "      <td>?</td>\n",
       "      <td>2 - Medium</td>\n",
       "      <td>2 - Medium</td>\n",
       "      <td>3 - Moderate</td>\n",
       "      <td>True</td>\n",
       "      <td>False</td>\n",
       "      <td>Do Not Notify</td>\n",
       "      <td>?</td>\n",
       "      <td>?</td>\n",
       "      <td>?</td>\n",
       "      <td>code 5</td>\n",
       "      <td>Resolved by 81</td>\n",
       "    </tr>\n",
       "    <tr>\n",
       "      <th>5</th>\n",
       "      <td>INC0000047</td>\n",
       "      <td>Active</td>\n",
       "      <td>True</td>\n",
       "      <td>1</td>\n",
       "      <td>0</td>\n",
       "      <td>1</td>\n",
       "      <td>True</td>\n",
       "      <td>Caller 2403</td>\n",
       "      <td>Created by 171</td>\n",
       "      <td>Updated by 21</td>\n",
       "      <td>Phone</td>\n",
       "      <td>Location 165</td>\n",
       "      <td>Category 40</td>\n",
       "      <td>Subcategory 215</td>\n",
       "      <td>Symptom 471</td>\n",
       "      <td>?</td>\n",
       "      <td>2 - Medium</td>\n",
       "      <td>2 - Medium</td>\n",
       "      <td>3 - Moderate</td>\n",
       "      <td>True</td>\n",
       "      <td>False</td>\n",
       "      <td>Do Not Notify</td>\n",
       "      <td>?</td>\n",
       "      <td>?</td>\n",
       "      <td>?</td>\n",
       "      <td>code 5</td>\n",
       "      <td>Resolved by 81</td>\n",
       "    </tr>\n",
       "    <tr>\n",
       "      <th>6</th>\n",
       "      <td>INC0000047</td>\n",
       "      <td>Active</td>\n",
       "      <td>True</td>\n",
       "      <td>1</td>\n",
       "      <td>0</td>\n",
       "      <td>2</td>\n",
       "      <td>True</td>\n",
       "      <td>Caller 2403</td>\n",
       "      <td>Created by 171</td>\n",
       "      <td>Updated by 21</td>\n",
       "      <td>Phone</td>\n",
       "      <td>Location 165</td>\n",
       "      <td>Category 40</td>\n",
       "      <td>Subcategory 215</td>\n",
       "      <td>Symptom 471</td>\n",
       "      <td>?</td>\n",
       "      <td>2 - Medium</td>\n",
       "      <td>2 - Medium</td>\n",
       "      <td>3 - Moderate</td>\n",
       "      <td>True</td>\n",
       "      <td>False</td>\n",
       "      <td>Do Not Notify</td>\n",
       "      <td>?</td>\n",
       "      <td>?</td>\n",
       "      <td>?</td>\n",
       "      <td>code 5</td>\n",
       "      <td>Resolved by 81</td>\n",
       "    </tr>\n",
       "    <tr>\n",
       "      <th>7</th>\n",
       "      <td>INC0000047</td>\n",
       "      <td>Active</td>\n",
       "      <td>True</td>\n",
       "      <td>1</td>\n",
       "      <td>0</td>\n",
       "      <td>3</td>\n",
       "      <td>True</td>\n",
       "      <td>Caller 2403</td>\n",
       "      <td>Created by 171</td>\n",
       "      <td>Updated by 804</td>\n",
       "      <td>Phone</td>\n",
       "      <td>Location 165</td>\n",
       "      <td>Category 40</td>\n",
       "      <td>Subcategory 215</td>\n",
       "      <td>Symptom 471</td>\n",
       "      <td>?</td>\n",
       "      <td>2 - Medium</td>\n",
       "      <td>2 - Medium</td>\n",
       "      <td>3 - Moderate</td>\n",
       "      <td>True</td>\n",
       "      <td>False</td>\n",
       "      <td>Do Not Notify</td>\n",
       "      <td>?</td>\n",
       "      <td>?</td>\n",
       "      <td>?</td>\n",
       "      <td>code 5</td>\n",
       "      <td>Resolved by 81</td>\n",
       "    </tr>\n",
       "    <tr>\n",
       "      <th>8</th>\n",
       "      <td>INC0000047</td>\n",
       "      <td>Active</td>\n",
       "      <td>True</td>\n",
       "      <td>1</td>\n",
       "      <td>0</td>\n",
       "      <td>4</td>\n",
       "      <td>True</td>\n",
       "      <td>Caller 2403</td>\n",
       "      <td>Created by 171</td>\n",
       "      <td>Updated by 703</td>\n",
       "      <td>Phone</td>\n",
       "      <td>Location 165</td>\n",
       "      <td>Category 40</td>\n",
       "      <td>Subcategory 215</td>\n",
       "      <td>Symptom 471</td>\n",
       "      <td>?</td>\n",
       "      <td>2 - Medium</td>\n",
       "      <td>2 - Medium</td>\n",
       "      <td>3 - Moderate</td>\n",
       "      <td>True</td>\n",
       "      <td>False</td>\n",
       "      <td>Do Not Notify</td>\n",
       "      <td>?</td>\n",
       "      <td>?</td>\n",
       "      <td>?</td>\n",
       "      <td>code 5</td>\n",
       "      <td>Resolved by 81</td>\n",
       "    </tr>\n",
       "    <tr>\n",
       "      <th>9</th>\n",
       "      <td>INC0000047</td>\n",
       "      <td>Active</td>\n",
       "      <td>True</td>\n",
       "      <td>1</td>\n",
       "      <td>0</td>\n",
       "      <td>5</td>\n",
       "      <td>True</td>\n",
       "      <td>Caller 2403</td>\n",
       "      <td>Created by 171</td>\n",
       "      <td>Updated by 332</td>\n",
       "      <td>Phone</td>\n",
       "      <td>Location 165</td>\n",
       "      <td>Category 40</td>\n",
       "      <td>Subcategory 215</td>\n",
       "      <td>Symptom 471</td>\n",
       "      <td>?</td>\n",
       "      <td>2 - Medium</td>\n",
       "      <td>2 - Medium</td>\n",
       "      <td>3 - Moderate</td>\n",
       "      <td>True</td>\n",
       "      <td>False</td>\n",
       "      <td>Do Not Notify</td>\n",
       "      <td>?</td>\n",
       "      <td>?</td>\n",
       "      <td>?</td>\n",
       "      <td>code 5</td>\n",
       "      <td>Resolved by 81</td>\n",
       "    </tr>\n",
       "  </tbody>\n",
       "</table>\n",
       "</div>"
      ],
      "text/plain": [
       "       number incident_state  active  reassignment_count  reopen_count  \\\n",
       "0  INC0000045            New    True                   0             0   \n",
       "1  INC0000045       Resolved    True                   0             0   \n",
       "2  INC0000045       Resolved    True                   0             0   \n",
       "3  INC0000045         Closed   False                   0             0   \n",
       "4  INC0000047            New    True                   0             0   \n",
       "5  INC0000047         Active    True                   1             0   \n",
       "6  INC0000047         Active    True                   1             0   \n",
       "7  INC0000047         Active    True                   1             0   \n",
       "8  INC0000047         Active    True                   1             0   \n",
       "9  INC0000047         Active    True                   1             0   \n",
       "\n",
       "   sys_mod_count  made_sla    caller_id  sys_created_by  sys_updated_by  \\\n",
       "0              0      True  Caller 2403    Created by 6   Updated by 21   \n",
       "1              2      True  Caller 2403    Created by 6  Updated by 642   \n",
       "2              3      True  Caller 2403    Created by 6  Updated by 804   \n",
       "3              4      True  Caller 2403    Created by 6  Updated by 908   \n",
       "4              0      True  Caller 2403  Created by 171  Updated by 746   \n",
       "5              1      True  Caller 2403  Created by 171   Updated by 21   \n",
       "6              2      True  Caller 2403  Created by 171   Updated by 21   \n",
       "7              3      True  Caller 2403  Created by 171  Updated by 804   \n",
       "8              4      True  Caller 2403  Created by 171  Updated by 703   \n",
       "9              5      True  Caller 2403  Created by 171  Updated by 332   \n",
       "\n",
       "  contact_type      location     category      subcategory    u_symptom  \\\n",
       "0        Phone  Location 143  Category 55  Subcategory 170   Symptom 72   \n",
       "1        Phone  Location 143  Category 55  Subcategory 170   Symptom 72   \n",
       "2        Phone  Location 143  Category 55  Subcategory 170   Symptom 72   \n",
       "3        Phone  Location 143  Category 55  Subcategory 170   Symptom 72   \n",
       "4        Phone  Location 165  Category 40  Subcategory 215  Symptom 471   \n",
       "5        Phone  Location 165  Category 40  Subcategory 215  Symptom 471   \n",
       "6        Phone  Location 165  Category 40  Subcategory 215  Symptom 471   \n",
       "7        Phone  Location 165  Category 40  Subcategory 215  Symptom 471   \n",
       "8        Phone  Location 165  Category 40  Subcategory 215  Symptom 471   \n",
       "9        Phone  Location 165  Category 40  Subcategory 215  Symptom 471   \n",
       "\n",
       "  cmdb_ci      impact     urgency      priority  knowledge  \\\n",
       "0       ?  2 - Medium  2 - Medium  3 - Moderate       True   \n",
       "1       ?  2 - Medium  2 - Medium  3 - Moderate       True   \n",
       "2       ?  2 - Medium  2 - Medium  3 - Moderate       True   \n",
       "3       ?  2 - Medium  2 - Medium  3 - Moderate       True   \n",
       "4       ?  2 - Medium  2 - Medium  3 - Moderate       True   \n",
       "5       ?  2 - Medium  2 - Medium  3 - Moderate       True   \n",
       "6       ?  2 - Medium  2 - Medium  3 - Moderate       True   \n",
       "7       ?  2 - Medium  2 - Medium  3 - Moderate       True   \n",
       "8       ?  2 - Medium  2 - Medium  3 - Moderate       True   \n",
       "9       ?  2 - Medium  2 - Medium  3 - Moderate       True   \n",
       "\n",
       "   u_priority_confirmation         notify problem_id rfc caused_by  \\\n",
       "0                    False  Do Not Notify          ?   ?         ?   \n",
       "1                    False  Do Not Notify          ?   ?         ?   \n",
       "2                    False  Do Not Notify          ?   ?         ?   \n",
       "3                    False  Do Not Notify          ?   ?         ?   \n",
       "4                    False  Do Not Notify          ?   ?         ?   \n",
       "5                    False  Do Not Notify          ?   ?         ?   \n",
       "6                    False  Do Not Notify          ?   ?         ?   \n",
       "7                    False  Do Not Notify          ?   ?         ?   \n",
       "8                    False  Do Not Notify          ?   ?         ?   \n",
       "9                    False  Do Not Notify          ?   ?         ?   \n",
       "\n",
       "  closed_code      resolved_by  \n",
       "0      code 5  Resolved by 149  \n",
       "1      code 5  Resolved by 149  \n",
       "2      code 5  Resolved by 149  \n",
       "3      code 5  Resolved by 149  \n",
       "4      code 5   Resolved by 81  \n",
       "5      code 5   Resolved by 81  \n",
       "6      code 5   Resolved by 81  \n",
       "7      code 5   Resolved by 81  \n",
       "8      code 5   Resolved by 81  \n",
       "9      code 5   Resolved by 81  "
      ]
     },
     "execution_count": 39,
     "metadata": {},
     "output_type": "execute_result"
    }
   ],
   "source": [
    "df_incident = df[incident_cols]\n",
    "df_incident.head(10)"
   ]
  },
  {
   "cell_type": "code",
   "execution_count": 40,
   "id": "1b6a8620",
   "metadata": {},
   "outputs": [
    {
     "data": {
      "text/plain": [
       "number                     object\n",
       "incident_state             object\n",
       "active                       bool\n",
       "reassignment_count          int64\n",
       "reopen_count                int64\n",
       "sys_mod_count               int64\n",
       "made_sla                     bool\n",
       "caller_id                  object\n",
       "sys_created_by             object\n",
       "sys_updated_by             object\n",
       "contact_type               object\n",
       "location                   object\n",
       "category                   object\n",
       "subcategory                object\n",
       "u_symptom                  object\n",
       "cmdb_ci                    object\n",
       "impact                     object\n",
       "urgency                    object\n",
       "priority                   object\n",
       "knowledge                    bool\n",
       "u_priority_confirmation      bool\n",
       "notify                     object\n",
       "problem_id                 object\n",
       "rfc                        object\n",
       "caused_by                  object\n",
       "closed_code                object\n",
       "resolved_by                object\n",
       "dtype: object"
      ]
     },
     "execution_count": 40,
     "metadata": {},
     "output_type": "execute_result"
    }
   ],
   "source": [
    "df_incident.dtypes"
   ]
  },
  {
   "cell_type": "code",
   "execution_count": 41,
   "id": "4d90040d",
   "metadata": {},
   "outputs": [
    {
     "name": "stdout",
     "output_type": "stream",
     "text": [
      "num missing for number: 0\n",
      "num missing for incident_state: 0\n",
      "num missing for caller_id: 29\n",
      "num missing for sys_created_by: 53076\n",
      "num missing for sys_updated_by: 0\n",
      "num missing for contact_type: 0\n",
      "num missing for location: 76\n",
      "num missing for category: 78\n",
      "num missing for subcategory: 111\n",
      "num missing for u_symptom: 32959\n",
      "num missing for cmdb_ci: 141262\n",
      "num missing for impact: 0\n",
      "num missing for urgency: 0\n",
      "num missing for priority: 0\n",
      "num missing for notify: 0\n",
      "num missing for problem_id: 139412\n",
      "num missing for rfc: 140716\n",
      "num missing for caused_by: 141684\n",
      "num missing for closed_code: 714\n",
      "num missing for resolved_by: 226\n"
     ]
    }
   ],
   "source": [
    "cols_with_missing_vals = []\n",
    "for col in incident_cols:\n",
    "    if df_incident.dtypes[col] == 'O':\n",
    "        num_missing = count_missing(df_incident, col)\n",
    "        print(f'num missing for {col}: {num_missing}')\n",
    "        if num_missing > 0 and num_missing < 100000:\n",
    "            cols_with_missing_vals.append(col)"
   ]
  },
  {
   "cell_type": "markdown",
   "id": "75badddd",
   "metadata": {},
   "source": [
    "Kolone cmdb_ci, problem_id, rfc, caused_by imaju preveliki broj nedostajućih vrednosti i nisu relevantne za sam objekat incident pa se mogu izostaviti."
   ]
  },
  {
   "cell_type": "code",
   "execution_count": 42,
   "id": "be8b2e60",
   "metadata": {},
   "outputs": [],
   "source": [
    "df_incident.drop(columns=['cmdb_ci', 'problem_id', 'rfc', 'caused_by'], inplace=True)"
   ]
  },
  {
   "cell_type": "code",
   "execution_count": 43,
   "id": "e1362d0a",
   "metadata": {},
   "outputs": [],
   "source": [
    "format_cols = ['caller_id', 'sys_created_by', 'sys_updated_by', 'location', 'category', 'subcategory', 'u_symptom', 'closed_code', 'resolved_by']\n",
    "for col in format_cols:\n",
    "    df_incident[col] = df[col].apply(exctractIds)"
   ]
  },
  {
   "cell_type": "markdown",
   "id": "7419f90a",
   "metadata": {},
   "source": [
    "Kolone u kojima se može izostaviti sufiks (npr. `2 - Medium`)"
   ]
  },
  {
   "cell_type": "code",
   "execution_count": 44,
   "id": "a7f7b2fa",
   "metadata": {},
   "outputs": [],
   "source": [
    "for col in ['impact', 'urgency','priority']:\n",
    "    df_incident[col] = df_incident[col].map(lambda x: x.split(sep=' ')[0], na_action=None).astype(int)"
   ]
  },
  {
   "cell_type": "code",
   "execution_count": 45,
   "id": "34442b5a",
   "metadata": {},
   "outputs": [
    {
     "data": {
      "text/html": [
       "<div>\n",
       "<style scoped>\n",
       "    .dataframe tbody tr th:only-of-type {\n",
       "        vertical-align: middle;\n",
       "    }\n",
       "\n",
       "    .dataframe tbody tr th {\n",
       "        vertical-align: top;\n",
       "    }\n",
       "\n",
       "    .dataframe thead th {\n",
       "        text-align: right;\n",
       "    }\n",
       "</style>\n",
       "<table border=\"1\" class=\"dataframe\">\n",
       "  <thead>\n",
       "    <tr style=\"text-align: right;\">\n",
       "      <th></th>\n",
       "      <th>number</th>\n",
       "      <th>incident_state</th>\n",
       "      <th>active</th>\n",
       "      <th>reassignment_count</th>\n",
       "      <th>reopen_count</th>\n",
       "      <th>sys_mod_count</th>\n",
       "      <th>made_sla</th>\n",
       "      <th>caller_id</th>\n",
       "      <th>sys_created_by</th>\n",
       "      <th>sys_updated_by</th>\n",
       "      <th>contact_type</th>\n",
       "      <th>location</th>\n",
       "      <th>category</th>\n",
       "      <th>subcategory</th>\n",
       "      <th>u_symptom</th>\n",
       "      <th>impact</th>\n",
       "      <th>urgency</th>\n",
       "      <th>priority</th>\n",
       "      <th>knowledge</th>\n",
       "      <th>u_priority_confirmation</th>\n",
       "      <th>notify</th>\n",
       "      <th>closed_code</th>\n",
       "      <th>resolved_by</th>\n",
       "    </tr>\n",
       "  </thead>\n",
       "  <tbody>\n",
       "    <tr>\n",
       "      <th>0</th>\n",
       "      <td>INC0000045</td>\n",
       "      <td>New</td>\n",
       "      <td>True</td>\n",
       "      <td>0</td>\n",
       "      <td>0</td>\n",
       "      <td>0</td>\n",
       "      <td>True</td>\n",
       "      <td>2403</td>\n",
       "      <td>6</td>\n",
       "      <td>21</td>\n",
       "      <td>Phone</td>\n",
       "      <td>143</td>\n",
       "      <td>55</td>\n",
       "      <td>170</td>\n",
       "      <td>72</td>\n",
       "      <td>2</td>\n",
       "      <td>2</td>\n",
       "      <td>3</td>\n",
       "      <td>True</td>\n",
       "      <td>False</td>\n",
       "      <td>Do Not Notify</td>\n",
       "      <td>5</td>\n",
       "      <td>149</td>\n",
       "    </tr>\n",
       "    <tr>\n",
       "      <th>1</th>\n",
       "      <td>INC0000045</td>\n",
       "      <td>Resolved</td>\n",
       "      <td>True</td>\n",
       "      <td>0</td>\n",
       "      <td>0</td>\n",
       "      <td>2</td>\n",
       "      <td>True</td>\n",
       "      <td>2403</td>\n",
       "      <td>6</td>\n",
       "      <td>642</td>\n",
       "      <td>Phone</td>\n",
       "      <td>143</td>\n",
       "      <td>55</td>\n",
       "      <td>170</td>\n",
       "      <td>72</td>\n",
       "      <td>2</td>\n",
       "      <td>2</td>\n",
       "      <td>3</td>\n",
       "      <td>True</td>\n",
       "      <td>False</td>\n",
       "      <td>Do Not Notify</td>\n",
       "      <td>5</td>\n",
       "      <td>149</td>\n",
       "    </tr>\n",
       "    <tr>\n",
       "      <th>2</th>\n",
       "      <td>INC0000045</td>\n",
       "      <td>Resolved</td>\n",
       "      <td>True</td>\n",
       "      <td>0</td>\n",
       "      <td>0</td>\n",
       "      <td>3</td>\n",
       "      <td>True</td>\n",
       "      <td>2403</td>\n",
       "      <td>6</td>\n",
       "      <td>804</td>\n",
       "      <td>Phone</td>\n",
       "      <td>143</td>\n",
       "      <td>55</td>\n",
       "      <td>170</td>\n",
       "      <td>72</td>\n",
       "      <td>2</td>\n",
       "      <td>2</td>\n",
       "      <td>3</td>\n",
       "      <td>True</td>\n",
       "      <td>False</td>\n",
       "      <td>Do Not Notify</td>\n",
       "      <td>5</td>\n",
       "      <td>149</td>\n",
       "    </tr>\n",
       "    <tr>\n",
       "      <th>3</th>\n",
       "      <td>INC0000045</td>\n",
       "      <td>Closed</td>\n",
       "      <td>False</td>\n",
       "      <td>0</td>\n",
       "      <td>0</td>\n",
       "      <td>4</td>\n",
       "      <td>True</td>\n",
       "      <td>2403</td>\n",
       "      <td>6</td>\n",
       "      <td>908</td>\n",
       "      <td>Phone</td>\n",
       "      <td>143</td>\n",
       "      <td>55</td>\n",
       "      <td>170</td>\n",
       "      <td>72</td>\n",
       "      <td>2</td>\n",
       "      <td>2</td>\n",
       "      <td>3</td>\n",
       "      <td>True</td>\n",
       "      <td>False</td>\n",
       "      <td>Do Not Notify</td>\n",
       "      <td>5</td>\n",
       "      <td>149</td>\n",
       "    </tr>\n",
       "    <tr>\n",
       "      <th>4</th>\n",
       "      <td>INC0000047</td>\n",
       "      <td>New</td>\n",
       "      <td>True</td>\n",
       "      <td>0</td>\n",
       "      <td>0</td>\n",
       "      <td>0</td>\n",
       "      <td>True</td>\n",
       "      <td>2403</td>\n",
       "      <td>171</td>\n",
       "      <td>746</td>\n",
       "      <td>Phone</td>\n",
       "      <td>165</td>\n",
       "      <td>40</td>\n",
       "      <td>215</td>\n",
       "      <td>471</td>\n",
       "      <td>2</td>\n",
       "      <td>2</td>\n",
       "      <td>3</td>\n",
       "      <td>True</td>\n",
       "      <td>False</td>\n",
       "      <td>Do Not Notify</td>\n",
       "      <td>5</td>\n",
       "      <td>81</td>\n",
       "    </tr>\n",
       "    <tr>\n",
       "      <th>5</th>\n",
       "      <td>INC0000047</td>\n",
       "      <td>Active</td>\n",
       "      <td>True</td>\n",
       "      <td>1</td>\n",
       "      <td>0</td>\n",
       "      <td>1</td>\n",
       "      <td>True</td>\n",
       "      <td>2403</td>\n",
       "      <td>171</td>\n",
       "      <td>21</td>\n",
       "      <td>Phone</td>\n",
       "      <td>165</td>\n",
       "      <td>40</td>\n",
       "      <td>215</td>\n",
       "      <td>471</td>\n",
       "      <td>2</td>\n",
       "      <td>2</td>\n",
       "      <td>3</td>\n",
       "      <td>True</td>\n",
       "      <td>False</td>\n",
       "      <td>Do Not Notify</td>\n",
       "      <td>5</td>\n",
       "      <td>81</td>\n",
       "    </tr>\n",
       "    <tr>\n",
       "      <th>6</th>\n",
       "      <td>INC0000047</td>\n",
       "      <td>Active</td>\n",
       "      <td>True</td>\n",
       "      <td>1</td>\n",
       "      <td>0</td>\n",
       "      <td>2</td>\n",
       "      <td>True</td>\n",
       "      <td>2403</td>\n",
       "      <td>171</td>\n",
       "      <td>21</td>\n",
       "      <td>Phone</td>\n",
       "      <td>165</td>\n",
       "      <td>40</td>\n",
       "      <td>215</td>\n",
       "      <td>471</td>\n",
       "      <td>2</td>\n",
       "      <td>2</td>\n",
       "      <td>3</td>\n",
       "      <td>True</td>\n",
       "      <td>False</td>\n",
       "      <td>Do Not Notify</td>\n",
       "      <td>5</td>\n",
       "      <td>81</td>\n",
       "    </tr>\n",
       "    <tr>\n",
       "      <th>7</th>\n",
       "      <td>INC0000047</td>\n",
       "      <td>Active</td>\n",
       "      <td>True</td>\n",
       "      <td>1</td>\n",
       "      <td>0</td>\n",
       "      <td>3</td>\n",
       "      <td>True</td>\n",
       "      <td>2403</td>\n",
       "      <td>171</td>\n",
       "      <td>804</td>\n",
       "      <td>Phone</td>\n",
       "      <td>165</td>\n",
       "      <td>40</td>\n",
       "      <td>215</td>\n",
       "      <td>471</td>\n",
       "      <td>2</td>\n",
       "      <td>2</td>\n",
       "      <td>3</td>\n",
       "      <td>True</td>\n",
       "      <td>False</td>\n",
       "      <td>Do Not Notify</td>\n",
       "      <td>5</td>\n",
       "      <td>81</td>\n",
       "    </tr>\n",
       "    <tr>\n",
       "      <th>8</th>\n",
       "      <td>INC0000047</td>\n",
       "      <td>Active</td>\n",
       "      <td>True</td>\n",
       "      <td>1</td>\n",
       "      <td>0</td>\n",
       "      <td>4</td>\n",
       "      <td>True</td>\n",
       "      <td>2403</td>\n",
       "      <td>171</td>\n",
       "      <td>703</td>\n",
       "      <td>Phone</td>\n",
       "      <td>165</td>\n",
       "      <td>40</td>\n",
       "      <td>215</td>\n",
       "      <td>471</td>\n",
       "      <td>2</td>\n",
       "      <td>2</td>\n",
       "      <td>3</td>\n",
       "      <td>True</td>\n",
       "      <td>False</td>\n",
       "      <td>Do Not Notify</td>\n",
       "      <td>5</td>\n",
       "      <td>81</td>\n",
       "    </tr>\n",
       "    <tr>\n",
       "      <th>9</th>\n",
       "      <td>INC0000047</td>\n",
       "      <td>Active</td>\n",
       "      <td>True</td>\n",
       "      <td>1</td>\n",
       "      <td>0</td>\n",
       "      <td>5</td>\n",
       "      <td>True</td>\n",
       "      <td>2403</td>\n",
       "      <td>171</td>\n",
       "      <td>332</td>\n",
       "      <td>Phone</td>\n",
       "      <td>165</td>\n",
       "      <td>40</td>\n",
       "      <td>215</td>\n",
       "      <td>471</td>\n",
       "      <td>2</td>\n",
       "      <td>2</td>\n",
       "      <td>3</td>\n",
       "      <td>True</td>\n",
       "      <td>False</td>\n",
       "      <td>Do Not Notify</td>\n",
       "      <td>5</td>\n",
       "      <td>81</td>\n",
       "    </tr>\n",
       "  </tbody>\n",
       "</table>\n",
       "</div>"
      ],
      "text/plain": [
       "       number incident_state  active  reassignment_count  reopen_count  \\\n",
       "0  INC0000045            New    True                   0             0   \n",
       "1  INC0000045       Resolved    True                   0             0   \n",
       "2  INC0000045       Resolved    True                   0             0   \n",
       "3  INC0000045         Closed   False                   0             0   \n",
       "4  INC0000047            New    True                   0             0   \n",
       "5  INC0000047         Active    True                   1             0   \n",
       "6  INC0000047         Active    True                   1             0   \n",
       "7  INC0000047         Active    True                   1             0   \n",
       "8  INC0000047         Active    True                   1             0   \n",
       "9  INC0000047         Active    True                   1             0   \n",
       "\n",
       "   sys_mod_count  made_sla caller_id sys_created_by sys_updated_by  \\\n",
       "0              0      True      2403              6             21   \n",
       "1              2      True      2403              6            642   \n",
       "2              3      True      2403              6            804   \n",
       "3              4      True      2403              6            908   \n",
       "4              0      True      2403            171            746   \n",
       "5              1      True      2403            171             21   \n",
       "6              2      True      2403            171             21   \n",
       "7              3      True      2403            171            804   \n",
       "8              4      True      2403            171            703   \n",
       "9              5      True      2403            171            332   \n",
       "\n",
       "  contact_type location category subcategory u_symptom  impact  urgency  \\\n",
       "0        Phone      143       55         170        72       2        2   \n",
       "1        Phone      143       55         170        72       2        2   \n",
       "2        Phone      143       55         170        72       2        2   \n",
       "3        Phone      143       55         170        72       2        2   \n",
       "4        Phone      165       40         215       471       2        2   \n",
       "5        Phone      165       40         215       471       2        2   \n",
       "6        Phone      165       40         215       471       2        2   \n",
       "7        Phone      165       40         215       471       2        2   \n",
       "8        Phone      165       40         215       471       2        2   \n",
       "9        Phone      165       40         215       471       2        2   \n",
       "\n",
       "   priority  knowledge  u_priority_confirmation         notify closed_code  \\\n",
       "0         3       True                    False  Do Not Notify           5   \n",
       "1         3       True                    False  Do Not Notify           5   \n",
       "2         3       True                    False  Do Not Notify           5   \n",
       "3         3       True                    False  Do Not Notify           5   \n",
       "4         3       True                    False  Do Not Notify           5   \n",
       "5         3       True                    False  Do Not Notify           5   \n",
       "6         3       True                    False  Do Not Notify           5   \n",
       "7         3       True                    False  Do Not Notify           5   \n",
       "8         3       True                    False  Do Not Notify           5   \n",
       "9         3       True                    False  Do Not Notify           5   \n",
       "\n",
       "  resolved_by  \n",
       "0         149  \n",
       "1         149  \n",
       "2         149  \n",
       "3         149  \n",
       "4          81  \n",
       "5          81  \n",
       "6          81  \n",
       "7          81  \n",
       "8          81  \n",
       "9          81  "
      ]
     },
     "execution_count": 45,
     "metadata": {},
     "output_type": "execute_result"
    }
   ],
   "source": [
    "df_incident.head(10)"
   ]
  },
  {
   "cell_type": "code",
   "execution_count": 46,
   "id": "b1bc7013",
   "metadata": {},
   "outputs": [
    {
     "data": {
      "text/plain": [
       "['caller_id',\n",
       " 'sys_created_by',\n",
       " 'location',\n",
       " 'category',\n",
       " 'subcategory',\n",
       " 'u_symptom',\n",
       " 'closed_code',\n",
       " 'resolved_by']"
      ]
     },
     "execution_count": 46,
     "metadata": {},
     "output_type": "execute_result"
    }
   ],
   "source": [
    "cols_with_missing_vals"
   ]
  },
  {
   "cell_type": "code",
   "execution_count": 47,
   "id": "114edafa",
   "metadata": {},
   "outputs": [
    {
     "name": "stdout",
     "output_type": "stream",
     "text": [
      "caller_id False\n",
      "sys_created_by True\n",
      "location False\n",
      "category False\n",
      "subcategory False\n",
      "u_symptom False\n",
      "closed_code True\n",
      "resolved_by False\n"
     ]
    }
   ],
   "source": [
    "for col in cols_with_missing_vals:\n",
    "    print(f'{col} {str(1) in df_incident[col].values}')"
   ]
  },
  {
   "cell_type": "code",
   "execution_count": 48,
   "id": "dfe04849",
   "metadata": {},
   "outputs": [],
   "source": [
    "cols_with_missing_vals.remove('sys_created_by')\n",
    "cols_with_missing_vals.remove('closed_code')"
   ]
  },
  {
   "cell_type": "code",
   "execution_count": 49,
   "id": "e5cb469c",
   "metadata": {},
   "outputs": [
    {
     "data": {
      "text/plain": [
       "False"
      ]
     },
     "execution_count": 49,
     "metadata": {},
     "output_type": "execute_result"
    }
   ],
   "source": [
    "'9' in df_incident['sys_created_by'].values"
   ]
  },
  {
   "cell_type": "code",
   "execution_count": 50,
   "id": "18a98e5a",
   "metadata": {},
   "outputs": [
    {
     "data": {
      "text/plain": [
       "False"
      ]
     },
     "execution_count": 50,
     "metadata": {},
     "output_type": "execute_result"
    }
   ],
   "source": [
    "'18' in df_incident['closed_code'].values"
   ]
  },
  {
   "cell_type": "code",
   "execution_count": 51,
   "id": "abb69e15",
   "metadata": {},
   "outputs": [],
   "source": [
    "df_incident['sys_created_by'] = df_incident['sys_created_by'].replace(to_replace='?', value='9').astype(int)\n",
    "df_incident['closed_code'] = df_incident['closed_code'].replace(to_replace='?', value='18').astype(int)"
   ]
  },
  {
   "cell_type": "code",
   "execution_count": 52,
   "id": "5171744b",
   "metadata": {},
   "outputs": [],
   "source": [
    "for col in cols_with_missing_vals:\n",
    "    df_incident[col] = df_incident[col].replace(to_replace='?', value='1').astype(int)"
   ]
  },
  {
   "cell_type": "code",
   "execution_count": 53,
   "id": "776be3a9",
   "metadata": {},
   "outputs": [
    {
     "data": {
      "text/plain": [
       "number                     object\n",
       "incident_state             object\n",
       "active                       bool\n",
       "reassignment_count          int64\n",
       "reopen_count                int64\n",
       "sys_mod_count               int64\n",
       "made_sla                     bool\n",
       "caller_id                   int64\n",
       "sys_created_by              int64\n",
       "sys_updated_by             object\n",
       "contact_type               object\n",
       "location                    int64\n",
       "category                    int64\n",
       "subcategory                 int64\n",
       "u_symptom                   int64\n",
       "impact                      int64\n",
       "urgency                     int64\n",
       "priority                    int64\n",
       "knowledge                    bool\n",
       "u_priority_confirmation      bool\n",
       "notify                     object\n",
       "closed_code                 int64\n",
       "resolved_by                 int64\n",
       "dtype: object"
      ]
     },
     "execution_count": 53,
     "metadata": {},
     "output_type": "execute_result"
    }
   ],
   "source": [
    "df_incident.dtypes"
   ]
  },
  {
   "cell_type": "code",
   "execution_count": 54,
   "id": "ff5ba1d2",
   "metadata": {},
   "outputs": [],
   "source": [
    "df_incident['sys_updated_by'] = df_incident['sys_updated_by'].astype(int)"
   ]
  },
  {
   "cell_type": "code",
   "execution_count": 55,
   "id": "d68c4e54",
   "metadata": {},
   "outputs": [
    {
     "data": {
      "text/plain": [
       "notify\n",
       "Do Not Notify    141588\n",
       "Send Email          119\n",
       "Name: count, dtype: int64"
      ]
     },
     "execution_count": 55,
     "metadata": {},
     "output_type": "execute_result"
    }
   ],
   "source": [
    "df_incident['notify'].value_counts()"
   ]
  },
  {
   "cell_type": "code",
   "execution_count": 56,
   "id": "dcb3a4a7",
   "metadata": {},
   "outputs": [],
   "source": [
    "df_incident['notify'].replace({'Do Not Notify': 0, 'Send Email': 1}, inplace=True)"
   ]
  },
  {
   "cell_type": "code",
   "execution_count": 57,
   "id": "045c2d66",
   "metadata": {},
   "outputs": [],
   "source": [
    "target = (df_incident['reassignment_count'] > 0).astype(int)\n",
    "df_incident.drop(columns=['reassignment_count'], inplace=True)"
   ]
  },
  {
   "cell_type": "code",
   "execution_count": 58,
   "id": "5694a97e",
   "metadata": {},
   "outputs": [
    {
     "data": {
      "text/plain": [
       "contact_type\n",
       "Phone             140457\n",
       "Self service         995\n",
       "Email                220\n",
       "IVR                   18\n",
       "Direct opening        17\n",
       "Name: count, dtype: int64"
      ]
     },
     "execution_count": 58,
     "metadata": {},
     "output_type": "execute_result"
    }
   ],
   "source": [
    "df_incident['contact_type'].value_counts()"
   ]
  },
  {
   "cell_type": "code",
   "execution_count": 59,
   "id": "0a555eda",
   "metadata": {},
   "outputs": [
    {
     "data": {
      "text/plain": [
       "incident_state\n",
       "Active                38716\n",
       "New                   36407\n",
       "Resolved              25751\n",
       "Closed                24985\n",
       "Awaiting User Info    14642\n",
       "Awaiting Vendor         707\n",
       "Awaiting Problem        461\n",
       "Awaiting Evidence        38\n",
       "Name: count, dtype: int64"
      ]
     },
     "execution_count": 59,
     "metadata": {},
     "output_type": "execute_result"
    }
   ],
   "source": [
    "df_incident['incident_state'].value_counts()"
   ]
  },
  {
   "cell_type": "code",
   "execution_count": 60,
   "id": "ab570706",
   "metadata": {},
   "outputs": [],
   "source": [
    "bool_cols = df_incident.select_dtypes('bool')"
   ]
  },
  {
   "cell_type": "code",
   "execution_count": 61,
   "id": "f7c6f971",
   "metadata": {},
   "outputs": [],
   "source": [
    "for col in bool_cols:\n",
    "    df_incident[col] = df_incident[col].astype(int)"
   ]
  },
  {
   "cell_type": "code",
   "execution_count": 62,
   "id": "abbd534e",
   "metadata": {},
   "outputs": [
    {
     "data": {
      "text/plain": [
       "reassignment_count\n",
       "1    71833\n",
       "0    69874\n",
       "Name: count, dtype: int64"
      ]
     },
     "execution_count": 62,
     "metadata": {},
     "output_type": "execute_result"
    }
   ],
   "source": [
    "target.value_counts()"
   ]
  },
  {
   "cell_type": "markdown",
   "id": "41dc36ed",
   "metadata": {},
   "source": [
    "Zastupljenost klasa je skoro jednaka."
   ]
  },
  {
   "cell_type": "code",
   "execution_count": 64,
   "id": "7a2650d7",
   "metadata": {},
   "outputs": [
    {
     "data": {
      "text/plain": [
       "<BarContainer object of 2 artists>"
      ]
     },
     "execution_count": 64,
     "metadata": {},
     "output_type": "execute_result"
    },
    {
     "data": {
      "image/png": "[encoded data removed]",
      "text/plain": [
       "<Figure size 640x480 with 1 Axes>"
      ]
     },
     "metadata": {},
     "output_type": "display_data"
    }
   ],
   "source": [
    "import matplotlib.pyplot as plt\n",
    "\n",
    "plt.bar(['reassigned', 'not reassigned'], target.value_counts(), color='dodgerblue')"
   ]
  },
  {
   "cell_type": "markdown",
   "id": "9184b283",
   "metadata": {},
   "source": [
    "Čuvanje prečišćenih tabela za korišćenje u narednim koracima."
   ]
  },
  {
   "cell_type": "code",
   "execution_count": 65,
   "id": "795d34ee",
   "metadata": {},
   "outputs": [],
   "source": [
    "df_support_org.to_csv('data/support_orgs.csv')"
   ]
  },
  {
   "cell_type": "code",
   "execution_count": 66,
   "id": "c14d3c9b",
   "metadata": {},
   "outputs": [],
   "source": [
    "df_vendor.to_csv('data/vendors.csv')"
   ]
  },
  {
   "cell_type": "code",
   "execution_count": 67,
   "id": "57109748",
   "metadata": {},
   "outputs": [],
   "source": [
    "df_customer.to_csv('data/customers.csv')"
   ]
  },
  {
   "cell_type": "code",
   "execution_count": 68,
   "id": "1d609ec9",
   "metadata": {},
   "outputs": [],
   "source": [
    "df_incident.to_csv('data/incidents.csv')"
   ]
  },
  {
   "cell_type": "code",
   "execution_count": 69,
   "id": "c6a1a9a2",
   "metadata": {},
   "outputs": [
    {
     "data": {
      "text/plain": [
       "array([0, 0, 0, ..., 1, 1, 1])"
      ]
     },
     "execution_count": 69,
     "metadata": {},
     "output_type": "execute_result"
    }
   ],
   "source": [
    "target.values"
   ]
  },
  {
   "cell_type": "code",
   "execution_count": 70,
   "id": "fe87203d",
   "metadata": {},
   "outputs": [],
   "source": [
    "import torch\n",
    "target_tensor = torch.tensor(target.values).to(torch.float)"
   ]
  },
  {
   "cell_type": "code",
   "execution_count": 71,
   "id": "c62e5515",
   "metadata": {},
   "outputs": [],
   "source": [
    "torch.save(target_tensor, 'data/target.pt')"
   ]
  }
 ],
 "metadata": {
  "kernelspec": {
   "display_name": "Python 3 (ipykernel)",
   "language": "python",
   "name": "python3"
  },
  "language_info": {
   "codemirror_mode": {
    "name": "ipython",
    "version": 3
   },
   "file_extension": ".py",
   "mimetype": "text/x-python",
   "name": "python",
   "nbconvert_exporter": "python",
   "pygments_lexer": "ipython3",
   "version": "3.10.12"
  }
 },
 "nbformat": 4,
 "nbformat_minor": 5
}
