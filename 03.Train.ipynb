{
 "cells": [
  {
   "cell_type": "code",
   "execution_count": 265,
   "id": "ce52ac68",
   "metadata": {},
   "outputs": [],
   "source": [
    "from torch_geometric.data import HeteroData\n",
    "from torch_geometric.datasets import Entities\n",
    "from torch_geometric.transforms.random_node_split import RandomNodeSplit\n",
    "import torch_geometric.transforms as T\n",
    "from torch_geometric.nn import SAGEConv, GraphConv, to_hetero\n",
    "import torch.nn.functional as F\n",
    "from tqdm import tqdm\n",
    "from sklearn.metrics import confusion_matrix, accuracy_score\n",
    "import torch\n",
    "import matplotlib.pyplot as plt\n",
    "import numpy as np"
   ]
  },
  {
   "cell_type": "code",
   "execution_count": 258,
   "id": "46d87134",
   "metadata": {},
   "outputs": [],
   "source": [
    "data = torch.load('data/hetero_data.pt')\n",
    "data = T.ToUndirected()(data)\n",
    "data = T.NormalizeFeatures()(data)\n",
    "split = RandomNodeSplit(num_test=0.33, num_val=0.2)\n",
    "\n",
    "data = split(data)"
   ]
  },
  {
   "cell_type": "code",
   "execution_count": 259,
   "id": "82e080a7",
   "metadata": {},
   "outputs": [
    {
     "data": {
      "text/plain": [
       "HeteroData(\n",
       "  incident={\n",
       "    x=[141707, 51],\n",
       "    y=[141707],\n",
       "    train_mask=[141707],\n",
       "    val_mask=[141707],\n",
       "    test_mask=[141707],\n",
       "  },\n",
       "  support_org={ x=[141707, 17] },\n",
       "  customer={ x=[141707, 16] },\n",
       "  vendor={ x=[141707, 16] },\n",
       "  (incident, assigned, support_org)={ edge_index=[2, 141707] },\n",
       "  (incident, assigned, vendor)={ edge_index=[2, 141707] },\n",
       "  (incident, reported, customer)={ edge_index=[2, 141707] },\n",
       "  (support_org, rev_assigned, incident)={ edge_index=[2, 141707] },\n",
       "  (vendor, rev_assigned, incident)={ edge_index=[2, 141707] },\n",
       "  (customer, rev_reported, incident)={ edge_index=[2, 141707] }\n",
       ")"
      ]
     },
     "execution_count": 259,
     "metadata": {},
     "output_type": "execute_result"
    }
   ],
   "source": [
    "data"
   ]
  },
  {
   "cell_type": "code",
   "execution_count": 260,
   "id": "834650c8",
   "metadata": {},
   "outputs": [],
   "source": [
    "class GCN(torch.nn.Module):\n",
    "    def __init__(self, hidden_channels, out_channels):\n",
    "        super().__init__()\n",
    "        self.conv1 = SAGEConv((-1, -1), hidden_channels, aggr='mean')\n",
    "        self.conv2 = SAGEConv((-1, -1), out_channels, aggr='mean')\n",
    "\n",
    "    def forward(self, x, edge_index):\n",
    "        x = F.relu(self.conv1(x, edge_index))\n",
    "        x = F.sigmoid(self.conv2(x, edge_index))\n",
    "\n",
    "        return x\n",
    "\n",
    "\n",
    "gcn = GCN(hidden_channels=256, out_channels=2)\n",
    "gcn = to_hetero(gcn, data.metadata(), aggr='sum')\n",
    "optimizer = torch.optim.Adam(gcn.parameters(), lr=0.001, weight_decay=5e-4)"
   ]
  },
  {
   "cell_type": "code",
   "execution_count": 261,
   "id": "2f6cf3c8",
   "metadata": {},
   "outputs": [],
   "source": [
    "def train(model, data, optimizer, loss, n_epochs=200):\n",
    "    train_accs = []\n",
    "    val_accs = []\n",
    "    for epoch in tqdm(range(1, n_epochs + 1)):\n",
    "        model.train()\n",
    "        optimizer.zero_grad()\n",
    "        out = model(data.x_dict, data.edge_index_dict)\n",
    "        mask = data['incident'].train_mask\n",
    "        loss_fn = F.cross_entropy(out['incident'][mask], data['incident'].y[mask].type(torch.LongTensor))\n",
    "        loss_fn.backward(retain_graph=True)\n",
    "        optimizer.step()\n",
    "\n",
    "        val_acc = evaluate(model, data, data['incident'].val_mask, test_flag=False)\n",
    "        train_acc = (out['incident'][mask].argmax(dim=-1) == data['incident'].y[mask]).sum()/float(mask.sum())\n",
    "        if epoch % 10 == 0:\n",
    "            print(f'\\tEpoch: {epoch}, train_acc: {train_acc:.5f}, val_acc: {val_acc:.5f}')\n",
    "\n",
    "        train_accs.append(train_acc)\n",
    "        val_accs.append(val_acc)\n",
    "\n",
    "    return train_accs, val_accs\n",
    "\n",
    "\n",
    "def evaluate(model, data, mask, test_flag):\n",
    "    with torch.no_grad():\n",
    "        model.eval()\n",
    "        out = model(data.x_dict, data.edge_index_dict)['incident']\n",
    "        pred = out.argmax(dim=-1)\n",
    "        correct = (pred[mask] == data['incident'].y[mask]).sum()\n",
    "\n",
    "        acc_score = correct/float(mask.sum())\n",
    "        \n",
    "        if test_flag:\n",
    "            print(confusion_matrix(pred[mask], data['incident'].y[mask]))\n",
    "\n",
    "        return acc_score"
   ]
  },
  {
   "cell_type": "code",
   "execution_count": 262,
   "id": "e563adba",
   "metadata": {},
   "outputs": [
    {
     "name": "stderr",
     "output_type": "stream",
     "text": [
      " 10%|████████                                                                         | 10/100 [01:11<10:45,  7.18s/it]"
     ]
    },
    {
     "name": "stdout",
     "output_type": "stream",
     "text": [
      "\tEpoch: 10, train_acc: 0.51552, val_acc: 0.51858\n"
     ]
    },
    {
     "name": "stderr",
     "output_type": "stream",
     "text": [
      " 20%|████████████████▏                                                                | 20/100 [02:20<09:02,  6.78s/it]"
     ]
    },
    {
     "name": "stdout",
     "output_type": "stream",
     "text": [
      "\tEpoch: 20, train_acc: 0.52152, val_acc: 0.52098\n"
     ]
    },
    {
     "name": "stderr",
     "output_type": "stream",
     "text": [
      " 30%|████████████████████████▎                                                        | 30/100 [03:29<08:01,  6.88s/it]"
     ]
    },
    {
     "name": "stdout",
     "output_type": "stream",
     "text": [
      "\tEpoch: 30, train_acc: 0.52637, val_acc: 0.52588\n"
     ]
    },
    {
     "name": "stderr",
     "output_type": "stream",
     "text": [
      " 40%|████████████████████████████████▍                                                | 40/100 [04:45<07:55,  7.92s/it]"
     ]
    },
    {
     "name": "stdout",
     "output_type": "stream",
     "text": [
      "\tEpoch: 40, train_acc: 0.53577, val_acc: 0.53304\n"
     ]
    },
    {
     "name": "stderr",
     "output_type": "stream",
     "text": [
      " 50%|████████████████████████████████████████▌                                        | 50/100 [05:59<05:53,  7.07s/it]"
     ]
    },
    {
     "name": "stdout",
     "output_type": "stream",
     "text": [
      "\tEpoch: 50, train_acc: 0.54561, val_acc: 0.54321\n"
     ]
    },
    {
     "name": "stderr",
     "output_type": "stream",
     "text": [
      " 60%|████████████████████████████████████████████████▌                                | 60/100 [07:15<05:05,  7.63s/it]"
     ]
    },
    {
     "name": "stdout",
     "output_type": "stream",
     "text": [
      "\tEpoch: 60, train_acc: 0.55197, val_acc: 0.54663\n"
     ]
    },
    {
     "name": "stderr",
     "output_type": "stream",
     "text": [
      " 70%|████████████████████████████████████████████████████████▋                        | 70/100 [08:31<03:43,  7.44s/it]"
     ]
    },
    {
     "name": "stdout",
     "output_type": "stream",
     "text": [
      "\tEpoch: 70, train_acc: 0.55044, val_acc: 0.54352\n"
     ]
    },
    {
     "name": "stderr",
     "output_type": "stream",
     "text": [
      " 80%|████████████████████████████████████████████████████████████████▊                | 80/100 [09:40<02:16,  6.82s/it]"
     ]
    },
    {
     "name": "stdout",
     "output_type": "stream",
     "text": [
      "\tEpoch: 80, train_acc: 0.54855, val_acc: 0.54292\n"
     ]
    },
    {
     "name": "stderr",
     "output_type": "stream",
     "text": [
      " 90%|████████████████████████████████████████████████████████████████████████▉        | 90/100 [10:52<01:11,  7.11s/it]"
     ]
    },
    {
     "name": "stdout",
     "output_type": "stream",
     "text": [
      "\tEpoch: 90, train_acc: 0.54796, val_acc: 0.54190\n"
     ]
    },
    {
     "name": "stderr",
     "output_type": "stream",
     "text": [
      "100%|████████████████████████████████████████████████████████████████████████████████| 100/100 [12:05<00:00,  7.26s/it]"
     ]
    },
    {
     "name": "stdout",
     "output_type": "stream",
     "text": [
      "\tEpoch: 100, train_acc: 0.54801, val_acc: 0.54282\n"
     ]
    },
    {
     "name": "stderr",
     "output_type": "stream",
     "text": [
      "\n"
     ]
    }
   ],
   "source": [
    "EPOCHS = 100\n",
    "train_accuracies, val_accuracies = train_losses, val_losses = train(gcn, data, optimizer, None, EPOCHS)"
   ]
  },
  {
   "cell_type": "code",
   "execution_count": 263,
   "id": "01fe4492",
   "metadata": {},
   "outputs": [
    {
     "data": {
      "text/plain": [
       "[<matplotlib.lines.Line2D at 0x1c397fd43a0>]"
      ]
     },
     "execution_count": 263,
     "metadata": {},
     "output_type": "execute_result"
    },
    {
     "data": {
      "image/png": "[encoded data removed]",
      "text/plain": [
       "<Figure size 432x288 with 1 Axes>"
      ]
     },
     "metadata": {
      "needs_background": "light"
     },
     "output_type": "display_data"
    }
   ],
   "source": [
    "plt.plot(np.arange(1, EPOCHS+1), train_accuracies)\n",
    "plt.plot(np.arange(1, EPOCHS+1), val_accuracies)"
   ]
  },
  {
   "cell_type": "code",
   "execution_count": 266,
   "id": "d97cf664",
   "metadata": {},
   "outputs": [
    {
     "name": "stdout",
     "output_type": "stream",
     "text": [
      "[[10309  8375]\n",
      " [12724 15355]]\n"
     ]
    },
    {
     "data": {
      "text/plain": [
       "tensor(0.5488)"
      ]
     },
     "execution_count": 266,
     "metadata": {},
     "output_type": "execute_result"
    }
   ],
   "source": [
    "acc_score = evaluate(gcn, data, data['incident'].test_mask, test_flag=True)\n",
    "acc_score"
   ]
  },
  {
   "cell_type": "code",
   "execution_count": null,
   "id": "6eb870d0",
   "metadata": {},
   "outputs": [],
   "source": []
  }
 ],
 "metadata": {
  "kernelspec": {
   "display_name": "Python 3",
   "language": "python",
   "name": "python3"
  },
  "language_info": {
   "codemirror_mode": {
    "name": "ipython",
    "version": 3
   },
   "file_extension": ".py",
   "mimetype": "text/x-python",
   "name": "python",
   "nbconvert_exporter": "python",
   "pygments_lexer": "ipython3",
   "version": "3.8.8"
  }
 },
 "nbformat": 4,
 "nbformat_minor": 5
}
