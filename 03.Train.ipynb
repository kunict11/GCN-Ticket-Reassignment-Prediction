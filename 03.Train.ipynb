{
 "cells": [
  {
   "cell_type": "code",
   "execution_count": 58,
   "id": "c5cab503",
   "metadata": {},
   "outputs": [],
   "source": [
    "from torch_geometric.data import HeteroData\n",
    "from torch_geometric.datasets import Entities\n",
    "from torch_geometric.transforms.random_node_split import RandomNodeSplit\n",
    "import torch_geometric.transforms as T\n",
    "from torch_geometric.nn import SAGEConv, GraphConv, to_hetero\n",
    "import torch.nn.functional as F\n",
    "from tqdm import tqdm\n",
    "from sklearn import metrics\n",
    "from sklearn.metrics import accuracy_score\n",
    "import torch\n",
    "import matplotlib.pyplot as plt\n",
    "import numpy as np"
   ]
  },
  {
   "cell_type": "markdown",
   "id": "72574fae",
   "metadata": {},
   "source": [
    "Graf formiran u prethodnom koraku je usmeren. Međutim, usmerenje grana za ovaj skup podataka nije bitno, tako da se vrši transformacija u neusmereni graf. [`ToUndirected()`](https://pytorch-geometric.readthedocs.io/en/latest/generated/torch_geometric.transforms.ToUndirected.html) svakoj postojećoj grani grafa dodaje granu suprotnog usmerenja (povratnu granu, označena prefiksom `rev_` kod naziva relacije). Pored ove transformacije, izvršava se i normalizacija podataka i podela na skupove za trening, validaciju i testiranje."
   ]
  },
  {
   "cell_type": "code",
   "execution_count": 47,
   "id": "a403a51d",
   "metadata": {},
   "outputs": [],
   "source": [
    "data = torch.load('data/hetero_data.pt')\n",
    "data = T.ToUndirected()(data)\n",
    "data = T.NormalizeFeatures()(data)\n",
    "split = RandomNodeSplit(num_test=0.33, num_val=0.2)\n",
    "\n",
    "data = split(data)"
   ]
  },
  {
   "cell_type": "markdown",
   "id": "d8ac3bd2",
   "metadata": {},
   "source": [
    "[`RandomNodeSplit()`](https://pytorch-geometric.readthedocs.io/en/latest/generated/torch_geometric.transforms.RandomNodeSplit.html) dodaje `train_mask`, `val_mask` i `test_mask` vektore. Ovi vektori su dužine broja instanci i sadrže vrednost 1 ako instanca pripada trening/test/validacionom skupu, 0 u suprotnom."
   ]
  },
  {
   "cell_type": "code",
   "execution_count": 48,
   "id": "358d0f8c",
   "metadata": {},
   "outputs": [
    {
     "data": {
      "text/plain": [
       "HeteroData(\n",
       "  incident={\n",
       "    x=[141707, 51],\n",
       "    y=[141707],\n",
       "    train_mask=[141707],\n",
       "    val_mask=[141707],\n",
       "    test_mask=[141707],\n",
       "  },\n",
       "  support_org={ x=[141707, 17] },\n",
       "  customer={ x=[141707, 16] },\n",
       "  vendor={ x=[141707, 16] },\n",
       "  (incident, assigned, support_org)={ edge_index=[2, 141707] },\n",
       "  (incident, assigned, vendor)={ edge_index=[2, 141707] },\n",
       "  (incident, reported, customer)={ edge_index=[2, 141707] },\n",
       "  (support_org, rev_assigned, incident)={ edge_index=[2, 141707] },\n",
       "  (vendor, rev_assigned, incident)={ edge_index=[2, 141707] },\n",
       "  (customer, rev_reported, incident)={ edge_index=[2, 141707] }\n",
       ")"
      ]
     },
     "execution_count": 48,
     "metadata": {},
     "output_type": "execute_result"
    }
   ],
   "source": [
    "data"
   ]
  },
  {
   "cell_type": "markdown",
   "id": "58f17b06",
   "metadata": {},
   "source": [
    "## Grafovske konvolutivne mreže\n",
    "\n",
    "**Problem:** U zadatom grafu $G = (V, E)$ čvorovi podskupa $V_L$ skupa čvorova su obeleženi, dok čvorovi podskupa $V_U$ nisu obeleženi $(V = (V_L \\bigcup V_U))$. Potrebno je odrediti funkciju $f$ sa parametrima $\\textbf{W}$ koja za čvor $u$, $\\forall u\\in V_L$, predviđa labelu $z_u$ čija je stvarna labela $y_u$ sa minimalnom greškom.\n",
    "\n",
    "Grafovska konvolutivna mreža izračunava atribute čvora $u$, $\\forall u \\in V_L$ narednog sloja mreže na osnovu agregiranih informacija iz susedstva čvora $u$. Operator za računanje narednog sloja mreže korišćen ovde je [GraphSAGE](https://arxiv.org/pdf/1706.02216.pdf) (SAmple and aggreGatE). Pravilo propagacije za GraphSAGE je sledeće:\n",
    "$$\n",
    "h^{k}_{u} = \\sigma(W \\cdot MEAN(\\{h^{k-1}_{u}\\}\\cup \\{h^{k-1}_{v}, \\forall v \\in \\textit{N}(u)\\}))\n",
    "$$\n",
    "pri čemu skup $\\textit{N}(u)$ sadrži sve susede čvora $u$, $\\sigma$ je aktivaciona funkcija (npr. $ReLU$).\n",
    "\n",
    "SAGEConv operator paketa PyG koji je zasnovan na GraphSAGE se ne može koristiti nad heterogenim grafovima. Čvorovi i grane su različitih tipova, pa se nad njima ne mogu koristiti iste funkcije. Funkcija [`to_hetero()`](https://pytorch-geometric.readthedocs.io/en/latest/modules/nn.html#torch_geometric.nn.to_hetero_transformer.to_hetero) transformiše homogeni model u heterogeni, tako da svaki tip čvora prosleđuje informacije ostalim tipovima čvorova. Rezultat primene `to_hetero()` se može videti na sledećoj slici:\n",
    "\n",
    "![to_hetero](assets/to_hetero.png)"
   ]
  },
  {
   "cell_type": "code",
   "execution_count": 49,
   "id": "f4c09722",
   "metadata": {},
   "outputs": [],
   "source": [
    "class GCN(torch.nn.Module):\n",
    "    def __init__(self, hidden_channels, out_channels):\n",
    "        super().__init__()\n",
    "        self.conv1 = SAGEConv((-1, -1), hidden_channels[0], aggr='mean')\n",
    "        self.conv2 = SAGEConv((-1, -1), hidden_channels[1], aggr='mean')\n",
    "        self.conv3 = SAGEConv((-1, -1), out_channels, aggr='mean')\n",
    "\n",
    "    def forward(self, x, edge_index):\n",
    "        x = F.relu(self.conv1(x, edge_index))\n",
    "        x = F.relu(self.conv2(x, edge_index))\n",
    "        x = F.softmax(self.conv3(x, edge_index), dim=1)\n",
    "\n",
    "        return x\n",
    "\n",
    "\n",
    "gcn = GCN(hidden_channels=[256, 128], out_channels=2)\n",
    "gcn = to_hetero(gcn, data.metadata(), aggr='sum')\n",
    "optimizer = torch.optim.Adam(gcn.parameters(), lr=0.001, weight_decay=5e-4)"
   ]
  },
  {
   "cell_type": "code",
   "execution_count": 56,
   "id": "02c65172",
   "metadata": {},
   "outputs": [],
   "source": [
    "def train(model, data, optimizer, n_epochs=200):\n",
    "    train_accs = []\n",
    "    val_accs = []\n",
    "    for epoch in tqdm(range(1, n_epochs + 1)):\n",
    "        model.train()\n",
    "        optimizer.zero_grad()\n",
    "        out = model(data.x_dict, data.edge_index_dict)\n",
    "        mask = data['incident'].train_mask\n",
    "        loss_fn = F.cross_entropy(out['incident'][mask], data['incident'].y[mask].type(torch.LongTensor))\n",
    "        loss_fn.backward(retain_graph=True)\n",
    "        optimizer.step()\n",
    "\n",
    "        val_acc = evaluate(model, data, data['incident'].val_mask, test_flag=False)\n",
    "        train_acc = (out['incident'][mask].argmax(dim=-1) == data['incident'].y[mask]).sum()/float(mask.sum())\n",
    "        if epoch % 20 == 0:\n",
    "            print(f'\\tEpoch: {epoch}, train_acc: {train_acc:.5f}, val_acc: {val_acc:.5f}')\n",
    "\n",
    "        train_accs.append(train_acc)\n",
    "        val_accs.append(val_acc)\n",
    "\n",
    "    return train_accs, val_accs\n",
    "\n",
    "\n",
    "def evaluate(model, data, mask, test_flag):\n",
    "    with torch.no_grad():\n",
    "        model.eval()\n",
    "        out = model(data.x_dict, data.edge_index_dict)['incident']\n",
    "        pred = out.argmax(dim=-1)\n",
    "        correct = (pred[mask] == data['incident'].y[mask]).sum()\n",
    "\n",
    "        acc_score = correct/float(mask.sum())\n",
    "        \n",
    "        if test_flag:\n",
    "            return acc_score, metrics.confusion_matrix(y_pred=pred[mask], y_true=data['incident'].y[mask])\n",
    "\n",
    "        return acc_score"
   ]
  },
  {
   "cell_type": "code",
   "execution_count": 51,
   "id": "065326ad",
   "metadata": {},
   "outputs": [
    {
     "name": "stderr",
     "output_type": "stream",
     "text": [
      " 10%|████████                                                                         | 20/200 [05:15<47:12, 15.73s/it]"
     ]
    },
    {
     "name": "stdout",
     "output_type": "stream",
     "text": [
      "\tEpoch: 20, train_acc: 0.51711, val_acc: 0.52080\n"
     ]
    },
    {
     "name": "stderr",
     "output_type": "stream",
     "text": [
      " 20%|████████████████▏                                                                | 40/200 [10:29<41:38, 15.62s/it]"
     ]
    },
    {
     "name": "stdout",
     "output_type": "stream",
     "text": [
      "\tEpoch: 40, train_acc: 0.53546, val_acc: 0.54179\n"
     ]
    },
    {
     "name": "stderr",
     "output_type": "stream",
     "text": [
      " 30%|████████████████████████▎                                                        | 60/200 [15:43<37:21, 16.01s/it]"
     ]
    },
    {
     "name": "stdout",
     "output_type": "stream",
     "text": [
      "\tEpoch: 60, train_acc: 0.54328, val_acc: 0.55129\n"
     ]
    },
    {
     "name": "stderr",
     "output_type": "stream",
     "text": [
      " 40%|████████████████████████████████▍                                                | 80/200 [20:56<31:28, 15.73s/it]"
     ]
    },
    {
     "name": "stdout",
     "output_type": "stream",
     "text": [
      "\tEpoch: 80, train_acc: 0.54514, val_acc: 0.55983\n"
     ]
    },
    {
     "name": "stderr",
     "output_type": "stream",
     "text": [
      " 50%|████████████████████████████████████████                                        | 100/200 [26:16<26:02, 15.63s/it]"
     ]
    },
    {
     "name": "stdout",
     "output_type": "stream",
     "text": [
      "\tEpoch: 100, train_acc: 0.57227, val_acc: 0.57263\n"
     ]
    },
    {
     "name": "stderr",
     "output_type": "stream",
     "text": [
      " 60%|████████████████████████████████████████████████                                | 120/200 [31:43<22:32, 16.91s/it]"
     ]
    },
    {
     "name": "stdout",
     "output_type": "stream",
     "text": [
      "\tEpoch: 120, train_acc: 0.58041, val_acc: 0.58110\n"
     ]
    },
    {
     "name": "stderr",
     "output_type": "stream",
     "text": [
      " 70%|████████████████████████████████████████████████████████                        | 140/200 [37:09<15:42, 15.71s/it]"
     ]
    },
    {
     "name": "stdout",
     "output_type": "stream",
     "text": [
      "\tEpoch: 140, train_acc: 0.58946, val_acc: 0.58212\n"
     ]
    },
    {
     "name": "stderr",
     "output_type": "stream",
     "text": [
      " 80%|████████████████████████████████████████████████████████████████                | 160/200 [42:21<10:25, 15.63s/it]"
     ]
    },
    {
     "name": "stdout",
     "output_type": "stream",
     "text": [
      "\tEpoch: 160, train_acc: 0.60766, val_acc: 0.60139\n"
     ]
    },
    {
     "name": "stderr",
     "output_type": "stream",
     "text": [
      " 90%|████████████████████████████████████████████████████████████████████████        | 180/200 [47:33<05:10, 15.50s/it]"
     ]
    },
    {
     "name": "stdout",
     "output_type": "stream",
     "text": [
      "\tEpoch: 180, train_acc: 0.61804, val_acc: 0.61935\n"
     ]
    },
    {
     "name": "stderr",
     "output_type": "stream",
     "text": [
      "100%|████████████████████████████████████████████████████████████████████████████████| 200/200 [52:45<00:00, 15.83s/it]"
     ]
    },
    {
     "name": "stdout",
     "output_type": "stream",
     "text": [
      "\tEpoch: 200, train_acc: 0.63740, val_acc: 0.63639\n"
     ]
    },
    {
     "name": "stderr",
     "output_type": "stream",
     "text": [
      "\n"
     ]
    }
   ],
   "source": [
    "EPOCHS = 200\n",
    "train_accuracies, val_accuracies = train_losses, val_losses = train(gcn, data, optimizer, EPOCHS)"
   ]
  },
  {
   "cell_type": "code",
   "execution_count": 52,
   "id": "3b2df811",
   "metadata": {},
   "outputs": [
    {
     "data": {
      "text/plain": [
       "[<matplotlib.lines.Line2D at 0x1f280e5d5b0>]"
      ]
     },
     "execution_count": 52,
     "metadata": {},
     "output_type": "execute_result"
    },
    {
     "data": {
      "image/png": "[encoded data removed]",
      "text/plain": [
       "<Figure size 432x288 with 1 Axes>"
      ]
     },
     "metadata": {
      "needs_background": "light"
     },
     "output_type": "display_data"
    }
   ],
   "source": [
    "plt.plot(np.arange(1, EPOCHS+1), train_accuracies)\n",
    "plt.plot(np.arange(1, EPOCHS+1), val_accuracies)"
   ]
  },
  {
   "cell_type": "code",
   "execution_count": 59,
   "id": "2b08ebcc",
   "metadata": {},
   "outputs": [
    {
     "name": "stdout",
     "output_type": "stream",
     "text": [
      "Test accuracy score: 0.63411\n"
     ]
    }
   ],
   "source": [
    "acc_score, confusion_matrix = evaluate(gcn, data, data['incident'].test_mask, test_flag=True)\n",
    "print(f'Test accuracy score: {acc_score:.5f}')"
   ]
  },
  {
   "cell_type": "code",
   "execution_count": 65,
   "id": "5f5d551f",
   "metadata": {},
   "outputs": [
    {
     "data": {
      "text/plain": [
       "array([[15819,  7343],\n",
       "       [ 9767, 13834]], dtype=int64)"
      ]
     },
     "execution_count": 65,
     "metadata": {},
     "output_type": "execute_result"
    }
   ],
   "source": [
    "confusion_matrix"
   ]
  },
  {
   "cell_type": "code",
   "execution_count": null,
   "id": "27155b8f",
   "metadata": {},
   "outputs": [],
   "source": []
  },
  {
   "cell_type": "code",
   "execution_count": 64,
   "id": "bf4e746c",
   "metadata": {},
   "outputs": [
    {
     "data": {
      "text/plain": [
       "GraphModule(\n",
       "  (conv1): ModuleDict(\n",
       "    (incident__assigned__support_org): SAGEConv((-1, -1), 256, aggr=mean)\n",
       "    (incident__assigned__vendor): SAGEConv((-1, -1), 256, aggr=mean)\n",
       "    (incident__reported__customer): SAGEConv((-1, -1), 256, aggr=mean)\n",
       "    (support_org__rev_assigned__incident): SAGEConv((-1, -1), 256, aggr=mean)\n",
       "    (vendor__rev_assigned__incident): SAGEConv((-1, -1), 256, aggr=mean)\n",
       "    (customer__rev_reported__incident): SAGEConv((-1, -1), 256, aggr=mean)\n",
       "  )\n",
       "  (conv2): ModuleDict(\n",
       "    (incident__assigned__support_org): SAGEConv((-1, -1), 128, aggr=mean)\n",
       "    (incident__assigned__vendor): SAGEConv((-1, -1), 128, aggr=mean)\n",
       "    (incident__reported__customer): SAGEConv((-1, -1), 128, aggr=mean)\n",
       "    (support_org__rev_assigned__incident): SAGEConv((-1, -1), 128, aggr=mean)\n",
       "    (vendor__rev_assigned__incident): SAGEConv((-1, -1), 128, aggr=mean)\n",
       "    (customer__rev_reported__incident): SAGEConv((-1, -1), 128, aggr=mean)\n",
       "  )\n",
       "  (conv3): ModuleDict(\n",
       "    (incident__assigned__support_org): SAGEConv((-1, -1), 2, aggr=mean)\n",
       "    (incident__assigned__vendor): SAGEConv((-1, -1), 2, aggr=mean)\n",
       "    (incident__reported__customer): SAGEConv((-1, -1), 2, aggr=mean)\n",
       "    (support_org__rev_assigned__incident): SAGEConv((-1, -1), 2, aggr=mean)\n",
       "    (vendor__rev_assigned__incident): SAGEConv((-1, -1), 2, aggr=mean)\n",
       "    (customer__rev_reported__incident): SAGEConv((-1, -1), 2, aggr=mean)\n",
       "  )\n",
       ")"
      ]
     },
     "execution_count": 64,
     "metadata": {},
     "output_type": "execute_result"
    }
   ],
   "source": [
    "gcn"
   ]
  },
  {
   "cell_type": "code",
   "execution_count": 62,
   "id": "a8bdaa87",
   "metadata": {},
   "outputs": [],
   "source": [
    "torch.save(gcn, 'data/model.pt')"
   ]
  }
 ],
 "metadata": {
  "kernelspec": {
   "display_name": "Python 3",
   "language": "python",
   "name": "python3"
  },
  "language_info": {
   "codemirror_mode": {
    "name": "ipython",
    "version": 3
   },
   "file_extension": ".py",
   "mimetype": "text/x-python",
   "name": "python",
   "nbconvert_exporter": "python",
   "pygments_lexer": "ipython3",
   "version": "3.8.8"
  }
 },
 "nbformat": 4,
 "nbformat_minor": 5
}
