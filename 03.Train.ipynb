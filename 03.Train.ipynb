{
 "cells": [
  {
   "cell_type": "code",
   "execution_count": 1,
   "id": "6f95c324",
   "metadata": {},
   "outputs": [],
   "source": [
    "from torch_geometric.data import HeteroData\n",
    "from torch_geometric.transforms.random_node_split import RandomNodeSplit\n",
    "import torch_geometric.transforms as T\n",
    "from torch_geometric.nn import SAGEConv, to_hetero\n",
    "import torch.nn.functional as F\n",
    "from tqdm import tqdm\n",
    "from sklearn.metrics import roc_auc_score, accuracy_score\n",
    "import torch\n",
    "import matplotlib.pyplot as plt"
   ]
  },
  {
   "cell_type": "code",
   "execution_count": 2,
   "id": "10db80e5",
   "metadata": {},
   "outputs": [],
   "source": [
    "data = torch.load('data/hetero_data.pt')\n",
    "data = T.ToUndirected()(data)\n",
    "data = T.NormalizeFeatures()(data)\n",
    "split = RandomNodeSplit(num_test=0.33, num_val=0.2)\n",
    "\n",
    "data = split(data)"
   ]
  },
  {
   "cell_type": "code",
   "execution_count": 3,
   "id": "1f0c137a",
   "metadata": {},
   "outputs": [
    {
     "data": {
      "text/plain": [
       "HeteroData(\n",
       "  incident={\n",
       "    x=[141707, 51],\n",
       "    y=[141707],\n",
       "    train_mask=[141707],\n",
       "    val_mask=[141707],\n",
       "    test_mask=[141707],\n",
       "  },\n",
       "  support_org={ x=[141707, 17] },\n",
       "  customer={ x=[141707, 16] },\n",
       "  vendor={ x=[141707, 16] },\n",
       "  (incident, assigned, support_org)={ edge_index=[2, 141707] },\n",
       "  (incident, assigned, vendor)={ edge_index=[2, 141707] },\n",
       "  (incident, reported, customer)={ edge_index=[2, 141707] },\n",
       "  (support_org, rev_assigned, incident)={ edge_index=[2, 141707] },\n",
       "  (vendor, rev_assigned, incident)={ edge_index=[2, 141707] },\n",
       "  (customer, rev_reported, incident)={ edge_index=[2, 141707] }\n",
       ")"
      ]
     },
     "execution_count": 3,
     "metadata": {},
     "output_type": "execute_result"
    }
   ],
   "source": [
    "data"
   ]
  },
  {
   "cell_type": "code",
   "execution_count": 4,
   "id": "90d82b30",
   "metadata": {},
   "outputs": [],
   "source": [
    "class GCN(torch.nn.Module):\n",
    "    def __init__(self, hidden_channels, out_channels):\n",
    "        super().__init__()\n",
    "        self.conv1 = SAGEConv((-1, -1), hidden_channels, aggr='sum')\n",
    "        self.conv2 = SAGEConv((-1, -1), out_channels, aggr='sum')\n",
    "\n",
    "    def forward(self, x, edge_index):\n",
    "        x = self.conv1(x, edge_index).relu()\n",
    "        x = self.conv2(x, edge_index).sigmoid()\n",
    "\n",
    "        return x\n",
    "\n",
    "\n",
    "gcn = GCN(hidden_channels=32, out_channels=2)\n",
    "gcn = to_hetero(gcn, data.metadata(), aggr='sum')\n",
    "optimizer = torch.optim.Adam(gcn.parameters(), lr=0.0001, weight_decay=5e-4)"
   ]
  },
  {
   "cell_type": "code",
   "execution_count": 5,
   "id": "d6a2bcd7",
   "metadata": {},
   "outputs": [],
   "source": [
    "def train(model, data, optimizer, loss, n_epochs=200):\n",
    "    train_losses = []\n",
    "    val_accs = []\n",
    "    for epoch in tqdm(range(1, n_epochs + 1)):\n",
    "        model.train()\n",
    "        optimizer.zero_grad()\n",
    "        out = model(data.x_dict, data.edge_index_dict)\n",
    "        mask = data['incident'].train_mask\n",
    "        loss_fn = F.cross_entropy(out['incident'][mask], data['incident'].y[mask].type(torch.LongTensor))\n",
    "        loss_fn.backward(retain_graph=True)\n",
    "        optimizer.step()\n",
    "\n",
    "        val_acc = eval_node_classifier(model, data, data['incident'].val_mask)\n",
    "        train_acc = accuracy_score(out['incident'][mask].argmax(dim=-1), data['incident'].y[mask].detach().numpy())\n",
    "        if epoch % 20 == 0:\n",
    "            print(f'\\tEpoch: {epoch}, train_loss: {float(loss_fn):.5f}, train_acc: {train_acc:.5f}, val_acc: {val_acc:.5f}')\n",
    "\n",
    "        train_losses.append(loss_fn)\n",
    "        val_accs.append(val_acc)\n",
    "\n",
    "    return train_losses, val_accs\n",
    "\n",
    "\n",
    "def eval_node_classifier(model, data, mask):\n",
    "    with torch.no_grad():\n",
    "        model.eval()\n",
    "        out = model(data.x_dict, data.edge_index_dict)['incident']\n",
    "        pred = out.argmax(dim=-1)\n",
    "\n",
    "    #     roc_score = roc_auc_score(pred, mask)\n",
    "        acc_score = accuracy_score(pred, mask)\n",
    "\n",
    "        return acc_score"
   ]
  },
  {
   "cell_type": "code",
   "execution_count": 6,
   "id": "f3f57466",
   "metadata": {},
   "outputs": [
    {
     "name": "stderr",
     "output_type": "stream",
     "text": [
      " 20%|████████████████▏                                                                | 20/100 [00:49<03:25,  2.57s/it]"
     ]
    },
    {
     "name": "stdout",
     "output_type": "stream",
     "text": [
      "\tEpoch: 20, train_loss: 0.69405, train_acc: 0.49483, val_acc: 0.79971\n"
     ]
    },
    {
     "name": "stderr",
     "output_type": "stream",
     "text": [
      " 40%|████████████████████████████████▍                                                | 40/100 [01:42<02:42,  2.71s/it]"
     ]
    },
    {
     "name": "stdout",
     "output_type": "stream",
     "text": [
      "\tEpoch: 40, train_loss: 0.69365, train_acc: 0.49480, val_acc: 0.79971\n"
     ]
    },
    {
     "name": "stderr",
     "output_type": "stream",
     "text": [
      " 60%|████████████████████████████████████████████████▌                                | 60/100 [02:36<01:59,  2.99s/it]"
     ]
    },
    {
     "name": "stdout",
     "output_type": "stream",
     "text": [
      "\tEpoch: 60, train_loss: 0.69336, train_acc: 0.49481, val_acc: 0.79973\n"
     ]
    },
    {
     "name": "stderr",
     "output_type": "stream",
     "text": [
      " 80%|████████████████████████████████████████████████████████████████▊                | 80/100 [03:38<01:11,  3.56s/it]"
     ]
    },
    {
     "name": "stdout",
     "output_type": "stream",
     "text": [
      "\tEpoch: 80, train_loss: 0.69318, train_acc: 0.49484, val_acc: 0.79969\n"
     ]
    },
    {
     "name": "stderr",
     "output_type": "stream",
     "text": [
      "100%|████████████████████████████████████████████████████████████████████████████████| 100/100 [04:31<00:00,  2.72s/it]"
     ]
    },
    {
     "name": "stdout",
     "output_type": "stream",
     "text": [
      "\tEpoch: 100, train_loss: 0.69305, train_acc: 0.49789, val_acc: 0.78326\n"
     ]
    },
    {
     "name": "stderr",
     "output_type": "stream",
     "text": [
      "\n"
     ]
    }
   ],
   "source": [
    "train_losses, val_losses = train(gcn, data, optimizer, None, 100)"
   ]
  },
  {
   "cell_type": "code",
   "execution_count": 7,
   "id": "225ce712",
   "metadata": {},
   "outputs": [
    {
     "data": {
      "text/plain": [
       "0.6615410671314755"
      ]
     },
     "execution_count": 7,
     "metadata": {},
     "output_type": "execute_result"
    }
   ],
   "source": [
    "acc_score = eval_node_classifier(gcn, data, data['incident'].test_mask)\n",
    "acc_score"
   ]
  },
  {
   "cell_type": "code",
   "execution_count": null,
   "id": "68fe5970",
   "metadata": {},
   "outputs": [],
   "source": []
  }
 ],
 "metadata": {
  "kernelspec": {
   "display_name": "Python 3",
   "language": "python",
   "name": "python3"
  },
  "language_info": {
   "codemirror_mode": {
    "name": "ipython",
    "version": 3
   },
   "file_extension": ".py",
   "mimetype": "text/x-python",
   "name": "python",
   "nbconvert_exporter": "python",
   "pygments_lexer": "ipython3",
   "version": "3.8.8"
  }
 },
 "nbformat": 4,
 "nbformat_minor": 5
}
