{
 "cells": [
  {
   "cell_type": "code",
   "execution_count": 26,
   "id": "ce52ac68",
   "metadata": {},
   "outputs": [],
   "source": [
    "from torch_geometric.data import HeteroData\n",
    "from torch_geometric.datasets import Entities\n",
    "from torch_geometric.transforms.random_node_split import RandomNodeSplit\n",
    "import torch_geometric.transforms as T\n",
    "from torch_geometric.nn import SAGEConv, GraphConv, to_hetero\n",
    "import torch.nn.functional as F\n",
    "from tqdm import tqdm\n",
    "from sklearn.metrics import confusion_matrix, accuracy_score\n",
    "import torch\n",
    "import matplotlib.pyplot as plt\n",
    "import numpy as np"
   ]
  },
  {
   "cell_type": "markdown",
   "id": "db26d857-f770-4bbd-aef8-36e2f5d7b03b",
   "metadata": {},
   "source": [
    "Graf formiran u prethodnom koraku je usmeren. Međutim, usmerenje grana za ovaj skup podataka nije bitno, tako da se vrši transformacija u neusmereni graf. [`ToUndirected()`](https://pytorch-geometric.readthedocs.io/en/latest/generated/torch_geometric.transforms.ToUndirected.html) svakoj postojećoj grani grafa dodaje granu suprotnog usmerenja (povratnu granu, označena prefiksom `rev_` kod naziva relacije). Pored ove transformacije, izvršava se i normalizacija podataka i podela na skupove za trening, validaciju i testiranje."
   ]
  },
  {
   "cell_type": "code",
   "execution_count": 27,
   "id": "46d87134",
   "metadata": {},
   "outputs": [],
   "source": [
    "data = torch.load('data/hetero_data.pt')\n",
    "data = T.ToUndirected()(data)\n",
    "data = T.NormalizeFeatures()(data)\n",
    "split = RandomNodeSplit(num_test=0.33, num_val=0.2)\n",
    "\n",
    "data = split(data)"
   ]
  },
  {
   "cell_type": "markdown",
   "id": "65fb53e5-a6b4-4bef-b7ce-f806f33886ee",
   "metadata": {},
   "source": [
    "[`RandomNodeSplit()`](https://pytorch-geometric.readthedocs.io/en/latest/generated/torch_geometric.transforms.RandomNodeSplit.html) dodaje `train_mask`, `val_mask` i `test_mask` vektore. Ovi vektori su dužine broja instanci i sadrže vrednost 1 ako instanca pripada trening/test/validacionom skupu, 0 u suprotnom."
   ]
  },
  {
   "cell_type": "code",
   "execution_count": 28,
   "id": "82e080a7",
   "metadata": {},
   "outputs": [
    {
     "data": {
      "text/plain": [
       "HeteroData(\n",
       "  \u001b[1mincident\u001b[0m={\n",
       "    x=[141707, 51],\n",
       "    y=[141707],\n",
       "    train_mask=[141707],\n",
       "    val_mask=[141707],\n",
       "    test_mask=[141707]\n",
       "  },\n",
       "  \u001b[1msupport_org\u001b[0m={ x=[141707, 17] },\n",
       "  \u001b[1mcustomer\u001b[0m={ x=[141707, 16] },\n",
       "  \u001b[1mvendor\u001b[0m={ x=[141707, 16] },\n",
       "  \u001b[1m(incident, assigned, support_org)\u001b[0m={ edge_index=[2, 141707] },\n",
       "  \u001b[1m(incident, assigned, vendor)\u001b[0m={ edge_index=[2, 141707] },\n",
       "  \u001b[1m(incident, reported, customer)\u001b[0m={ edge_index=[2, 141707] },\n",
       "  \u001b[1m(support_org, rev_assigned, incident)\u001b[0m={ edge_index=[2, 141707] },\n",
       "  \u001b[1m(vendor, rev_assigned, incident)\u001b[0m={ edge_index=[2, 141707] },\n",
       "  \u001b[1m(customer, rev_reported, incident)\u001b[0m={ edge_index=[2, 141707] }\n",
       ")"
      ]
     },
     "execution_count": 28,
     "metadata": {},
     "output_type": "execute_result"
    }
   ],
   "source": [
    "data"
   ]
  },
  {
   "cell_type": "markdown",
   "id": "a9689688-530f-4300-9e7e-b8448849a427",
   "metadata": {},
   "source": [
    "## Grafovske konvolutivne mreže\n",
    "\n",
    "**Problem:** U zadatom grafu $G = (V, E)$ čvorovi podskupa $V_L$ skupa čvorova su obeleženi, dok čvorovi podskupa $V_U$ nisu obeleženi $(V = (V_L \\bigcup V_U))$. Potrebno je odrediti funkciju $f$ sa parametrima $\\textbf{W}$ koja za čvor $u$, $\\forall u\\in V_L$, predviđa labelu $z_u$ čija je stvarna labela $y_u$ sa minimalnom greškom.\n",
    "\n",
    "Grafovska konvolutivna mreža izračunava atribute čvora $u$, $\\forall u \\in V_L$ narednog sloja mreže na osnovu agregiranih informacija iz susedstva čvora $u$. Operator za računanje narednog sloja mreže korišćen ovde je [GraphSAGE](https://arxiv.org/pdf/1706.02216.pdf) (SAmple and aggreGatE). Pravilo propagacije za GraphSAGE je sledeće:\n",
    "$$\n",
    "h^{k}_{u} = \\sigma(W \\cdot MEAN(\\{h^{k-1}_{u}\\}\\cup \\{h^{k-1}_{v}, \\forall v \\in \\textit{N}(u)\\}))\n",
    "$$\n",
    "pri čemu skup $\\textit{N}(u)$ sadrži sve susede čvora $u$, $\\sigma$ je aktivaciona funkcija (npr. $ReLU$).\n",
    "\n",
    "SAGEConv operator paketa PyG koji je zasnovan na GraphSAGE se ne može koristiti nad heterogenim grafovima. Čvorovi i grane su različitih tipova, pa se nad njima ne mogu koristiti iste funkcije. Funkcija [`to_hetero()`](https://pytorch-geometric.readthedocs.io/en/latest/modules/nn.html#torch_geometric.nn.to_hetero_transformer.to_hetero) transformiše homogeni model u heterogeni, tako da svaki tip čvora prosleđuje informacije ostalim tipovima čvorova. Rezultat primene `to_hetero()` se može videti na sledećoj slici:\n",
    "\n",
    "![to_hetero](assets/to_hetero.png)"
   ]
  },
  {
   "cell_type": "code",
   "execution_count": 37,
   "id": "834650c8",
   "metadata": {},
   "outputs": [],
   "source": [
    "class GCN(torch.nn.Module):\n",
    "    def __init__(self, hidden_channels, out_channels):\n",
    "        super().__init__()\n",
    "        self.conv1 = SAGEConv((-1, -1), hidden_channels, aggr='mean')\n",
    "        self.conv2 = SAGEConv((-1, -1), out_channels, aggr='mean')\n",
    "\n",
    "    def forward(self, x, edge_index):\n",
    "        x = F.relu(self.conv1(x, edge_index))\n",
    "        x = F.sigmoid(self.conv2(x, edge_index))\n",
    "\n",
    "        return x\n",
    "\n",
    "\n",
    "gcn = GCN(hidden_channels=256, out_channels=2)\n",
    "gcn = to_hetero(gcn, data.metadata(), aggr='sum')\n",
    "optimizer = torch.optim.Adam(gcn.parameters(), lr=0.001, weight_decay=5e-4)"
   ]
  },
  {
   "cell_type": "code",
   "execution_count": 38,
   "id": "2f6cf3c8",
   "metadata": {},
   "outputs": [],
   "source": [
    "def train(model, data, optimizer, n_epochs=200):\n",
    "    train_accs = []\n",
    "    val_accs = []\n",
    "    for epoch in tqdm(range(1, n_epochs + 1)):\n",
    "        model.train()\n",
    "        optimizer.zero_grad()\n",
    "        out = model(data.x_dict, data.edge_index_dict)\n",
    "        mask = data['incident'].train_mask\n",
    "        loss_fn = F.cross_entropy(out['incident'][mask], data['incident'].y[mask].type(torch.LongTensor))\n",
    "        loss_fn.backward(retain_graph=True)\n",
    "        optimizer.step()\n",
    "\n",
    "        val_acc = evaluate(model, data, data['incident'].val_mask, test_flag=False)\n",
    "        train_acc = (out['incident'][mask].argmax(dim=-1) == data['incident'].y[mask]).sum()/float(mask.sum())\n",
    "        if epoch % 10 == 0:\n",
    "            print(f'\\tEpoch: {epoch}, train_acc: {train_acc:.5f}, val_acc: {val_acc:.5f}')\n",
    "\n",
    "        train_accs.append(train_acc)\n",
    "        val_accs.append(val_acc)\n",
    "\n",
    "    return train_accs, val_accs\n",
    "\n",
    "\n",
    "def evaluate(model, data, mask, test_flag):\n",
    "    with torch.no_grad():\n",
    "        model.eval()\n",
    "        out = model(data.x_dict, data.edge_index_dict)['incident']\n",
    "        pred = out.argmax(dim=-1)\n",
    "        correct = (pred[mask] == data['incident'].y[mask]).sum()\n",
    "\n",
    "        acc_score = correct/float(mask.sum())\n",
    "        \n",
    "        if test_flag:\n",
    "            return acc_score, confusion_matrix(y_pred=pred[mask], y_true=data['incident'].y[mask])\n",
    "\n",
    "        return acc_score"
   ]
  },
  {
   "cell_type": "code",
   "execution_count": 39,
   "id": "e563adba",
   "metadata": {},
   "outputs": [
    {
     "name": "stderr",
     "output_type": "stream",
     "text": [
      " 10%|███████▉                                                                       | 10/100 [00:56<08:23,  5.59s/it]"
     ]
    },
    {
     "name": "stdout",
     "output_type": "stream",
     "text": [
      "\tEpoch: 10, train_acc: 0.51318, val_acc: 0.51791\n"
     ]
    },
    {
     "name": "stderr",
     "output_type": "stream",
     "text": [
      " 20%|███████████████▊                                                               | 20/100 [01:53<07:48,  5.86s/it]"
     ]
    },
    {
     "name": "stdout",
     "output_type": "stream",
     "text": [
      "\tEpoch: 20, train_acc: 0.52014, val_acc: 0.52320\n"
     ]
    },
    {
     "name": "stderr",
     "output_type": "stream",
     "text": [
      " 30%|███████████████████████▋                                                       | 30/100 [02:47<06:12,  5.32s/it]"
     ]
    },
    {
     "name": "stdout",
     "output_type": "stream",
     "text": [
      "\tEpoch: 30, train_acc: 0.52697, val_acc: 0.52959\n"
     ]
    },
    {
     "name": "stderr",
     "output_type": "stream",
     "text": [
      " 40%|███████████████████████████████▌                                               | 40/100 [03:40<05:13,  5.23s/it]"
     ]
    },
    {
     "name": "stdout",
     "output_type": "stream",
     "text": [
      "\tEpoch: 40, train_acc: 0.53720, val_acc: 0.53816\n"
     ]
    },
    {
     "name": "stderr",
     "output_type": "stream",
     "text": [
      " 50%|███████████████████████████████████████▌                                       | 50/100 [04:31<04:14,  5.08s/it]"
     ]
    },
    {
     "name": "stdout",
     "output_type": "stream",
     "text": [
      "\tEpoch: 50, train_acc: 0.54705, val_acc: 0.54666\n"
     ]
    },
    {
     "name": "stderr",
     "output_type": "stream",
     "text": [
      " 60%|███████████████████████████████████████████████▍                               | 60/100 [05:19<03:16,  4.92s/it]"
     ]
    },
    {
     "name": "stdout",
     "output_type": "stream",
     "text": [
      "\tEpoch: 60, train_acc: 0.55182, val_acc: 0.55358\n"
     ]
    },
    {
     "name": "stderr",
     "output_type": "stream",
     "text": [
      " 70%|███████████████████████████████████████████████████████▎                       | 70/100 [06:10<02:34,  5.16s/it]"
     ]
    },
    {
     "name": "stdout",
     "output_type": "stream",
     "text": [
      "\tEpoch: 70, train_acc: 0.55082, val_acc: 0.55224\n"
     ]
    },
    {
     "name": "stderr",
     "output_type": "stream",
     "text": [
      " 80%|███████████████████████████████████████████████████████████████▏               | 80/100 [07:02<01:44,  5.20s/it]"
     ]
    },
    {
     "name": "stdout",
     "output_type": "stream",
     "text": [
      "\tEpoch: 80, train_acc: 0.55020, val_acc: 0.54966\n"
     ]
    },
    {
     "name": "stderr",
     "output_type": "stream",
     "text": [
      " 90%|███████████████████████████████████████████████████████████████████████        | 90/100 [07:57<00:56,  5.65s/it]"
     ]
    },
    {
     "name": "stdout",
     "output_type": "stream",
     "text": [
      "\tEpoch: 90, train_acc: 0.55074, val_acc: 0.55037\n"
     ]
    },
    {
     "name": "stderr",
     "output_type": "stream",
     "text": [
      "100%|██████████████████████████████████████████████████████████████████████████████| 100/100 [08:51<00:00,  5.32s/it]"
     ]
    },
    {
     "name": "stdout",
     "output_type": "stream",
     "text": [
      "\tEpoch: 100, train_acc: 0.55055, val_acc: 0.54963\n"
     ]
    },
    {
     "name": "stderr",
     "output_type": "stream",
     "text": [
      "\n"
     ]
    }
   ],
   "source": [
    "EPOCHS = 100\n",
    "train_accuracies, val_accuracies = train_losses, val_losses = train(gcn, data, optimizer, EPOCHS)"
   ]
  },
  {
   "cell_type": "code",
   "execution_count": 40,
   "id": "01fe4492",
   "metadata": {},
   "outputs": [
    {
     "data": {
      "text/plain": [
       "[<matplotlib.lines.Line2D at 0x7f050ca34a30>]"
      ]
     },
     "execution_count": 40,
     "metadata": {},
     "output_type": "execute_result"
    },
    {
     "data": {
      "image/png": "[encoded data removed]",
      "text/plain": [
       "<Figure size 640x480 with 1 Axes>"
      ]
     },
     "metadata": {},
     "output_type": "display_data"
    }
   ],
   "source": [
    "plt.plot(np.arange(1, EPOCHS+1), train_accuracies)\n",
    "plt.plot(np.arange(1, EPOCHS+1), val_accuracies)"
   ]
  },
  {
   "cell_type": "code",
   "execution_count": 41,
   "id": "d97cf664",
   "metadata": {},
   "outputs": [
    {
     "name": "stdout",
     "output_type": "stream",
     "text": [
      "Test accuracy score: 0.55369\n"
     ]
    }
   ],
   "source": [
    "acc_score, confusion_matrix = evaluate(gcn, data, data['incident'].test_mask, test_flag=True)\n",
    "print(f'Test accuracy score: {acc_score:.5f}')"
   ]
  },
  {
   "cell_type": "code",
   "execution_count": 42,
   "id": "6eb870d0",
   "metadata": {},
   "outputs": [
    {
     "data": {
      "text/plain": [
       "array([[ 9816, 13218],\n",
       "       [ 7653, 16076]])"
      ]
     },
     "execution_count": 42,
     "metadata": {},
     "output_type": "execute_result"
    }
   ],
   "source": [
    "confusion_matrix"
   ]
  },
  {
   "cell_type": "code",
   "execution_count": null,
   "id": "2de77588-73b6-481c-8fb3-9e7bf9512391",
   "metadata": {},
   "outputs": [],
   "source": []
  }
 ],
 "metadata": {
  "kernelspec": {
   "display_name": "Python 3 (ipykernel)",
   "language": "python",
   "name": "python3"
  },
  "language_info": {
   "codemirror_mode": {
    "name": "ipython",
    "version": 3
   },
   "file_extension": ".py",
   "mimetype": "text/x-python",
   "name": "python",
   "nbconvert_exporter": "python",
   "pygments_lexer": "ipython3",
   "version": "3.10.12"
  }
 },
 "nbformat": 4,
 "nbformat_minor": 5
}
