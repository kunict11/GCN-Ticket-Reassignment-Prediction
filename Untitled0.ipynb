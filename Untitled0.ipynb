{
 "cells": [
  {
   "cell_type": "code",
   "execution_count": 2,
   "metadata": {
    "id": "LNxo0VkjwMsy"
   },
   "outputs": [
    {
     "name": "stdout",
     "output_type": "stream",
     "text": [
      "ERROR! Session/line number was not unique in database. History logging moved to new session 222\n"
     ]
    }
   ],
   "source": [
    "import numpy as np\n",
    "import pandas as pd\n",
    "import matplotlib.pyplot as plt"
   ]
  },
  {
   "cell_type": "code",
   "execution_count": 3,
   "metadata": {
    "colab": {
     "base_uri": "https://localhost:8080/"
    },
    "id": "JgZHCJWAwldA",
    "outputId": "6ae469e4-4e4a-4e54-9a31-4035e86eb52a"
   },
   "outputs": [
    {
     "data": {
      "text/plain": [
       "(141712, 36)"
      ]
     },
     "execution_count": 3,
     "metadata": {},
     "output_type": "execute_result"
    }
   ],
   "source": [
    "df = pd.read_csv('data/incident_event_log.csv')\n",
    "df.head(10)\n",
    "df.shape"
   ]
  },
  {
   "cell_type": "code",
   "execution_count": 4,
   "metadata": {
    "colab": {
     "base_uri": "https://localhost:8080/"
    },
    "id": "xJaD7g68wuEC",
    "outputId": "68c1d7ec-e537-4693-f4da-1d88f54cdad1"
   },
   "outputs": [
    {
     "name": "stdout",
     "output_type": "stream",
     "text": [
      "<class 'pandas.core.frame.DataFrame'>\n",
      "RangeIndex: 141712 entries, 0 to 141711\n",
      "Data columns (total 36 columns):\n",
      " #   Column                   Non-Null Count   Dtype \n",
      "---  ------                   --------------   ----- \n",
      " 0   number                   141712 non-null  object\n",
      " 1   incident_state           141712 non-null  object\n",
      " 2   active                   141712 non-null  bool  \n",
      " 3   reassignment_count       141712 non-null  int64 \n",
      " 4   reopen_count             141712 non-null  int64 \n",
      " 5   sys_mod_count            141712 non-null  int64 \n",
      " 6   made_sla                 141712 non-null  bool  \n",
      " 7   caller_id                141712 non-null  object\n",
      " 8   opened_by                141712 non-null  object\n",
      " 9   opened_at                141712 non-null  object\n",
      " 10  sys_created_by           141712 non-null  object\n",
      " 11  sys_created_at           141712 non-null  object\n",
      " 12  sys_updated_by           141712 non-null  object\n",
      " 13  sys_updated_at           141712 non-null  object\n",
      " 14  contact_type             141712 non-null  object\n",
      " 15  location                 141712 non-null  object\n",
      " 16  category                 141712 non-null  object\n",
      " 17  subcategory              141712 non-null  object\n",
      " 18  u_symptom                141712 non-null  object\n",
      " 19  cmdb_ci                  141712 non-null  object\n",
      " 20  impact                   141712 non-null  object\n",
      " 21  urgency                  141712 non-null  object\n",
      " 22  priority                 141712 non-null  object\n",
      " 23  assignment_group         141712 non-null  object\n",
      " 24  assigned_to              141712 non-null  object\n",
      " 25  knowledge                141712 non-null  bool  \n",
      " 26  u_priority_confirmation  141712 non-null  bool  \n",
      " 27  notify                   141712 non-null  object\n",
      " 28  problem_id               141712 non-null  object\n",
      " 29  rfc                      141712 non-null  object\n",
      " 30  vendor                   141712 non-null  object\n",
      " 31  caused_by                141712 non-null  object\n",
      " 32  closed_code              141712 non-null  object\n",
      " 33  resolved_by              141712 non-null  object\n",
      " 34  resolved_at              141712 non-null  object\n",
      " 35  closed_at                141712 non-null  object\n",
      "dtypes: bool(4), int64(3), object(29)\n",
      "memory usage: 35.1+ MB\n"
     ]
    }
   ],
   "source": [
    "df.info()"
   ]
  },
  {
   "cell_type": "code",
   "execution_count": 5,
   "metadata": {
    "colab": {
     "base_uri": "https://localhost:8080/",
     "height": 36
    },
    "id": "o5mHSIuSxnMS",
    "outputId": "70ca6d18-0075-459d-d1c3-7d910ff14e39"
   },
   "outputs": [
    {
     "data": {
      "text/plain": [
       "'397'"
      ]
     },
     "execution_count": 5,
     "metadata": {},
     "output_type": "execute_result"
    }
   ],
   "source": [
    "df['opened_by'].unique()[1].split(sep=' ')[-1]"
   ]
  },
  {
   "cell_type": "code",
   "execution_count": 6,
   "metadata": {
    "id": "ViRALv0ihT9l"
   },
   "outputs": [],
   "source": [
    "timestamp_features = ['opened_at', 'sys_created_at', 'sys_updated_at', 'resolved_at', 'closed_at']\n",
    "df.drop(columns=timestamp_features, inplace=True)"
   ]
  },
  {
   "cell_type": "code",
   "execution_count": 7,
   "metadata": {
    "colab": {
     "base_uri": "https://localhost:8080/"
    },
    "id": "JlnPaMVDoVUj",
    "outputId": "cc4a3eae-c793-4689-82ed-9b380803ec4a"
   },
   "outputs": [
    {
     "data": {
      "text/plain": [
       "number                     24918\n",
       "incident_state                 9\n",
       "active                         2\n",
       "reassignment_count            28\n",
       "reopen_count                   9\n",
       "sys_mod_count                115\n",
       "made_sla                       2\n",
       "caller_id                   5245\n",
       "opened_by                    208\n",
       "sys_created_by               186\n",
       "sys_updated_by               846\n",
       "contact_type                   5\n",
       "location                     225\n",
       "category                      59\n",
       "subcategory                  255\n",
       "u_symptom                    526\n",
       "cmdb_ci                       51\n",
       "impact                         3\n",
       "urgency                        3\n",
       "priority                       4\n",
       "assignment_group              79\n",
       "assigned_to                  235\n",
       "knowledge                      2\n",
       "u_priority_confirmation        2\n",
       "notify                         2\n",
       "problem_id                   253\n",
       "rfc                          182\n",
       "vendor                         5\n",
       "caused_by                      4\n",
       "closed_code                   18\n",
       "resolved_by                  217\n",
       "dtype: int64"
      ]
     },
     "execution_count": 7,
     "metadata": {},
     "output_type": "execute_result"
    }
   ],
   "source": [
    "df.nunique()"
   ]
  },
  {
   "cell_type": "code",
   "execution_count": 8,
   "metadata": {
    "colab": {
     "base_uri": "https://localhost:8080/",
     "height": 591
    },
    "id": "Y0S1Ij-bqNl3",
    "outputId": "a2be6c2b-f275-492e-d0e9-d814a094404f"
   },
   "outputs": [
    {
     "data": {
      "text/html": [
       "<div>\n",
       "<style scoped>\n",
       "    .dataframe tbody tr th:only-of-type {\n",
       "        vertical-align: middle;\n",
       "    }\n",
       "\n",
       "    .dataframe tbody tr th {\n",
       "        vertical-align: top;\n",
       "    }\n",
       "\n",
       "    .dataframe thead th {\n",
       "        text-align: right;\n",
       "    }\n",
       "</style>\n",
       "<table border=\"1\" class=\"dataframe\">\n",
       "  <thead>\n",
       "    <tr style=\"text-align: right;\">\n",
       "      <th></th>\n",
       "      <th>number</th>\n",
       "      <th>incident_state</th>\n",
       "      <th>active</th>\n",
       "      <th>reassignment_count</th>\n",
       "      <th>reopen_count</th>\n",
       "      <th>sys_mod_count</th>\n",
       "      <th>made_sla</th>\n",
       "      <th>caller_id</th>\n",
       "      <th>opened_by</th>\n",
       "      <th>sys_created_by</th>\n",
       "      <th>...</th>\n",
       "      <th>assigned_to</th>\n",
       "      <th>knowledge</th>\n",
       "      <th>u_priority_confirmation</th>\n",
       "      <th>notify</th>\n",
       "      <th>problem_id</th>\n",
       "      <th>rfc</th>\n",
       "      <th>vendor</th>\n",
       "      <th>caused_by</th>\n",
       "      <th>closed_code</th>\n",
       "      <th>resolved_by</th>\n",
       "    </tr>\n",
       "  </thead>\n",
       "  <tbody>\n",
       "    <tr>\n",
       "      <th>0</th>\n",
       "      <td>INC0000045</td>\n",
       "      <td>New</td>\n",
       "      <td>1.0</td>\n",
       "      <td>0.0</td>\n",
       "      <td>0.0</td>\n",
       "      <td>0.0</td>\n",
       "      <td>1.0</td>\n",
       "      <td>Caller 2403</td>\n",
       "      <td>Opened by  8</td>\n",
       "      <td>Created by 6</td>\n",
       "      <td>...</td>\n",
       "      <td>?</td>\n",
       "      <td>1.0</td>\n",
       "      <td>0.0</td>\n",
       "      <td>Do Not Notify</td>\n",
       "      <td>?</td>\n",
       "      <td>?</td>\n",
       "      <td>?</td>\n",
       "      <td>?</td>\n",
       "      <td>code 5</td>\n",
       "      <td>Resolved by 149</td>\n",
       "    </tr>\n",
       "    <tr>\n",
       "      <th>1</th>\n",
       "      <td>INC0000045</td>\n",
       "      <td>Resolved</td>\n",
       "      <td>1.0</td>\n",
       "      <td>0.0</td>\n",
       "      <td>0.0</td>\n",
       "      <td>2.0</td>\n",
       "      <td>1.0</td>\n",
       "      <td>Caller 2403</td>\n",
       "      <td>Opened by  8</td>\n",
       "      <td>Created by 6</td>\n",
       "      <td>...</td>\n",
       "      <td>?</td>\n",
       "      <td>1.0</td>\n",
       "      <td>0.0</td>\n",
       "      <td>Do Not Notify</td>\n",
       "      <td>?</td>\n",
       "      <td>?</td>\n",
       "      <td>?</td>\n",
       "      <td>?</td>\n",
       "      <td>code 5</td>\n",
       "      <td>Resolved by 149</td>\n",
       "    </tr>\n",
       "    <tr>\n",
       "      <th>2</th>\n",
       "      <td>INC0000045</td>\n",
       "      <td>Resolved</td>\n",
       "      <td>1.0</td>\n",
       "      <td>0.0</td>\n",
       "      <td>0.0</td>\n",
       "      <td>3.0</td>\n",
       "      <td>1.0</td>\n",
       "      <td>Caller 2403</td>\n",
       "      <td>Opened by  8</td>\n",
       "      <td>Created by 6</td>\n",
       "      <td>...</td>\n",
       "      <td>?</td>\n",
       "      <td>1.0</td>\n",
       "      <td>0.0</td>\n",
       "      <td>Do Not Notify</td>\n",
       "      <td>?</td>\n",
       "      <td>?</td>\n",
       "      <td>?</td>\n",
       "      <td>?</td>\n",
       "      <td>code 5</td>\n",
       "      <td>Resolved by 149</td>\n",
       "    </tr>\n",
       "    <tr>\n",
       "      <th>3</th>\n",
       "      <td>INC0000045</td>\n",
       "      <td>Closed</td>\n",
       "      <td>0.0</td>\n",
       "      <td>0.0</td>\n",
       "      <td>0.0</td>\n",
       "      <td>4.0</td>\n",
       "      <td>1.0</td>\n",
       "      <td>Caller 2403</td>\n",
       "      <td>Opened by  8</td>\n",
       "      <td>Created by 6</td>\n",
       "      <td>...</td>\n",
       "      <td>?</td>\n",
       "      <td>1.0</td>\n",
       "      <td>0.0</td>\n",
       "      <td>Do Not Notify</td>\n",
       "      <td>?</td>\n",
       "      <td>?</td>\n",
       "      <td>?</td>\n",
       "      <td>?</td>\n",
       "      <td>code 5</td>\n",
       "      <td>Resolved by 149</td>\n",
       "    </tr>\n",
       "    <tr>\n",
       "      <th>4</th>\n",
       "      <td>INC0000047</td>\n",
       "      <td>New</td>\n",
       "      <td>1.0</td>\n",
       "      <td>0.0</td>\n",
       "      <td>0.0</td>\n",
       "      <td>0.0</td>\n",
       "      <td>1.0</td>\n",
       "      <td>Caller 2403</td>\n",
       "      <td>Opened by  397</td>\n",
       "      <td>Created by 171</td>\n",
       "      <td>...</td>\n",
       "      <td>Resolver 89</td>\n",
       "      <td>1.0</td>\n",
       "      <td>0.0</td>\n",
       "      <td>Do Not Notify</td>\n",
       "      <td>?</td>\n",
       "      <td>?</td>\n",
       "      <td>?</td>\n",
       "      <td>?</td>\n",
       "      <td>code 5</td>\n",
       "      <td>Resolved by 81</td>\n",
       "    </tr>\n",
       "    <tr>\n",
       "      <th>...</th>\n",
       "      <td>...</td>\n",
       "      <td>...</td>\n",
       "      <td>...</td>\n",
       "      <td>...</td>\n",
       "      <td>...</td>\n",
       "      <td>...</td>\n",
       "      <td>...</td>\n",
       "      <td>...</td>\n",
       "      <td>...</td>\n",
       "      <td>...</td>\n",
       "      <td>...</td>\n",
       "      <td>...</td>\n",
       "      <td>...</td>\n",
       "      <td>...</td>\n",
       "      <td>...</td>\n",
       "      <td>...</td>\n",
       "      <td>...</td>\n",
       "      <td>...</td>\n",
       "      <td>...</td>\n",
       "      <td>...</td>\n",
       "      <td>...</td>\n",
       "    </tr>\n",
       "    <tr>\n",
       "      <th>141707</th>\n",
       "      <td>NaN</td>\n",
       "      <td>NaN</td>\n",
       "      <td>NaN</td>\n",
       "      <td>NaN</td>\n",
       "      <td>NaN</td>\n",
       "      <td>NaN</td>\n",
       "      <td>NaN</td>\n",
       "      <td>NaN</td>\n",
       "      <td>NaN</td>\n",
       "      <td>NaN</td>\n",
       "      <td>...</td>\n",
       "      <td>NaN</td>\n",
       "      <td>NaN</td>\n",
       "      <td>NaN</td>\n",
       "      <td>NaN</td>\n",
       "      <td>NaN</td>\n",
       "      <td>NaN</td>\n",
       "      <td>NaN</td>\n",
       "      <td>NaN</td>\n",
       "      <td>NaN</td>\n",
       "      <td>NaN</td>\n",
       "    </tr>\n",
       "    <tr>\n",
       "      <th>141708</th>\n",
       "      <td>INC0121064</td>\n",
       "      <td>Active</td>\n",
       "      <td>1.0</td>\n",
       "      <td>0.0</td>\n",
       "      <td>0.0</td>\n",
       "      <td>0.0</td>\n",
       "      <td>1.0</td>\n",
       "      <td>Caller 116</td>\n",
       "      <td>Opened by  12</td>\n",
       "      <td>?</td>\n",
       "      <td>...</td>\n",
       "      <td>Resolver 10</td>\n",
       "      <td>0.0</td>\n",
       "      <td>0.0</td>\n",
       "      <td>Do Not Notify</td>\n",
       "      <td>?</td>\n",
       "      <td>?</td>\n",
       "      <td>?</td>\n",
       "      <td>?</td>\n",
       "      <td>code 6</td>\n",
       "      <td>Resolved by 9</td>\n",
       "    </tr>\n",
       "    <tr>\n",
       "      <th>141709</th>\n",
       "      <td>NaN</td>\n",
       "      <td>NaN</td>\n",
       "      <td>NaN</td>\n",
       "      <td>NaN</td>\n",
       "      <td>NaN</td>\n",
       "      <td>NaN</td>\n",
       "      <td>NaN</td>\n",
       "      <td>NaN</td>\n",
       "      <td>NaN</td>\n",
       "      <td>NaN</td>\n",
       "      <td>...</td>\n",
       "      <td>NaN</td>\n",
       "      <td>NaN</td>\n",
       "      <td>NaN</td>\n",
       "      <td>NaN</td>\n",
       "      <td>NaN</td>\n",
       "      <td>NaN</td>\n",
       "      <td>NaN</td>\n",
       "      <td>NaN</td>\n",
       "      <td>NaN</td>\n",
       "      <td>NaN</td>\n",
       "    </tr>\n",
       "    <tr>\n",
       "      <th>141710</th>\n",
       "      <td>NaN</td>\n",
       "      <td>NaN</td>\n",
       "      <td>NaN</td>\n",
       "      <td>NaN</td>\n",
       "      <td>NaN</td>\n",
       "      <td>NaN</td>\n",
       "      <td>NaN</td>\n",
       "      <td>NaN</td>\n",
       "      <td>NaN</td>\n",
       "      <td>NaN</td>\n",
       "      <td>...</td>\n",
       "      <td>NaN</td>\n",
       "      <td>NaN</td>\n",
       "      <td>NaN</td>\n",
       "      <td>NaN</td>\n",
       "      <td>NaN</td>\n",
       "      <td>NaN</td>\n",
       "      <td>NaN</td>\n",
       "      <td>NaN</td>\n",
       "      <td>NaN</td>\n",
       "      <td>NaN</td>\n",
       "    </tr>\n",
       "    <tr>\n",
       "      <th>141711</th>\n",
       "      <td>NaN</td>\n",
       "      <td>NaN</td>\n",
       "      <td>NaN</td>\n",
       "      <td>NaN</td>\n",
       "      <td>NaN</td>\n",
       "      <td>NaN</td>\n",
       "      <td>NaN</td>\n",
       "      <td>NaN</td>\n",
       "      <td>NaN</td>\n",
       "      <td>NaN</td>\n",
       "      <td>...</td>\n",
       "      <td>NaN</td>\n",
       "      <td>NaN</td>\n",
       "      <td>NaN</td>\n",
       "      <td>NaN</td>\n",
       "      <td>NaN</td>\n",
       "      <td>NaN</td>\n",
       "      <td>NaN</td>\n",
       "      <td>NaN</td>\n",
       "      <td>NaN</td>\n",
       "      <td>NaN</td>\n",
       "    </tr>\n",
       "  </tbody>\n",
       "</table>\n",
       "<p>141712 rows × 31 columns</p>\n",
       "</div>"
      ],
      "text/plain": [
       "            number incident_state  active  reassignment_count  reopen_count  \\\n",
       "0       INC0000045            New     1.0                 0.0           0.0   \n",
       "1       INC0000045       Resolved     1.0                 0.0           0.0   \n",
       "2       INC0000045       Resolved     1.0                 0.0           0.0   \n",
       "3       INC0000045         Closed     0.0                 0.0           0.0   \n",
       "4       INC0000047            New     1.0                 0.0           0.0   \n",
       "...            ...            ...     ...                 ...           ...   \n",
       "141707         NaN            NaN     NaN                 NaN           NaN   \n",
       "141708  INC0121064         Active     1.0                 0.0           0.0   \n",
       "141709         NaN            NaN     NaN                 NaN           NaN   \n",
       "141710         NaN            NaN     NaN                 NaN           NaN   \n",
       "141711         NaN            NaN     NaN                 NaN           NaN   \n",
       "\n",
       "        sys_mod_count  made_sla    caller_id       opened_by  sys_created_by  \\\n",
       "0                 0.0       1.0  Caller 2403    Opened by  8    Created by 6   \n",
       "1                 2.0       1.0  Caller 2403    Opened by  8    Created by 6   \n",
       "2                 3.0       1.0  Caller 2403    Opened by  8    Created by 6   \n",
       "3                 4.0       1.0  Caller 2403    Opened by  8    Created by 6   \n",
       "4                 0.0       1.0  Caller 2403  Opened by  397  Created by 171   \n",
       "...               ...       ...          ...             ...             ...   \n",
       "141707            NaN       NaN          NaN             NaN             NaN   \n",
       "141708            0.0       1.0   Caller 116   Opened by  12               ?   \n",
       "141709            NaN       NaN          NaN             NaN             NaN   \n",
       "141710            NaN       NaN          NaN             NaN             NaN   \n",
       "141711            NaN       NaN          NaN             NaN             NaN   \n",
       "\n",
       "        ...  assigned_to knowledge u_priority_confirmation         notify  \\\n",
       "0       ...            ?       1.0                     0.0  Do Not Notify   \n",
       "1       ...            ?       1.0                     0.0  Do Not Notify   \n",
       "2       ...            ?       1.0                     0.0  Do Not Notify   \n",
       "3       ...            ?       1.0                     0.0  Do Not Notify   \n",
       "4       ...  Resolver 89       1.0                     0.0  Do Not Notify   \n",
       "...     ...          ...       ...                     ...            ...   \n",
       "141707  ...          NaN       NaN                     NaN            NaN   \n",
       "141708  ...  Resolver 10       0.0                     0.0  Do Not Notify   \n",
       "141709  ...          NaN       NaN                     NaN            NaN   \n",
       "141710  ...          NaN       NaN                     NaN            NaN   \n",
       "141711  ...          NaN       NaN                     NaN            NaN   \n",
       "\n",
       "       problem_id  rfc vendor caused_by closed_code      resolved_by  \n",
       "0               ?    ?      ?         ?      code 5  Resolved by 149  \n",
       "1               ?    ?      ?         ?      code 5  Resolved by 149  \n",
       "2               ?    ?      ?         ?      code 5  Resolved by 149  \n",
       "3               ?    ?      ?         ?      code 5  Resolved by 149  \n",
       "4               ?    ?      ?         ?      code 5   Resolved by 81  \n",
       "...           ...  ...    ...       ...         ...              ...  \n",
       "141707        NaN  NaN    NaN       NaN         NaN              NaN  \n",
       "141708          ?    ?      ?         ?      code 6    Resolved by 9  \n",
       "141709        NaN  NaN    NaN       NaN         NaN              NaN  \n",
       "141710        NaN  NaN    NaN       NaN         NaN              NaN  \n",
       "141711        NaN  NaN    NaN       NaN         NaN              NaN  \n",
       "\n",
       "[141712 rows x 31 columns]"
      ]
     },
     "execution_count": 8,
     "metadata": {},
     "output_type": "execute_result"
    }
   ],
   "source": [
    "df.where(df['reassignment_count']==0)"
   ]
  },
  {
   "cell_type": "code",
   "execution_count": 9,
   "metadata": {
    "colab": {
     "base_uri": "https://localhost:8080/"
    },
    "id": "4V7WDjrMxISS",
    "outputId": "f1105eec-b4ad-4b0b-cb65-a77209c8bfa6"
   },
   "outputs": [
    {
     "data": {
      "text/plain": [
       "69876"
      ]
     },
     "execution_count": 9,
     "metadata": {},
     "output_type": "execute_result"
    }
   ],
   "source": [
    "len(df[df['reassignment_count'] == 0])"
   ]
  },
  {
   "cell_type": "code",
   "execution_count": 10,
   "metadata": {
    "colab": {
     "base_uri": "https://localhost:8080/"
    },
    "id": "k-wRlRisykxN",
    "outputId": "fad31df0-9650-4a23-9cb2-2178b44b2053"
   },
   "outputs": [
    {
     "data": {
      "text/plain": [
       "71836"
      ]
     },
     "execution_count": 10,
     "metadata": {},
     "output_type": "execute_result"
    }
   ],
   "source": [
    "len(df[df['reassignment_count'] > 0])"
   ]
  },
  {
   "cell_type": "code",
   "execution_count": 11,
   "metadata": {
    "colab": {
     "base_uri": "https://localhost:8080/",
     "height": 451
    },
    "id": "u_Cvardw1AnB",
    "outputId": "ed767568-8835-43b7-90c7-56105f2bf6f3"
   },
   "outputs": [
    {
     "data": {
      "text/plain": [
       "<AxesSubplot:>"
      ]
     },
     "execution_count": 11,
     "metadata": {},
     "output_type": "execute_result"
    },
    {
     "data": {
      "image/png": "[encoded data removed]",
      "text/plain": [
       "<Figure size 432x288 with 1 Axes>"
      ]
     },
     "metadata": {
      "needs_background": "light"
     },
     "output_type": "display_data"
    }
   ],
   "source": [
    "df['reassignment_count'].value_counts().plot(kind='bar', color='firebrick')"
   ]
  },
  {
   "cell_type": "code",
   "execution_count": 12,
   "metadata": {
    "colab": {
     "base_uri": "https://localhost:8080/",
     "height": 447
    },
    "id": "-FmL04un1JTu",
    "outputId": "e5579cd2-5567-43bd-8d44-fffae19b47ec"
   },
   "outputs": [
    {
     "data": {
      "text/plain": [
       "<BarContainer object of 2 artists>"
      ]
     },
     "execution_count": 12,
     "metadata": {},
     "output_type": "execute_result"
    },
    {
     "data": {
      "image/png": "[encoded data removed]",
      "text/plain": [
       "<Figure size 432x288 with 1 Axes>"
      ]
     },
     "metadata": {
      "needs_background": "light"
     },
     "output_type": "display_data"
    }
   ],
   "source": [
    "plt.bar(['not reassigned', 'reassigned'], [len(df[df['reassignment_count'] == 0]),len(df[df['reassignment_count'] > 0])], color='dodgerblue')"
   ]
  },
  {
   "cell_type": "code",
   "execution_count": 13,
   "metadata": {
    "colab": {
     "base_uri": "https://localhost:8080/"
    },
    "id": "kBEBvHEF1Yo4",
    "outputId": "48a27a70-c2cc-41eb-9e61-1386e2217535"
   },
   "outputs": [
    {
     "data": {
      "text/plain": [
       "?                  139417\n",
       "Problem ID  14        184\n",
       "Problem ID  2         147\n",
       "Problem ID  52         82\n",
       "Problem ID  239        48\n",
       "                    ...  \n",
       "Problem ID  11          1\n",
       "Problem ID  88          1\n",
       "Problem ID  181         1\n",
       "Problem ID  195         1\n",
       "Problem ID  33          1\n",
       "Name: problem_id, Length: 253, dtype: int64"
      ]
     },
     "execution_count": 13,
     "metadata": {},
     "output_type": "execute_result"
    }
   ],
   "source": [
    "df['problem_id'].value_counts()"
   ]
  },
  {
   "cell_type": "code",
   "execution_count": 14,
   "metadata": {
    "id": "41FINtvT4t56"
   },
   "outputs": [],
   "source": [
    "identifier_cols = ['number', 'caller_id', 'opened_by', 'sys_created_by',\n",
    "                   'sys_updated_by', 'location', 'cmdb_ci', 'assignment_group',\n",
    "                   'assigned_to', 'problem_id', 'rfc', 'vendor', 'caused_by',\n",
    "                   'closed_code', 'resolved_by']"
   ]
  },
  {
   "cell_type": "code",
   "execution_count": 15,
   "metadata": {
    "colab": {
     "base_uri": "https://localhost:8080/",
     "height": 661
    },
    "id": "KAF3hiSU5Htb",
    "outputId": "060dfd69-364c-48fe-8cae-cb1218864695"
   },
   "outputs": [
    {
     "data": {
      "text/html": [
       "<div>\n",
       "<style scoped>\n",
       "    .dataframe tbody tr th:only-of-type {\n",
       "        vertical-align: middle;\n",
       "    }\n",
       "\n",
       "    .dataframe tbody tr th {\n",
       "        vertical-align: top;\n",
       "    }\n",
       "\n",
       "    .dataframe thead th {\n",
       "        text-align: right;\n",
       "    }\n",
       "</style>\n",
       "<table border=\"1\" class=\"dataframe\">\n",
       "  <thead>\n",
       "    <tr style=\"text-align: right;\">\n",
       "      <th></th>\n",
       "      <th>number</th>\n",
       "      <th>caller_id</th>\n",
       "      <th>opened_by</th>\n",
       "      <th>sys_created_by</th>\n",
       "      <th>sys_updated_by</th>\n",
       "      <th>location</th>\n",
       "      <th>cmdb_ci</th>\n",
       "      <th>assignment_group</th>\n",
       "      <th>assigned_to</th>\n",
       "      <th>problem_id</th>\n",
       "      <th>rfc</th>\n",
       "      <th>vendor</th>\n",
       "      <th>caused_by</th>\n",
       "      <th>closed_code</th>\n",
       "      <th>resolved_by</th>\n",
       "    </tr>\n",
       "  </thead>\n",
       "  <tbody>\n",
       "    <tr>\n",
       "      <th>0</th>\n",
       "      <td>INC0000045</td>\n",
       "      <td>Caller 2403</td>\n",
       "      <td>Opened by  8</td>\n",
       "      <td>Created by 6</td>\n",
       "      <td>Updated by 21</td>\n",
       "      <td>Location 143</td>\n",
       "      <td>?</td>\n",
       "      <td>Group 56</td>\n",
       "      <td>?</td>\n",
       "      <td>?</td>\n",
       "      <td>?</td>\n",
       "      <td>?</td>\n",
       "      <td>?</td>\n",
       "      <td>code 5</td>\n",
       "      <td>Resolved by 149</td>\n",
       "    </tr>\n",
       "    <tr>\n",
       "      <th>1</th>\n",
       "      <td>INC0000045</td>\n",
       "      <td>Caller 2403</td>\n",
       "      <td>Opened by  8</td>\n",
       "      <td>Created by 6</td>\n",
       "      <td>Updated by 642</td>\n",
       "      <td>Location 143</td>\n",
       "      <td>?</td>\n",
       "      <td>Group 56</td>\n",
       "      <td>?</td>\n",
       "      <td>?</td>\n",
       "      <td>?</td>\n",
       "      <td>?</td>\n",
       "      <td>?</td>\n",
       "      <td>code 5</td>\n",
       "      <td>Resolved by 149</td>\n",
       "    </tr>\n",
       "    <tr>\n",
       "      <th>2</th>\n",
       "      <td>INC0000045</td>\n",
       "      <td>Caller 2403</td>\n",
       "      <td>Opened by  8</td>\n",
       "      <td>Created by 6</td>\n",
       "      <td>Updated by 804</td>\n",
       "      <td>Location 143</td>\n",
       "      <td>?</td>\n",
       "      <td>Group 56</td>\n",
       "      <td>?</td>\n",
       "      <td>?</td>\n",
       "      <td>?</td>\n",
       "      <td>?</td>\n",
       "      <td>?</td>\n",
       "      <td>code 5</td>\n",
       "      <td>Resolved by 149</td>\n",
       "    </tr>\n",
       "    <tr>\n",
       "      <th>3</th>\n",
       "      <td>INC0000045</td>\n",
       "      <td>Caller 2403</td>\n",
       "      <td>Opened by  8</td>\n",
       "      <td>Created by 6</td>\n",
       "      <td>Updated by 908</td>\n",
       "      <td>Location 143</td>\n",
       "      <td>?</td>\n",
       "      <td>Group 56</td>\n",
       "      <td>?</td>\n",
       "      <td>?</td>\n",
       "      <td>?</td>\n",
       "      <td>?</td>\n",
       "      <td>?</td>\n",
       "      <td>code 5</td>\n",
       "      <td>Resolved by 149</td>\n",
       "    </tr>\n",
       "    <tr>\n",
       "      <th>4</th>\n",
       "      <td>INC0000047</td>\n",
       "      <td>Caller 2403</td>\n",
       "      <td>Opened by  397</td>\n",
       "      <td>Created by 171</td>\n",
       "      <td>Updated by 746</td>\n",
       "      <td>Location 165</td>\n",
       "      <td>?</td>\n",
       "      <td>Group 70</td>\n",
       "      <td>Resolver 89</td>\n",
       "      <td>?</td>\n",
       "      <td>?</td>\n",
       "      <td>?</td>\n",
       "      <td>?</td>\n",
       "      <td>code 5</td>\n",
       "      <td>Resolved by 81</td>\n",
       "    </tr>\n",
       "    <tr>\n",
       "      <th>...</th>\n",
       "      <td>...</td>\n",
       "      <td>...</td>\n",
       "      <td>...</td>\n",
       "      <td>...</td>\n",
       "      <td>...</td>\n",
       "      <td>...</td>\n",
       "      <td>...</td>\n",
       "      <td>...</td>\n",
       "      <td>...</td>\n",
       "      <td>...</td>\n",
       "      <td>...</td>\n",
       "      <td>...</td>\n",
       "      <td>...</td>\n",
       "      <td>...</td>\n",
       "      <td>...</td>\n",
       "    </tr>\n",
       "    <tr>\n",
       "      <th>141707</th>\n",
       "      <td>INC0120835</td>\n",
       "      <td>Caller 116</td>\n",
       "      <td>Opened by  12</td>\n",
       "      <td>?</td>\n",
       "      <td>Updated by 27</td>\n",
       "      <td>Location 204</td>\n",
       "      <td>?</td>\n",
       "      <td>Group 31</td>\n",
       "      <td>Resolver 10</td>\n",
       "      <td>?</td>\n",
       "      <td>?</td>\n",
       "      <td>?</td>\n",
       "      <td>?</td>\n",
       "      <td>code 9</td>\n",
       "      <td>Resolved by 9</td>\n",
       "    </tr>\n",
       "    <tr>\n",
       "      <th>141708</th>\n",
       "      <td>INC0121064</td>\n",
       "      <td>Caller 116</td>\n",
       "      <td>Opened by  12</td>\n",
       "      <td>?</td>\n",
       "      <td>Updated by 908</td>\n",
       "      <td>Location 204</td>\n",
       "      <td>?</td>\n",
       "      <td>Group 70</td>\n",
       "      <td>Resolver 10</td>\n",
       "      <td>?</td>\n",
       "      <td>?</td>\n",
       "      <td>?</td>\n",
       "      <td>?</td>\n",
       "      <td>code 6</td>\n",
       "      <td>Resolved by 9</td>\n",
       "    </tr>\n",
       "    <tr>\n",
       "      <th>141709</th>\n",
       "      <td>INC0121064</td>\n",
       "      <td>Caller 116</td>\n",
       "      <td>Opened by  12</td>\n",
       "      <td>?</td>\n",
       "      <td>Updated by 60</td>\n",
       "      <td>Location 204</td>\n",
       "      <td>?</td>\n",
       "      <td>Group 31</td>\n",
       "      <td>?</td>\n",
       "      <td>?</td>\n",
       "      <td>?</td>\n",
       "      <td>?</td>\n",
       "      <td>?</td>\n",
       "      <td>code 6</td>\n",
       "      <td>Resolved by 9</td>\n",
       "    </tr>\n",
       "    <tr>\n",
       "      <th>141710</th>\n",
       "      <td>INC0121064</td>\n",
       "      <td>Caller 116</td>\n",
       "      <td>Opened by  12</td>\n",
       "      <td>?</td>\n",
       "      <td>Updated by 27</td>\n",
       "      <td>Location 204</td>\n",
       "      <td>?</td>\n",
       "      <td>Group 31</td>\n",
       "      <td>Resolver 10</td>\n",
       "      <td>?</td>\n",
       "      <td>?</td>\n",
       "      <td>?</td>\n",
       "      <td>?</td>\n",
       "      <td>code 6</td>\n",
       "      <td>Resolved by 9</td>\n",
       "    </tr>\n",
       "    <tr>\n",
       "      <th>141711</th>\n",
       "      <td>INC0121064</td>\n",
       "      <td>Caller 116</td>\n",
       "      <td>Opened by  12</td>\n",
       "      <td>?</td>\n",
       "      <td>Updated by 27</td>\n",
       "      <td>Location 204</td>\n",
       "      <td>?</td>\n",
       "      <td>Group 31</td>\n",
       "      <td>Resolver 10</td>\n",
       "      <td>?</td>\n",
       "      <td>?</td>\n",
       "      <td>?</td>\n",
       "      <td>?</td>\n",
       "      <td>code 6</td>\n",
       "      <td>Resolved by 9</td>\n",
       "    </tr>\n",
       "  </tbody>\n",
       "</table>\n",
       "<p>141712 rows × 15 columns</p>\n",
       "</div>"
      ],
      "text/plain": [
       "            number    caller_id       opened_by  sys_created_by  \\\n",
       "0       INC0000045  Caller 2403    Opened by  8    Created by 6   \n",
       "1       INC0000045  Caller 2403    Opened by  8    Created by 6   \n",
       "2       INC0000045  Caller 2403    Opened by  8    Created by 6   \n",
       "3       INC0000045  Caller 2403    Opened by  8    Created by 6   \n",
       "4       INC0000047  Caller 2403  Opened by  397  Created by 171   \n",
       "...            ...          ...             ...             ...   \n",
       "141707  INC0120835   Caller 116   Opened by  12               ?   \n",
       "141708  INC0121064   Caller 116   Opened by  12               ?   \n",
       "141709  INC0121064   Caller 116   Opened by  12               ?   \n",
       "141710  INC0121064   Caller 116   Opened by  12               ?   \n",
       "141711  INC0121064   Caller 116   Opened by  12               ?   \n",
       "\n",
       "        sys_updated_by      location cmdb_ci assignment_group  assigned_to  \\\n",
       "0        Updated by 21  Location 143       ?         Group 56            ?   \n",
       "1       Updated by 642  Location 143       ?         Group 56            ?   \n",
       "2       Updated by 804  Location 143       ?         Group 56            ?   \n",
       "3       Updated by 908  Location 143       ?         Group 56            ?   \n",
       "4       Updated by 746  Location 165       ?         Group 70  Resolver 89   \n",
       "...                ...           ...     ...              ...          ...   \n",
       "141707   Updated by 27  Location 204       ?         Group 31  Resolver 10   \n",
       "141708  Updated by 908  Location 204       ?         Group 70  Resolver 10   \n",
       "141709   Updated by 60  Location 204       ?         Group 31            ?   \n",
       "141710   Updated by 27  Location 204       ?         Group 31  Resolver 10   \n",
       "141711   Updated by 27  Location 204       ?         Group 31  Resolver 10   \n",
       "\n",
       "       problem_id rfc vendor caused_by closed_code      resolved_by  \n",
       "0               ?   ?      ?         ?      code 5  Resolved by 149  \n",
       "1               ?   ?      ?         ?      code 5  Resolved by 149  \n",
       "2               ?   ?      ?         ?      code 5  Resolved by 149  \n",
       "3               ?   ?      ?         ?      code 5  Resolved by 149  \n",
       "4               ?   ?      ?         ?      code 5   Resolved by 81  \n",
       "...           ...  ..    ...       ...         ...              ...  \n",
       "141707          ?   ?      ?         ?      code 9    Resolved by 9  \n",
       "141708          ?   ?      ?         ?      code 6    Resolved by 9  \n",
       "141709          ?   ?      ?         ?      code 6    Resolved by 9  \n",
       "141710          ?   ?      ?         ?      code 6    Resolved by 9  \n",
       "141711          ?   ?      ?         ?      code 6    Resolved by 9  \n",
       "\n",
       "[141712 rows x 15 columns]"
      ]
     },
     "execution_count": 15,
     "metadata": {},
     "output_type": "execute_result"
    }
   ],
   "source": [
    "df[identifier_cols]"
   ]
  },
  {
   "cell_type": "code",
   "execution_count": 16,
   "metadata": {
    "colab": {
     "base_uri": "https://localhost:8080/"
    },
    "id": "JyxRWVRZ7DAK",
    "outputId": "2bb44fbe-f078-40c1-b39f-662a80490215"
   },
   "outputs": [
    {
     "data": {
      "text/plain": [
       "?           141468\n",
       "code 8s        167\n",
       "Vendor 1        69\n",
       "Vendor 3         6\n",
       "Vendor 2         2\n",
       "Name: vendor, dtype: int64"
      ]
     },
     "execution_count": 16,
     "metadata": {},
     "output_type": "execute_result"
    }
   ],
   "source": [
    "df['vendor'].value_counts()"
   ]
  },
  {
   "cell_type": "code",
   "execution_count": 17,
   "metadata": {
    "colab": {
     "base_uri": "https://localhost:8080/"
    },
    "id": "wruiN7cFKmMR",
    "outputId": "01e7c119-65b2-4401-dab6-112521580612"
   },
   "outputs": [
    {
     "data": {
      "text/plain": [
       "Active                38716\n",
       "New                   36407\n",
       "Resolved              25751\n",
       "Closed                24985\n",
       "Awaiting User Info    14642\n",
       "Awaiting Vendor         707\n",
       "Awaiting Problem        461\n",
       "Awaiting Evidence        38\n",
       "-100                      5\n",
       "Name: incident_state, dtype: int64"
      ]
     },
     "execution_count": 17,
     "metadata": {},
     "output_type": "execute_result"
    }
   ],
   "source": [
    "df['incident_state'].value_counts()"
   ]
  },
  {
   "cell_type": "code",
   "execution_count": 18,
   "metadata": {
    "colab": {
     "base_uri": "https://localhost:8080/"
    },
    "id": "egd0nyT07bhz",
    "outputId": "f08acb4a-2725-4fa9-83fd-02a637e15a92"
   },
   "outputs": [
    {
     "name": "stdout",
     "output_type": "stream",
     "text": [
      "['cmdb_ci', 'problem_id', 'rfc', 'caused_by', 'number', 'made_sla', 'notify', 'opened_at', 'sys_created_at', 'sys_updated_at', 'resolved_at', 'closed_at']\n"
     ]
    }
   ],
   "source": [
    "from matplotlib.cbook import flatten\n",
    "exclude_cols = ['cmdb_ci', 'problem_id', 'rfc', 'caused_by', 'number', 'made_sla', 'notify']\n",
    "print(list(flatten([exclude_cols, timestamp_features])))"
   ]
  },
  {
   "cell_type": "code",
   "execution_count": 19,
   "metadata": {
    "colab": {
     "base_uri": "https://localhost:8080/",
     "height": 630
    },
    "id": "uD-tOnrz76ID",
    "outputId": "79c23cda-7f6d-4ef6-ab9a-8ad63855a90e"
   },
   "outputs": [
    {
     "data": {
      "text/html": [
       "<div>\n",
       "<style scoped>\n",
       "    .dataframe tbody tr th:only-of-type {\n",
       "        vertical-align: middle;\n",
       "    }\n",
       "\n",
       "    .dataframe tbody tr th {\n",
       "        vertical-align: top;\n",
       "    }\n",
       "\n",
       "    .dataframe thead th {\n",
       "        text-align: right;\n",
       "    }\n",
       "</style>\n",
       "<table border=\"1\" class=\"dataframe\">\n",
       "  <thead>\n",
       "    <tr style=\"text-align: right;\">\n",
       "      <th></th>\n",
       "      <th>incident_state</th>\n",
       "      <th>active</th>\n",
       "      <th>reassignment_count</th>\n",
       "      <th>reopen_count</th>\n",
       "      <th>sys_mod_count</th>\n",
       "      <th>caller_id</th>\n",
       "      <th>opened_by</th>\n",
       "      <th>sys_created_by</th>\n",
       "      <th>sys_updated_by</th>\n",
       "      <th>contact_type</th>\n",
       "      <th>...</th>\n",
       "      <th>impact</th>\n",
       "      <th>urgency</th>\n",
       "      <th>priority</th>\n",
       "      <th>assignment_group</th>\n",
       "      <th>assigned_to</th>\n",
       "      <th>knowledge</th>\n",
       "      <th>u_priority_confirmation</th>\n",
       "      <th>vendor</th>\n",
       "      <th>closed_code</th>\n",
       "      <th>resolved_by</th>\n",
       "    </tr>\n",
       "  </thead>\n",
       "  <tbody>\n",
       "    <tr>\n",
       "      <th>0</th>\n",
       "      <td>New</td>\n",
       "      <td>True</td>\n",
       "      <td>0</td>\n",
       "      <td>0</td>\n",
       "      <td>0</td>\n",
       "      <td>Caller 2403</td>\n",
       "      <td>Opened by  8</td>\n",
       "      <td>Created by 6</td>\n",
       "      <td>Updated by 21</td>\n",
       "      <td>Phone</td>\n",
       "      <td>...</td>\n",
       "      <td>2 - Medium</td>\n",
       "      <td>2 - Medium</td>\n",
       "      <td>3 - Moderate</td>\n",
       "      <td>Group 56</td>\n",
       "      <td>?</td>\n",
       "      <td>True</td>\n",
       "      <td>False</td>\n",
       "      <td>?</td>\n",
       "      <td>code 5</td>\n",
       "      <td>Resolved by 149</td>\n",
       "    </tr>\n",
       "    <tr>\n",
       "      <th>1</th>\n",
       "      <td>Resolved</td>\n",
       "      <td>True</td>\n",
       "      <td>0</td>\n",
       "      <td>0</td>\n",
       "      <td>2</td>\n",
       "      <td>Caller 2403</td>\n",
       "      <td>Opened by  8</td>\n",
       "      <td>Created by 6</td>\n",
       "      <td>Updated by 642</td>\n",
       "      <td>Phone</td>\n",
       "      <td>...</td>\n",
       "      <td>2 - Medium</td>\n",
       "      <td>2 - Medium</td>\n",
       "      <td>3 - Moderate</td>\n",
       "      <td>Group 56</td>\n",
       "      <td>?</td>\n",
       "      <td>True</td>\n",
       "      <td>False</td>\n",
       "      <td>?</td>\n",
       "      <td>code 5</td>\n",
       "      <td>Resolved by 149</td>\n",
       "    </tr>\n",
       "    <tr>\n",
       "      <th>2</th>\n",
       "      <td>Resolved</td>\n",
       "      <td>True</td>\n",
       "      <td>0</td>\n",
       "      <td>0</td>\n",
       "      <td>3</td>\n",
       "      <td>Caller 2403</td>\n",
       "      <td>Opened by  8</td>\n",
       "      <td>Created by 6</td>\n",
       "      <td>Updated by 804</td>\n",
       "      <td>Phone</td>\n",
       "      <td>...</td>\n",
       "      <td>2 - Medium</td>\n",
       "      <td>2 - Medium</td>\n",
       "      <td>3 - Moderate</td>\n",
       "      <td>Group 56</td>\n",
       "      <td>?</td>\n",
       "      <td>True</td>\n",
       "      <td>False</td>\n",
       "      <td>?</td>\n",
       "      <td>code 5</td>\n",
       "      <td>Resolved by 149</td>\n",
       "    </tr>\n",
       "    <tr>\n",
       "      <th>3</th>\n",
       "      <td>Closed</td>\n",
       "      <td>False</td>\n",
       "      <td>0</td>\n",
       "      <td>0</td>\n",
       "      <td>4</td>\n",
       "      <td>Caller 2403</td>\n",
       "      <td>Opened by  8</td>\n",
       "      <td>Created by 6</td>\n",
       "      <td>Updated by 908</td>\n",
       "      <td>Phone</td>\n",
       "      <td>...</td>\n",
       "      <td>2 - Medium</td>\n",
       "      <td>2 - Medium</td>\n",
       "      <td>3 - Moderate</td>\n",
       "      <td>Group 56</td>\n",
       "      <td>?</td>\n",
       "      <td>True</td>\n",
       "      <td>False</td>\n",
       "      <td>?</td>\n",
       "      <td>code 5</td>\n",
       "      <td>Resolved by 149</td>\n",
       "    </tr>\n",
       "    <tr>\n",
       "      <th>4</th>\n",
       "      <td>New</td>\n",
       "      <td>True</td>\n",
       "      <td>0</td>\n",
       "      <td>0</td>\n",
       "      <td>0</td>\n",
       "      <td>Caller 2403</td>\n",
       "      <td>Opened by  397</td>\n",
       "      <td>Created by 171</td>\n",
       "      <td>Updated by 746</td>\n",
       "      <td>Phone</td>\n",
       "      <td>...</td>\n",
       "      <td>2 - Medium</td>\n",
       "      <td>2 - Medium</td>\n",
       "      <td>3 - Moderate</td>\n",
       "      <td>Group 70</td>\n",
       "      <td>Resolver 89</td>\n",
       "      <td>True</td>\n",
       "      <td>False</td>\n",
       "      <td>?</td>\n",
       "      <td>code 5</td>\n",
       "      <td>Resolved by 81</td>\n",
       "    </tr>\n",
       "    <tr>\n",
       "      <th>5</th>\n",
       "      <td>Active</td>\n",
       "      <td>True</td>\n",
       "      <td>1</td>\n",
       "      <td>0</td>\n",
       "      <td>1</td>\n",
       "      <td>Caller 2403</td>\n",
       "      <td>Opened by  397</td>\n",
       "      <td>Created by 171</td>\n",
       "      <td>Updated by 21</td>\n",
       "      <td>Phone</td>\n",
       "      <td>...</td>\n",
       "      <td>2 - Medium</td>\n",
       "      <td>2 - Medium</td>\n",
       "      <td>3 - Moderate</td>\n",
       "      <td>Group 24</td>\n",
       "      <td>Resolver 31</td>\n",
       "      <td>True</td>\n",
       "      <td>False</td>\n",
       "      <td>?</td>\n",
       "      <td>code 5</td>\n",
       "      <td>Resolved by 81</td>\n",
       "    </tr>\n",
       "    <tr>\n",
       "      <th>6</th>\n",
       "      <td>Active</td>\n",
       "      <td>True</td>\n",
       "      <td>1</td>\n",
       "      <td>0</td>\n",
       "      <td>2</td>\n",
       "      <td>Caller 2403</td>\n",
       "      <td>Opened by  397</td>\n",
       "      <td>Created by 171</td>\n",
       "      <td>Updated by 21</td>\n",
       "      <td>Phone</td>\n",
       "      <td>...</td>\n",
       "      <td>2 - Medium</td>\n",
       "      <td>2 - Medium</td>\n",
       "      <td>3 - Moderate</td>\n",
       "      <td>Group 24</td>\n",
       "      <td>Resolver 31</td>\n",
       "      <td>True</td>\n",
       "      <td>False</td>\n",
       "      <td>?</td>\n",
       "      <td>code 5</td>\n",
       "      <td>Resolved by 81</td>\n",
       "    </tr>\n",
       "    <tr>\n",
       "      <th>7</th>\n",
       "      <td>Active</td>\n",
       "      <td>True</td>\n",
       "      <td>1</td>\n",
       "      <td>0</td>\n",
       "      <td>3</td>\n",
       "      <td>Caller 2403</td>\n",
       "      <td>Opened by  397</td>\n",
       "      <td>Created by 171</td>\n",
       "      <td>Updated by 804</td>\n",
       "      <td>Phone</td>\n",
       "      <td>...</td>\n",
       "      <td>2 - Medium</td>\n",
       "      <td>2 - Medium</td>\n",
       "      <td>3 - Moderate</td>\n",
       "      <td>Group 24</td>\n",
       "      <td>Resolver 31</td>\n",
       "      <td>True</td>\n",
       "      <td>False</td>\n",
       "      <td>?</td>\n",
       "      <td>code 5</td>\n",
       "      <td>Resolved by 81</td>\n",
       "    </tr>\n",
       "    <tr>\n",
       "      <th>8</th>\n",
       "      <td>Active</td>\n",
       "      <td>True</td>\n",
       "      <td>1</td>\n",
       "      <td>0</td>\n",
       "      <td>4</td>\n",
       "      <td>Caller 2403</td>\n",
       "      <td>Opened by  397</td>\n",
       "      <td>Created by 171</td>\n",
       "      <td>Updated by 703</td>\n",
       "      <td>Phone</td>\n",
       "      <td>...</td>\n",
       "      <td>2 - Medium</td>\n",
       "      <td>2 - Medium</td>\n",
       "      <td>3 - Moderate</td>\n",
       "      <td>Group 24</td>\n",
       "      <td>Resolver 31</td>\n",
       "      <td>True</td>\n",
       "      <td>False</td>\n",
       "      <td>?</td>\n",
       "      <td>code 5</td>\n",
       "      <td>Resolved by 81</td>\n",
       "    </tr>\n",
       "    <tr>\n",
       "      <th>9</th>\n",
       "      <td>Active</td>\n",
       "      <td>True</td>\n",
       "      <td>1</td>\n",
       "      <td>0</td>\n",
       "      <td>5</td>\n",
       "      <td>Caller 2403</td>\n",
       "      <td>Opened by  397</td>\n",
       "      <td>Created by 171</td>\n",
       "      <td>Updated by 332</td>\n",
       "      <td>Phone</td>\n",
       "      <td>...</td>\n",
       "      <td>2 - Medium</td>\n",
       "      <td>2 - Medium</td>\n",
       "      <td>3 - Moderate</td>\n",
       "      <td>Group 24</td>\n",
       "      <td>Resolver 31</td>\n",
       "      <td>True</td>\n",
       "      <td>False</td>\n",
       "      <td>?</td>\n",
       "      <td>code 5</td>\n",
       "      <td>Resolved by 81</td>\n",
       "    </tr>\n",
       "  </tbody>\n",
       "</table>\n",
       "<p>10 rows × 24 columns</p>\n",
       "</div>"
      ],
      "text/plain": [
       "  incident_state  active  reassignment_count  reopen_count  sys_mod_count  \\\n",
       "0            New    True                   0             0              0   \n",
       "1       Resolved    True                   0             0              2   \n",
       "2       Resolved    True                   0             0              3   \n",
       "3         Closed   False                   0             0              4   \n",
       "4            New    True                   0             0              0   \n",
       "5         Active    True                   1             0              1   \n",
       "6         Active    True                   1             0              2   \n",
       "7         Active    True                   1             0              3   \n",
       "8         Active    True                   1             0              4   \n",
       "9         Active    True                   1             0              5   \n",
       "\n",
       "     caller_id       opened_by  sys_created_by  sys_updated_by contact_type  \\\n",
       "0  Caller 2403    Opened by  8    Created by 6   Updated by 21        Phone   \n",
       "1  Caller 2403    Opened by  8    Created by 6  Updated by 642        Phone   \n",
       "2  Caller 2403    Opened by  8    Created by 6  Updated by 804        Phone   \n",
       "3  Caller 2403    Opened by  8    Created by 6  Updated by 908        Phone   \n",
       "4  Caller 2403  Opened by  397  Created by 171  Updated by 746        Phone   \n",
       "5  Caller 2403  Opened by  397  Created by 171   Updated by 21        Phone   \n",
       "6  Caller 2403  Opened by  397  Created by 171   Updated by 21        Phone   \n",
       "7  Caller 2403  Opened by  397  Created by 171  Updated by 804        Phone   \n",
       "8  Caller 2403  Opened by  397  Created by 171  Updated by 703        Phone   \n",
       "9  Caller 2403  Opened by  397  Created by 171  Updated by 332        Phone   \n",
       "\n",
       "   ...      impact     urgency      priority assignment_group  assigned_to  \\\n",
       "0  ...  2 - Medium  2 - Medium  3 - Moderate         Group 56            ?   \n",
       "1  ...  2 - Medium  2 - Medium  3 - Moderate         Group 56            ?   \n",
       "2  ...  2 - Medium  2 - Medium  3 - Moderate         Group 56            ?   \n",
       "3  ...  2 - Medium  2 - Medium  3 - Moderate         Group 56            ?   \n",
       "4  ...  2 - Medium  2 - Medium  3 - Moderate         Group 70  Resolver 89   \n",
       "5  ...  2 - Medium  2 - Medium  3 - Moderate         Group 24  Resolver 31   \n",
       "6  ...  2 - Medium  2 - Medium  3 - Moderate         Group 24  Resolver 31   \n",
       "7  ...  2 - Medium  2 - Medium  3 - Moderate         Group 24  Resolver 31   \n",
       "8  ...  2 - Medium  2 - Medium  3 - Moderate         Group 24  Resolver 31   \n",
       "9  ...  2 - Medium  2 - Medium  3 - Moderate         Group 24  Resolver 31   \n",
       "\n",
       "  knowledge u_priority_confirmation vendor closed_code      resolved_by  \n",
       "0      True                   False      ?      code 5  Resolved by 149  \n",
       "1      True                   False      ?      code 5  Resolved by 149  \n",
       "2      True                   False      ?      code 5  Resolved by 149  \n",
       "3      True                   False      ?      code 5  Resolved by 149  \n",
       "4      True                   False      ?      code 5   Resolved by 81  \n",
       "5      True                   False      ?      code 5   Resolved by 81  \n",
       "6      True                   False      ?      code 5   Resolved by 81  \n",
       "7      True                   False      ?      code 5   Resolved by 81  \n",
       "8      True                   False      ?      code 5   Resolved by 81  \n",
       "9      True                   False      ?      code 5   Resolved by 81  \n",
       "\n",
       "[10 rows x 24 columns]"
      ]
     },
     "execution_count": 19,
     "metadata": {},
     "output_type": "execute_result"
    }
   ],
   "source": [
    "df_relevant = df.drop(columns=exclude_cols)\n",
    "df_relevant.head(10)"
   ]
  },
  {
   "cell_type": "code",
   "execution_count": 20,
   "metadata": {
    "colab": {
     "base_uri": "https://localhost:8080/",
     "height": 630
    },
    "id": "O_3NPnXV4CiM",
    "outputId": "9ce6851e-0162-4d4f-adf5-f303453c574d"
   },
   "outputs": [
    {
     "data": {
      "text/html": [
       "<div>\n",
       "<style scoped>\n",
       "    .dataframe tbody tr th:only-of-type {\n",
       "        vertical-align: middle;\n",
       "    }\n",
       "\n",
       "    .dataframe tbody tr th {\n",
       "        vertical-align: top;\n",
       "    }\n",
       "\n",
       "    .dataframe thead th {\n",
       "        text-align: right;\n",
       "    }\n",
       "</style>\n",
       "<table border=\"1\" class=\"dataframe\">\n",
       "  <thead>\n",
       "    <tr style=\"text-align: right;\">\n",
       "      <th></th>\n",
       "      <th>incident_state</th>\n",
       "      <th>active</th>\n",
       "      <th>reopen_count</th>\n",
       "      <th>sys_mod_count</th>\n",
       "      <th>caller_id</th>\n",
       "      <th>opened_by</th>\n",
       "      <th>sys_created_by</th>\n",
       "      <th>sys_updated_by</th>\n",
       "      <th>contact_type</th>\n",
       "      <th>location</th>\n",
       "      <th>...</th>\n",
       "      <th>urgency</th>\n",
       "      <th>priority</th>\n",
       "      <th>assignment_group</th>\n",
       "      <th>assigned_to</th>\n",
       "      <th>knowledge</th>\n",
       "      <th>u_priority_confirmation</th>\n",
       "      <th>vendor</th>\n",
       "      <th>closed_code</th>\n",
       "      <th>resolved_by</th>\n",
       "      <th>reassigned</th>\n",
       "    </tr>\n",
       "  </thead>\n",
       "  <tbody>\n",
       "    <tr>\n",
       "      <th>0</th>\n",
       "      <td>New</td>\n",
       "      <td>True</td>\n",
       "      <td>0</td>\n",
       "      <td>0</td>\n",
       "      <td>Caller 2403</td>\n",
       "      <td>Opened by  8</td>\n",
       "      <td>Created by 6</td>\n",
       "      <td>Updated by 21</td>\n",
       "      <td>Phone</td>\n",
       "      <td>Location 143</td>\n",
       "      <td>...</td>\n",
       "      <td>2 - Medium</td>\n",
       "      <td>3 - Moderate</td>\n",
       "      <td>Group 56</td>\n",
       "      <td>?</td>\n",
       "      <td>True</td>\n",
       "      <td>False</td>\n",
       "      <td>?</td>\n",
       "      <td>code 5</td>\n",
       "      <td>Resolved by 149</td>\n",
       "      <td>False</td>\n",
       "    </tr>\n",
       "    <tr>\n",
       "      <th>1</th>\n",
       "      <td>Resolved</td>\n",
       "      <td>True</td>\n",
       "      <td>0</td>\n",
       "      <td>2</td>\n",
       "      <td>Caller 2403</td>\n",
       "      <td>Opened by  8</td>\n",
       "      <td>Created by 6</td>\n",
       "      <td>Updated by 642</td>\n",
       "      <td>Phone</td>\n",
       "      <td>Location 143</td>\n",
       "      <td>...</td>\n",
       "      <td>2 - Medium</td>\n",
       "      <td>3 - Moderate</td>\n",
       "      <td>Group 56</td>\n",
       "      <td>?</td>\n",
       "      <td>True</td>\n",
       "      <td>False</td>\n",
       "      <td>?</td>\n",
       "      <td>code 5</td>\n",
       "      <td>Resolved by 149</td>\n",
       "      <td>False</td>\n",
       "    </tr>\n",
       "    <tr>\n",
       "      <th>2</th>\n",
       "      <td>Resolved</td>\n",
       "      <td>True</td>\n",
       "      <td>0</td>\n",
       "      <td>3</td>\n",
       "      <td>Caller 2403</td>\n",
       "      <td>Opened by  8</td>\n",
       "      <td>Created by 6</td>\n",
       "      <td>Updated by 804</td>\n",
       "      <td>Phone</td>\n",
       "      <td>Location 143</td>\n",
       "      <td>...</td>\n",
       "      <td>2 - Medium</td>\n",
       "      <td>3 - Moderate</td>\n",
       "      <td>Group 56</td>\n",
       "      <td>?</td>\n",
       "      <td>True</td>\n",
       "      <td>False</td>\n",
       "      <td>?</td>\n",
       "      <td>code 5</td>\n",
       "      <td>Resolved by 149</td>\n",
       "      <td>False</td>\n",
       "    </tr>\n",
       "    <tr>\n",
       "      <th>3</th>\n",
       "      <td>Closed</td>\n",
       "      <td>False</td>\n",
       "      <td>0</td>\n",
       "      <td>4</td>\n",
       "      <td>Caller 2403</td>\n",
       "      <td>Opened by  8</td>\n",
       "      <td>Created by 6</td>\n",
       "      <td>Updated by 908</td>\n",
       "      <td>Phone</td>\n",
       "      <td>Location 143</td>\n",
       "      <td>...</td>\n",
       "      <td>2 - Medium</td>\n",
       "      <td>3 - Moderate</td>\n",
       "      <td>Group 56</td>\n",
       "      <td>?</td>\n",
       "      <td>True</td>\n",
       "      <td>False</td>\n",
       "      <td>?</td>\n",
       "      <td>code 5</td>\n",
       "      <td>Resolved by 149</td>\n",
       "      <td>False</td>\n",
       "    </tr>\n",
       "    <tr>\n",
       "      <th>4</th>\n",
       "      <td>New</td>\n",
       "      <td>True</td>\n",
       "      <td>0</td>\n",
       "      <td>0</td>\n",
       "      <td>Caller 2403</td>\n",
       "      <td>Opened by  397</td>\n",
       "      <td>Created by 171</td>\n",
       "      <td>Updated by 746</td>\n",
       "      <td>Phone</td>\n",
       "      <td>Location 165</td>\n",
       "      <td>...</td>\n",
       "      <td>2 - Medium</td>\n",
       "      <td>3 - Moderate</td>\n",
       "      <td>Group 70</td>\n",
       "      <td>Resolver 89</td>\n",
       "      <td>True</td>\n",
       "      <td>False</td>\n",
       "      <td>?</td>\n",
       "      <td>code 5</td>\n",
       "      <td>Resolved by 81</td>\n",
       "      <td>False</td>\n",
       "    </tr>\n",
       "    <tr>\n",
       "      <th>5</th>\n",
       "      <td>Active</td>\n",
       "      <td>True</td>\n",
       "      <td>0</td>\n",
       "      <td>1</td>\n",
       "      <td>Caller 2403</td>\n",
       "      <td>Opened by  397</td>\n",
       "      <td>Created by 171</td>\n",
       "      <td>Updated by 21</td>\n",
       "      <td>Phone</td>\n",
       "      <td>Location 165</td>\n",
       "      <td>...</td>\n",
       "      <td>2 - Medium</td>\n",
       "      <td>3 - Moderate</td>\n",
       "      <td>Group 24</td>\n",
       "      <td>Resolver 31</td>\n",
       "      <td>True</td>\n",
       "      <td>False</td>\n",
       "      <td>?</td>\n",
       "      <td>code 5</td>\n",
       "      <td>Resolved by 81</td>\n",
       "      <td>True</td>\n",
       "    </tr>\n",
       "    <tr>\n",
       "      <th>6</th>\n",
       "      <td>Active</td>\n",
       "      <td>True</td>\n",
       "      <td>0</td>\n",
       "      <td>2</td>\n",
       "      <td>Caller 2403</td>\n",
       "      <td>Opened by  397</td>\n",
       "      <td>Created by 171</td>\n",
       "      <td>Updated by 21</td>\n",
       "      <td>Phone</td>\n",
       "      <td>Location 165</td>\n",
       "      <td>...</td>\n",
       "      <td>2 - Medium</td>\n",
       "      <td>3 - Moderate</td>\n",
       "      <td>Group 24</td>\n",
       "      <td>Resolver 31</td>\n",
       "      <td>True</td>\n",
       "      <td>False</td>\n",
       "      <td>?</td>\n",
       "      <td>code 5</td>\n",
       "      <td>Resolved by 81</td>\n",
       "      <td>True</td>\n",
       "    </tr>\n",
       "    <tr>\n",
       "      <th>7</th>\n",
       "      <td>Active</td>\n",
       "      <td>True</td>\n",
       "      <td>0</td>\n",
       "      <td>3</td>\n",
       "      <td>Caller 2403</td>\n",
       "      <td>Opened by  397</td>\n",
       "      <td>Created by 171</td>\n",
       "      <td>Updated by 804</td>\n",
       "      <td>Phone</td>\n",
       "      <td>Location 165</td>\n",
       "      <td>...</td>\n",
       "      <td>2 - Medium</td>\n",
       "      <td>3 - Moderate</td>\n",
       "      <td>Group 24</td>\n",
       "      <td>Resolver 31</td>\n",
       "      <td>True</td>\n",
       "      <td>False</td>\n",
       "      <td>?</td>\n",
       "      <td>code 5</td>\n",
       "      <td>Resolved by 81</td>\n",
       "      <td>True</td>\n",
       "    </tr>\n",
       "    <tr>\n",
       "      <th>8</th>\n",
       "      <td>Active</td>\n",
       "      <td>True</td>\n",
       "      <td>0</td>\n",
       "      <td>4</td>\n",
       "      <td>Caller 2403</td>\n",
       "      <td>Opened by  397</td>\n",
       "      <td>Created by 171</td>\n",
       "      <td>Updated by 703</td>\n",
       "      <td>Phone</td>\n",
       "      <td>Location 165</td>\n",
       "      <td>...</td>\n",
       "      <td>2 - Medium</td>\n",
       "      <td>3 - Moderate</td>\n",
       "      <td>Group 24</td>\n",
       "      <td>Resolver 31</td>\n",
       "      <td>True</td>\n",
       "      <td>False</td>\n",
       "      <td>?</td>\n",
       "      <td>code 5</td>\n",
       "      <td>Resolved by 81</td>\n",
       "      <td>True</td>\n",
       "    </tr>\n",
       "    <tr>\n",
       "      <th>9</th>\n",
       "      <td>Active</td>\n",
       "      <td>True</td>\n",
       "      <td>0</td>\n",
       "      <td>5</td>\n",
       "      <td>Caller 2403</td>\n",
       "      <td>Opened by  397</td>\n",
       "      <td>Created by 171</td>\n",
       "      <td>Updated by 332</td>\n",
       "      <td>Phone</td>\n",
       "      <td>Location 165</td>\n",
       "      <td>...</td>\n",
       "      <td>2 - Medium</td>\n",
       "      <td>3 - Moderate</td>\n",
       "      <td>Group 24</td>\n",
       "      <td>Resolver 31</td>\n",
       "      <td>True</td>\n",
       "      <td>False</td>\n",
       "      <td>?</td>\n",
       "      <td>code 5</td>\n",
       "      <td>Resolved by 81</td>\n",
       "      <td>True</td>\n",
       "    </tr>\n",
       "  </tbody>\n",
       "</table>\n",
       "<p>10 rows × 24 columns</p>\n",
       "</div>"
      ],
      "text/plain": [
       "  incident_state  active  reopen_count  sys_mod_count    caller_id  \\\n",
       "0            New    True             0              0  Caller 2403   \n",
       "1       Resolved    True             0              2  Caller 2403   \n",
       "2       Resolved    True             0              3  Caller 2403   \n",
       "3         Closed   False             0              4  Caller 2403   \n",
       "4            New    True             0              0  Caller 2403   \n",
       "5         Active    True             0              1  Caller 2403   \n",
       "6         Active    True             0              2  Caller 2403   \n",
       "7         Active    True             0              3  Caller 2403   \n",
       "8         Active    True             0              4  Caller 2403   \n",
       "9         Active    True             0              5  Caller 2403   \n",
       "\n",
       "        opened_by  sys_created_by  sys_updated_by contact_type      location  \\\n",
       "0    Opened by  8    Created by 6   Updated by 21        Phone  Location 143   \n",
       "1    Opened by  8    Created by 6  Updated by 642        Phone  Location 143   \n",
       "2    Opened by  8    Created by 6  Updated by 804        Phone  Location 143   \n",
       "3    Opened by  8    Created by 6  Updated by 908        Phone  Location 143   \n",
       "4  Opened by  397  Created by 171  Updated by 746        Phone  Location 165   \n",
       "5  Opened by  397  Created by 171   Updated by 21        Phone  Location 165   \n",
       "6  Opened by  397  Created by 171   Updated by 21        Phone  Location 165   \n",
       "7  Opened by  397  Created by 171  Updated by 804        Phone  Location 165   \n",
       "8  Opened by  397  Created by 171  Updated by 703        Phone  Location 165   \n",
       "9  Opened by  397  Created by 171  Updated by 332        Phone  Location 165   \n",
       "\n",
       "   ...     urgency      priority assignment_group  assigned_to knowledge  \\\n",
       "0  ...  2 - Medium  3 - Moderate         Group 56            ?      True   \n",
       "1  ...  2 - Medium  3 - Moderate         Group 56            ?      True   \n",
       "2  ...  2 - Medium  3 - Moderate         Group 56            ?      True   \n",
       "3  ...  2 - Medium  3 - Moderate         Group 56            ?      True   \n",
       "4  ...  2 - Medium  3 - Moderate         Group 70  Resolver 89      True   \n",
       "5  ...  2 - Medium  3 - Moderate         Group 24  Resolver 31      True   \n",
       "6  ...  2 - Medium  3 - Moderate         Group 24  Resolver 31      True   \n",
       "7  ...  2 - Medium  3 - Moderate         Group 24  Resolver 31      True   \n",
       "8  ...  2 - Medium  3 - Moderate         Group 24  Resolver 31      True   \n",
       "9  ...  2 - Medium  3 - Moderate         Group 24  Resolver 31      True   \n",
       "\n",
       "  u_priority_confirmation vendor closed_code      resolved_by  reassigned  \n",
       "0                   False      ?      code 5  Resolved by 149       False  \n",
       "1                   False      ?      code 5  Resolved by 149       False  \n",
       "2                   False      ?      code 5  Resolved by 149       False  \n",
       "3                   False      ?      code 5  Resolved by 149       False  \n",
       "4                   False      ?      code 5   Resolved by 81       False  \n",
       "5                   False      ?      code 5   Resolved by 81        True  \n",
       "6                   False      ?      code 5   Resolved by 81        True  \n",
       "7                   False      ?      code 5   Resolved by 81        True  \n",
       "8                   False      ?      code 5   Resolved by 81        True  \n",
       "9                   False      ?      code 5   Resolved by 81        True  \n",
       "\n",
       "[10 rows x 24 columns]"
      ]
     },
     "execution_count": 20,
     "metadata": {},
     "output_type": "execute_result"
    }
   ],
   "source": [
    "df_relevant['reassigned'] = df_relevant['reassignment_count'] > 0\n",
    "df_relevant.drop(columns=['reassignment_count'], inplace=True)\n",
    "df_relevant.head(10)"
   ]
  },
  {
   "cell_type": "code",
   "execution_count": 21,
   "metadata": {
    "colab": {
     "base_uri": "https://localhost:8080/"
    },
    "id": "bac-UtQ8WlGH",
    "outputId": "c25f8625-db0e-49ef-d901-d88743c34e07"
   },
   "outputs": [
    {
     "data": {
      "text/plain": [
       "incident_state                9\n",
       "active                        2\n",
       "reopen_count                  9\n",
       "sys_mod_count               115\n",
       "caller_id                  5245\n",
       "opened_by                   208\n",
       "sys_created_by              186\n",
       "sys_updated_by              846\n",
       "contact_type                  5\n",
       "location                    225\n",
       "category                     59\n",
       "subcategory                 255\n",
       "u_symptom                   526\n",
       "impact                        3\n",
       "urgency                       3\n",
       "priority                      4\n",
       "assignment_group             79\n",
       "assigned_to                 235\n",
       "knowledge                     2\n",
       "u_priority_confirmation       2\n",
       "vendor                        5\n",
       "closed_code                  18\n",
       "resolved_by                 217\n",
       "reassigned                    2\n",
       "dtype: int64"
      ]
     },
     "execution_count": 21,
     "metadata": {},
     "output_type": "execute_result"
    }
   ],
   "source": [
    "df_relevant.nunique()"
   ]
  },
  {
   "cell_type": "code",
   "execution_count": 22,
   "metadata": {
    "colab": {
     "base_uri": "https://localhost:8080/"
    },
    "id": "hZqglN8S9Hbj",
    "outputId": "44312783-86a7-460c-dc62-aa5238926f96"
   },
   "outputs": [
    {
     "name": "stdout",
     "output_type": "stream",
     "text": [
      "<class 'pandas.core.frame.DataFrame'>\n",
      "RangeIndex: 141712 entries, 0 to 141711\n",
      "Data columns (total 24 columns):\n",
      " #   Column                   Non-Null Count   Dtype \n",
      "---  ------                   --------------   ----- \n",
      " 0   incident_state           141712 non-null  object\n",
      " 1   active                   141712 non-null  bool  \n",
      " 2   reopen_count             141712 non-null  int64 \n",
      " 3   sys_mod_count            141712 non-null  int64 \n",
      " 4   caller_id                141712 non-null  object\n",
      " 5   opened_by                141712 non-null  object\n",
      " 6   sys_created_by           141712 non-null  object\n",
      " 7   sys_updated_by           141712 non-null  object\n",
      " 8   contact_type             141712 non-null  object\n",
      " 9   location                 141712 non-null  object\n",
      " 10  category                 141712 non-null  object\n",
      " 11  subcategory              141712 non-null  object\n",
      " 12  u_symptom                141712 non-null  object\n",
      " 13  impact                   141712 non-null  object\n",
      " 14  urgency                  141712 non-null  object\n",
      " 15  priority                 141712 non-null  object\n",
      " 16  assignment_group         141712 non-null  object\n",
      " 17  assigned_to              141712 non-null  object\n",
      " 18  knowledge                141712 non-null  bool  \n",
      " 19  u_priority_confirmation  141712 non-null  bool  \n",
      " 20  vendor                   141712 non-null  object\n",
      " 21  closed_code              141712 non-null  object\n",
      " 22  resolved_by              141712 non-null  object\n",
      " 23  reassigned               141712 non-null  bool  \n",
      "dtypes: bool(4), int64(2), object(18)\n",
      "memory usage: 22.2+ MB\n"
     ]
    }
   ],
   "source": [
    "df_relevant.info()"
   ]
  },
  {
   "cell_type": "code",
   "execution_count": 23,
   "metadata": {
    "colab": {
     "base_uri": "https://localhost:8080/"
    },
    "id": "w4p6ItQlW8K4",
    "outputId": "9908bd15-8c35-48c4-a291-b818bf04a817"
   },
   "outputs": [
    {
     "data": {
      "text/plain": [
       "array(['Phone', 'Email', 'Self service', 'Direct opening', 'IVR'],\n",
       "      dtype=object)"
      ]
     },
     "execution_count": 23,
     "metadata": {},
     "output_type": "execute_result"
    }
   ],
   "source": [
    "df['contact_type'].unique()"
   ]
  },
  {
   "cell_type": "code",
   "execution_count": 24,
   "metadata": {
    "id": "v-eFLGIBXHId"
   },
   "outputs": [],
   "source": [
    "df_relevant['u_priority_confirmation'] = df_relevant['u_priority_confirmation'].astype('bool')\n",
    "df_relevant['knowledge'] = df_relevant['knowledge'].astype('bool')"
   ]
  },
  {
   "cell_type": "code",
   "execution_count": 25,
   "metadata": {
    "colab": {
     "base_uri": "https://localhost:8080/",
     "height": 423
    },
    "id": "TByd_FLYbewt",
    "outputId": "e79742d7-6d72-49de-a55c-f3b0fe1862a6"
   },
   "outputs": [
    {
     "data": {
      "text/html": [
       "<div>\n",
       "<style scoped>\n",
       "    .dataframe tbody tr th:only-of-type {\n",
       "        vertical-align: middle;\n",
       "    }\n",
       "\n",
       "    .dataframe tbody tr th {\n",
       "        vertical-align: top;\n",
       "    }\n",
       "\n",
       "    .dataframe thead th {\n",
       "        text-align: right;\n",
       "    }\n",
       "</style>\n",
       "<table border=\"1\" class=\"dataframe\">\n",
       "  <thead>\n",
       "    <tr style=\"text-align: right;\">\n",
       "      <th></th>\n",
       "      <th>active</th>\n",
       "      <th>knowledge</th>\n",
       "      <th>u_priority_confirmation</th>\n",
       "      <th>reassigned</th>\n",
       "    </tr>\n",
       "  </thead>\n",
       "  <tbody>\n",
       "    <tr>\n",
       "      <th>0</th>\n",
       "      <td>True</td>\n",
       "      <td>True</td>\n",
       "      <td>False</td>\n",
       "      <td>False</td>\n",
       "    </tr>\n",
       "    <tr>\n",
       "      <th>1</th>\n",
       "      <td>True</td>\n",
       "      <td>True</td>\n",
       "      <td>False</td>\n",
       "      <td>False</td>\n",
       "    </tr>\n",
       "    <tr>\n",
       "      <th>2</th>\n",
       "      <td>True</td>\n",
       "      <td>True</td>\n",
       "      <td>False</td>\n",
       "      <td>False</td>\n",
       "    </tr>\n",
       "    <tr>\n",
       "      <th>3</th>\n",
       "      <td>False</td>\n",
       "      <td>True</td>\n",
       "      <td>False</td>\n",
       "      <td>False</td>\n",
       "    </tr>\n",
       "    <tr>\n",
       "      <th>4</th>\n",
       "      <td>True</td>\n",
       "      <td>True</td>\n",
       "      <td>False</td>\n",
       "      <td>False</td>\n",
       "    </tr>\n",
       "    <tr>\n",
       "      <th>...</th>\n",
       "      <td>...</td>\n",
       "      <td>...</td>\n",
       "      <td>...</td>\n",
       "      <td>...</td>\n",
       "    </tr>\n",
       "    <tr>\n",
       "      <th>141707</th>\n",
       "      <td>False</td>\n",
       "      <td>False</td>\n",
       "      <td>True</td>\n",
       "      <td>True</td>\n",
       "    </tr>\n",
       "    <tr>\n",
       "      <th>141708</th>\n",
       "      <td>True</td>\n",
       "      <td>False</td>\n",
       "      <td>False</td>\n",
       "      <td>False</td>\n",
       "    </tr>\n",
       "    <tr>\n",
       "      <th>141709</th>\n",
       "      <td>True</td>\n",
       "      <td>False</td>\n",
       "      <td>False</td>\n",
       "      <td>True</td>\n",
       "    </tr>\n",
       "    <tr>\n",
       "      <th>141710</th>\n",
       "      <td>True</td>\n",
       "      <td>False</td>\n",
       "      <td>True</td>\n",
       "      <td>True</td>\n",
       "    </tr>\n",
       "    <tr>\n",
       "      <th>141711</th>\n",
       "      <td>False</td>\n",
       "      <td>False</td>\n",
       "      <td>True</td>\n",
       "      <td>True</td>\n",
       "    </tr>\n",
       "  </tbody>\n",
       "</table>\n",
       "<p>141712 rows × 4 columns</p>\n",
       "</div>"
      ],
      "text/plain": [
       "        active  knowledge  u_priority_confirmation  reassigned\n",
       "0         True       True                    False       False\n",
       "1         True       True                    False       False\n",
       "2         True       True                    False       False\n",
       "3        False       True                    False       False\n",
       "4         True       True                    False       False\n",
       "...        ...        ...                      ...         ...\n",
       "141707   False      False                     True        True\n",
       "141708    True      False                    False       False\n",
       "141709    True      False                    False        True\n",
       "141710    True      False                     True        True\n",
       "141711   False      False                     True        True\n",
       "\n",
       "[141712 rows x 4 columns]"
      ]
     },
     "execution_count": 25,
     "metadata": {},
     "output_type": "execute_result"
    }
   ],
   "source": [
    "bool_cols = df_relevant.select_dtypes('bool').columns\n",
    "df_relevant[bool_cols]"
   ]
  },
  {
   "cell_type": "code",
   "execution_count": 26,
   "metadata": {
    "colab": {
     "base_uri": "https://localhost:8080/",
     "height": 423
    },
    "id": "hUSlMQY6iQGC",
    "outputId": "456538ac-444d-415d-ae3e-e215fff3b161"
   },
   "outputs": [
    {
     "data": {
      "text/html": [
       "<div>\n",
       "<style scoped>\n",
       "    .dataframe tbody tr th:only-of-type {\n",
       "        vertical-align: middle;\n",
       "    }\n",
       "\n",
       "    .dataframe tbody tr th {\n",
       "        vertical-align: top;\n",
       "    }\n",
       "\n",
       "    .dataframe thead th {\n",
       "        text-align: right;\n",
       "    }\n",
       "</style>\n",
       "<table border=\"1\" class=\"dataframe\">\n",
       "  <thead>\n",
       "    <tr style=\"text-align: right;\">\n",
       "      <th></th>\n",
       "      <th>active</th>\n",
       "      <th>knowledge</th>\n",
       "      <th>u_priority_confirmation</th>\n",
       "      <th>reassigned</th>\n",
       "    </tr>\n",
       "  </thead>\n",
       "  <tbody>\n",
       "    <tr>\n",
       "      <th>0</th>\n",
       "      <td>1</td>\n",
       "      <td>1</td>\n",
       "      <td>0</td>\n",
       "      <td>0</td>\n",
       "    </tr>\n",
       "    <tr>\n",
       "      <th>1</th>\n",
       "      <td>1</td>\n",
       "      <td>1</td>\n",
       "      <td>0</td>\n",
       "      <td>0</td>\n",
       "    </tr>\n",
       "    <tr>\n",
       "      <th>2</th>\n",
       "      <td>1</td>\n",
       "      <td>1</td>\n",
       "      <td>0</td>\n",
       "      <td>0</td>\n",
       "    </tr>\n",
       "    <tr>\n",
       "      <th>3</th>\n",
       "      <td>0</td>\n",
       "      <td>1</td>\n",
       "      <td>0</td>\n",
       "      <td>0</td>\n",
       "    </tr>\n",
       "    <tr>\n",
       "      <th>4</th>\n",
       "      <td>1</td>\n",
       "      <td>1</td>\n",
       "      <td>0</td>\n",
       "      <td>0</td>\n",
       "    </tr>\n",
       "    <tr>\n",
       "      <th>...</th>\n",
       "      <td>...</td>\n",
       "      <td>...</td>\n",
       "      <td>...</td>\n",
       "      <td>...</td>\n",
       "    </tr>\n",
       "    <tr>\n",
       "      <th>141707</th>\n",
       "      <td>0</td>\n",
       "      <td>0</td>\n",
       "      <td>1</td>\n",
       "      <td>1</td>\n",
       "    </tr>\n",
       "    <tr>\n",
       "      <th>141708</th>\n",
       "      <td>1</td>\n",
       "      <td>0</td>\n",
       "      <td>0</td>\n",
       "      <td>0</td>\n",
       "    </tr>\n",
       "    <tr>\n",
       "      <th>141709</th>\n",
       "      <td>1</td>\n",
       "      <td>0</td>\n",
       "      <td>0</td>\n",
       "      <td>1</td>\n",
       "    </tr>\n",
       "    <tr>\n",
       "      <th>141710</th>\n",
       "      <td>1</td>\n",
       "      <td>0</td>\n",
       "      <td>1</td>\n",
       "      <td>1</td>\n",
       "    </tr>\n",
       "    <tr>\n",
       "      <th>141711</th>\n",
       "      <td>0</td>\n",
       "      <td>0</td>\n",
       "      <td>1</td>\n",
       "      <td>1</td>\n",
       "    </tr>\n",
       "  </tbody>\n",
       "</table>\n",
       "<p>141712 rows × 4 columns</p>\n",
       "</div>"
      ],
      "text/plain": [
       "        active  knowledge  u_priority_confirmation  reassigned\n",
       "0            1          1                        0           0\n",
       "1            1          1                        0           0\n",
       "2            1          1                        0           0\n",
       "3            0          1                        0           0\n",
       "4            1          1                        0           0\n",
       "...        ...        ...                      ...         ...\n",
       "141707       0          0                        1           1\n",
       "141708       1          0                        0           0\n",
       "141709       1          0                        0           1\n",
       "141710       1          0                        1           1\n",
       "141711       0          0                        1           1\n",
       "\n",
       "[141712 rows x 4 columns]"
      ]
     },
     "execution_count": 26,
     "metadata": {},
     "output_type": "execute_result"
    }
   ],
   "source": [
    "for col in bool_cols:\n",
    "    df_relevant[col] = df_relevant[col].astype(int)\n",
    "df_relevant[bool_cols]"
   ]
  },
  {
   "cell_type": "code",
   "execution_count": 27,
   "metadata": {
    "id": "aSv1qDH5qx3x"
   },
   "outputs": [],
   "source": [
    "import torch\n",
    "import torch.nn as nn\n",
    "from sklearn.preprocessing import LabelEncoder"
   ]
  },
  {
   "cell_type": "code",
   "execution_count": 28,
   "metadata": {
    "colab": {
     "base_uri": "https://localhost:8080/"
    },
    "id": "FxvxyMrmiRrk",
    "outputId": "de790d05-ebda-42d6-f4a9-d8582890915f"
   },
   "outputs": [
    {
     "data": {
      "text/plain": [
       "{'active': tensor([1, 1, 1,  ..., 1, 1, 0], dtype=torch.int32),\n",
       " 'knowledge': tensor([1, 1, 1,  ..., 0, 0, 0], dtype=torch.int32),\n",
       " 'u_priority_confirmation': tensor([0, 0, 0,  ..., 0, 1, 1], dtype=torch.int32),\n",
       " 'reassigned': tensor([0, 0, 0,  ..., 1, 1, 1], dtype=torch.int32)}"
      ]
     },
     "execution_count": 28,
     "metadata": {},
     "output_type": "execute_result"
    }
   ],
   "source": [
    "bool_col_tensors = {}\n",
    "for col in bool_cols:\n",
    "    bool_col_tensors[col] = torch.tensor(df_relevant[col])\n",
    "\n",
    "bool_col_tensors"
   ]
  },
  {
   "cell_type": "code",
   "execution_count": 29,
   "metadata": {
    "colab": {
     "base_uri": "https://localhost:8080/"
    },
    "id": "ENlvywOVZ5lX",
    "outputId": "ad67f55b-3f72-40c8-cb81-5bd2ae0dfb38"
   },
   "outputs": [
    {
     "data": {
      "text/plain": [
       "dict_items([('incident_state', 9), ('reopen_count', 9), ('sys_mod_count', 115), ('caller_id', 5245), ('opened_by', 208), ('sys_created_by', 186), ('sys_updated_by', 846), ('contact_type', 5), ('location', 225), ('category', 59), ('subcategory', 255), ('u_symptom', 526), ('impact', 3), ('urgency', 3), ('priority', 4), ('assignment_group', 79), ('assigned_to', 235), ('vendor', 5), ('closed_code', 18), ('resolved_by', 217)])"
      ]
     },
     "execution_count": 29,
     "metadata": {},
     "output_type": "execute_result"
    }
   ],
   "source": [
    "unique_vals = df_relevant.nunique()[df_relevant.nunique() > 2].to_dict()\n",
    "unique_vals.items()"
   ]
  },
  {
   "cell_type": "code",
   "execution_count": 30,
   "metadata": {
    "id": "HWcLZxf9cf8J"
   },
   "outputs": [],
   "source": [
    "embedding_column_names = unique_vals.keys()\n",
    "# embedding_dim = [(k,(v, min(120, v//2+1))) for k, v in unique_vals.items()]\n",
    "\n",
    "embedding_dim = [(k,(v, 128)) for k, v in unique_vals.items()]"
   ]
  },
  {
   "cell_type": "code",
   "execution_count": 31,
   "metadata": {
    "colab": {
     "base_uri": "https://localhost:8080/",
     "height": 456
    },
    "id": "nCGuphNdgI4E",
    "outputId": "b380fd7d-1be2-46f9-b43a-020db94ee7af"
   },
   "outputs": [
    {
     "data": {
      "text/html": [
       "<div>\n",
       "<style scoped>\n",
       "    .dataframe tbody tr th:only-of-type {\n",
       "        vertical-align: middle;\n",
       "    }\n",
       "\n",
       "    .dataframe tbody tr th {\n",
       "        vertical-align: top;\n",
       "    }\n",
       "\n",
       "    .dataframe thead th {\n",
       "        text-align: right;\n",
       "    }\n",
       "</style>\n",
       "<table border=\"1\" class=\"dataframe\">\n",
       "  <thead>\n",
       "    <tr style=\"text-align: right;\">\n",
       "      <th></th>\n",
       "      <th>incident_state</th>\n",
       "      <th>active</th>\n",
       "      <th>reopen_count</th>\n",
       "      <th>sys_mod_count</th>\n",
       "      <th>caller_id</th>\n",
       "      <th>opened_by</th>\n",
       "      <th>sys_created_by</th>\n",
       "      <th>sys_updated_by</th>\n",
       "      <th>contact_type</th>\n",
       "      <th>location</th>\n",
       "      <th>...</th>\n",
       "      <th>urgency</th>\n",
       "      <th>priority</th>\n",
       "      <th>assignment_group</th>\n",
       "      <th>assigned_to</th>\n",
       "      <th>knowledge</th>\n",
       "      <th>u_priority_confirmation</th>\n",
       "      <th>vendor</th>\n",
       "      <th>closed_code</th>\n",
       "      <th>resolved_by</th>\n",
       "      <th>reassigned</th>\n",
       "    </tr>\n",
       "  </thead>\n",
       "  <tbody>\n",
       "    <tr>\n",
       "      <th>0</th>\n",
       "      <td>7</td>\n",
       "      <td>1</td>\n",
       "      <td>0</td>\n",
       "      <td>0</td>\n",
       "      <td>1463</td>\n",
       "      <td>201</td>\n",
       "      <td>152</td>\n",
       "      <td>104</td>\n",
       "      <td>3</td>\n",
       "      <td>44</td>\n",
       "      <td>...</td>\n",
       "      <td>1</td>\n",
       "      <td>2</td>\n",
       "      <td>48</td>\n",
       "      <td>0</td>\n",
       "      <td>1</td>\n",
       "      <td>0</td>\n",
       "      <td>0</td>\n",
       "      <td>13</td>\n",
       "      <td>52</td>\n",
       "      <td>0</td>\n",
       "    </tr>\n",
       "    <tr>\n",
       "      <th>1</th>\n",
       "      <td>8</td>\n",
       "      <td>1</td>\n",
       "      <td>0</td>\n",
       "      <td>2</td>\n",
       "      <td>1463</td>\n",
       "      <td>201</td>\n",
       "      <td>152</td>\n",
       "      <td>509</td>\n",
       "      <td>3</td>\n",
       "      <td>44</td>\n",
       "      <td>...</td>\n",
       "      <td>1</td>\n",
       "      <td>2</td>\n",
       "      <td>48</td>\n",
       "      <td>0</td>\n",
       "      <td>1</td>\n",
       "      <td>0</td>\n",
       "      <td>0</td>\n",
       "      <td>13</td>\n",
       "      <td>52</td>\n",
       "      <td>0</td>\n",
       "    </tr>\n",
       "    <tr>\n",
       "      <th>2</th>\n",
       "      <td>8</td>\n",
       "      <td>1</td>\n",
       "      <td>0</td>\n",
       "      <td>3</td>\n",
       "      <td>1463</td>\n",
       "      <td>201</td>\n",
       "      <td>152</td>\n",
       "      <td>658</td>\n",
       "      <td>3</td>\n",
       "      <td>44</td>\n",
       "      <td>...</td>\n",
       "      <td>1</td>\n",
       "      <td>2</td>\n",
       "      <td>48</td>\n",
       "      <td>0</td>\n",
       "      <td>1</td>\n",
       "      <td>0</td>\n",
       "      <td>0</td>\n",
       "      <td>13</td>\n",
       "      <td>52</td>\n",
       "      <td>0</td>\n",
       "    </tr>\n",
       "    <tr>\n",
       "      <th>3</th>\n",
       "      <td>6</td>\n",
       "      <td>0</td>\n",
       "      <td>0</td>\n",
       "      <td>4</td>\n",
       "      <td>1463</td>\n",
       "      <td>201</td>\n",
       "      <td>152</td>\n",
       "      <td>762</td>\n",
       "      <td>3</td>\n",
       "      <td>44</td>\n",
       "      <td>...</td>\n",
       "      <td>1</td>\n",
       "      <td>2</td>\n",
       "      <td>48</td>\n",
       "      <td>0</td>\n",
       "      <td>1</td>\n",
       "      <td>0</td>\n",
       "      <td>0</td>\n",
       "      <td>13</td>\n",
       "      <td>52</td>\n",
       "      <td>0</td>\n",
       "    </tr>\n",
       "    <tr>\n",
       "      <th>4</th>\n",
       "      <td>7</td>\n",
       "      <td>1</td>\n",
       "      <td>0</td>\n",
       "      <td>0</td>\n",
       "      <td>1463</td>\n",
       "      <td>121</td>\n",
       "      <td>59</td>\n",
       "      <td>605</td>\n",
       "      <td>3</td>\n",
       "      <td>63</td>\n",
       "      <td>...</td>\n",
       "      <td>1</td>\n",
       "      <td>2</td>\n",
       "      <td>64</td>\n",
       "      <td>224</td>\n",
       "      <td>1</td>\n",
       "      <td>0</td>\n",
       "      <td>0</td>\n",
       "      <td>13</td>\n",
       "      <td>197</td>\n",
       "      <td>0</td>\n",
       "    </tr>\n",
       "    <tr>\n",
       "      <th>5</th>\n",
       "      <td>1</td>\n",
       "      <td>1</td>\n",
       "      <td>0</td>\n",
       "      <td>1</td>\n",
       "      <td>1463</td>\n",
       "      <td>121</td>\n",
       "      <td>59</td>\n",
       "      <td>104</td>\n",
       "      <td>3</td>\n",
       "      <td>63</td>\n",
       "      <td>...</td>\n",
       "      <td>1</td>\n",
       "      <td>2</td>\n",
       "      <td>16</td>\n",
       "      <td>168</td>\n",
       "      <td>1</td>\n",
       "      <td>0</td>\n",
       "      <td>0</td>\n",
       "      <td>13</td>\n",
       "      <td>197</td>\n",
       "      <td>1</td>\n",
       "    </tr>\n",
       "    <tr>\n",
       "      <th>6</th>\n",
       "      <td>1</td>\n",
       "      <td>1</td>\n",
       "      <td>0</td>\n",
       "      <td>2</td>\n",
       "      <td>1463</td>\n",
       "      <td>121</td>\n",
       "      <td>59</td>\n",
       "      <td>104</td>\n",
       "      <td>3</td>\n",
       "      <td>63</td>\n",
       "      <td>...</td>\n",
       "      <td>1</td>\n",
       "      <td>2</td>\n",
       "      <td>16</td>\n",
       "      <td>168</td>\n",
       "      <td>1</td>\n",
       "      <td>0</td>\n",
       "      <td>0</td>\n",
       "      <td>13</td>\n",
       "      <td>197</td>\n",
       "      <td>1</td>\n",
       "    </tr>\n",
       "    <tr>\n",
       "      <th>7</th>\n",
       "      <td>1</td>\n",
       "      <td>1</td>\n",
       "      <td>0</td>\n",
       "      <td>3</td>\n",
       "      <td>1463</td>\n",
       "      <td>121</td>\n",
       "      <td>59</td>\n",
       "      <td>658</td>\n",
       "      <td>3</td>\n",
       "      <td>63</td>\n",
       "      <td>...</td>\n",
       "      <td>1</td>\n",
       "      <td>2</td>\n",
       "      <td>16</td>\n",
       "      <td>168</td>\n",
       "      <td>1</td>\n",
       "      <td>0</td>\n",
       "      <td>0</td>\n",
       "      <td>13</td>\n",
       "      <td>197</td>\n",
       "      <td>1</td>\n",
       "    </tr>\n",
       "    <tr>\n",
       "      <th>8</th>\n",
       "      <td>1</td>\n",
       "      <td>1</td>\n",
       "      <td>0</td>\n",
       "      <td>4</td>\n",
       "      <td>1463</td>\n",
       "      <td>121</td>\n",
       "      <td>59</td>\n",
       "      <td>564</td>\n",
       "      <td>3</td>\n",
       "      <td>63</td>\n",
       "      <td>...</td>\n",
       "      <td>1</td>\n",
       "      <td>2</td>\n",
       "      <td>16</td>\n",
       "      <td>168</td>\n",
       "      <td>1</td>\n",
       "      <td>0</td>\n",
       "      <td>0</td>\n",
       "      <td>13</td>\n",
       "      <td>197</td>\n",
       "      <td>1</td>\n",
       "    </tr>\n",
       "    <tr>\n",
       "      <th>9</th>\n",
       "      <td>1</td>\n",
       "      <td>1</td>\n",
       "      <td>0</td>\n",
       "      <td>5</td>\n",
       "      <td>1463</td>\n",
       "      <td>121</td>\n",
       "      <td>59</td>\n",
       "      <td>221</td>\n",
       "      <td>3</td>\n",
       "      <td>63</td>\n",
       "      <td>...</td>\n",
       "      <td>1</td>\n",
       "      <td>2</td>\n",
       "      <td>16</td>\n",
       "      <td>168</td>\n",
       "      <td>1</td>\n",
       "      <td>0</td>\n",
       "      <td>0</td>\n",
       "      <td>13</td>\n",
       "      <td>197</td>\n",
       "      <td>1</td>\n",
       "    </tr>\n",
       "  </tbody>\n",
       "</table>\n",
       "<p>10 rows × 24 columns</p>\n",
       "</div>"
      ],
      "text/plain": [
       "   incident_state  active  reopen_count  sys_mod_count  caller_id  opened_by  \\\n",
       "0               7       1             0              0       1463        201   \n",
       "1               8       1             0              2       1463        201   \n",
       "2               8       1             0              3       1463        201   \n",
       "3               6       0             0              4       1463        201   \n",
       "4               7       1             0              0       1463        121   \n",
       "5               1       1             0              1       1463        121   \n",
       "6               1       1             0              2       1463        121   \n",
       "7               1       1             0              3       1463        121   \n",
       "8               1       1             0              4       1463        121   \n",
       "9               1       1             0              5       1463        121   \n",
       "\n",
       "   sys_created_by  sys_updated_by  contact_type  location  ...  urgency  \\\n",
       "0             152             104             3        44  ...        1   \n",
       "1             152             509             3        44  ...        1   \n",
       "2             152             658             3        44  ...        1   \n",
       "3             152             762             3        44  ...        1   \n",
       "4              59             605             3        63  ...        1   \n",
       "5              59             104             3        63  ...        1   \n",
       "6              59             104             3        63  ...        1   \n",
       "7              59             658             3        63  ...        1   \n",
       "8              59             564             3        63  ...        1   \n",
       "9              59             221             3        63  ...        1   \n",
       "\n",
       "   priority  assignment_group  assigned_to  knowledge  \\\n",
       "0         2                48            0          1   \n",
       "1         2                48            0          1   \n",
       "2         2                48            0          1   \n",
       "3         2                48            0          1   \n",
       "4         2                64          224          1   \n",
       "5         2                16          168          1   \n",
       "6         2                16          168          1   \n",
       "7         2                16          168          1   \n",
       "8         2                16          168          1   \n",
       "9         2                16          168          1   \n",
       "\n",
       "   u_priority_confirmation  vendor  closed_code  resolved_by  reassigned  \n",
       "0                        0       0           13           52           0  \n",
       "1                        0       0           13           52           0  \n",
       "2                        0       0           13           52           0  \n",
       "3                        0       0           13           52           0  \n",
       "4                        0       0           13          197           0  \n",
       "5                        0       0           13          197           1  \n",
       "6                        0       0           13          197           1  \n",
       "7                        0       0           13          197           1  \n",
       "8                        0       0           13          197           1  \n",
       "9                        0       0           13          197           1  \n",
       "\n",
       "[10 rows x 24 columns]"
      ]
     },
     "execution_count": 31,
     "metadata": {},
     "output_type": "execute_result"
    }
   ],
   "source": [
    "for col in embedding_column_names:\n",
    "    label_encoder = LabelEncoder()\n",
    "    df_relevant[col] = label_encoder.fit_transform(df_relevant[col])\n",
    "\n",
    "df_relevant.head(10)"
   ]
  },
  {
   "cell_type": "code",
   "execution_count": 32,
   "metadata": {
    "colab": {
     "base_uri": "https://localhost:8080/"
    },
    "id": "tLiELOOyhzk5",
    "outputId": "f3e335c9-d694-40fc-dcc7-5e72f6c2fc93"
   },
   "outputs": [
    {
     "data": {
      "text/plain": [
       "[('incident_state', Embedding(9, 128)),\n",
       " ('reopen_count', Embedding(9, 128)),\n",
       " ('sys_mod_count', Embedding(115, 128)),\n",
       " ('caller_id', Embedding(5245, 128)),\n",
       " ('opened_by', Embedding(208, 128)),\n",
       " ('sys_created_by', Embedding(186, 128)),\n",
       " ('sys_updated_by', Embedding(846, 128)),\n",
       " ('contact_type', Embedding(5, 128)),\n",
       " ('location', Embedding(225, 128)),\n",
       " ('category', Embedding(59, 128)),\n",
       " ('subcategory', Embedding(255, 128)),\n",
       " ('u_symptom', Embedding(526, 128)),\n",
       " ('impact', Embedding(3, 128)),\n",
       " ('urgency', Embedding(3, 128)),\n",
       " ('priority', Embedding(4, 128)),\n",
       " ('assignment_group', Embedding(79, 128)),\n",
       " ('assigned_to', Embedding(235, 128)),\n",
       " ('vendor', Embedding(5, 128)),\n",
       " ('closed_code', Embedding(18, 128)),\n",
       " ('resolved_by', Embedding(217, 128))]"
      ]
     },
     "execution_count": 32,
     "metadata": {},
     "output_type": "execute_result"
    }
   ],
   "source": [
    "embeddings = [(k, nn.Embedding(n_unique, emb_size)) for k, (n_unique, emb_size) in embedding_dim]\n",
    "embeddings"
   ]
  },
  {
   "cell_type": "code",
   "execution_count": 33,
   "metadata": {
    "id": "sHF3asIpaMKb"
   },
   "outputs": [],
   "source": [
    "emb_tensors = {}\n",
    "for (col, emb) in embeddings:\n",
    "    column_tensor = torch.tensor(df_relevant[col], dtype=torch.long)\n",
    "    emb_tensors[col] = emb(column_tensor)"
   ]
  },
  {
   "cell_type": "code",
   "execution_count": 34,
   "metadata": {
    "id": "Q1wJFnhJjGQA"
   },
   "outputs": [],
   "source": [
    "bool_col_tensors.update(emb_tensors)\n",
    "feature_tensors = bool_col_tensors"
   ]
  },
  {
   "cell_type": "code",
   "execution_count": 35,
   "metadata": {
    "colab": {
     "base_uri": "https://localhost:8080/"
    },
    "id": "Vkr5nimqjgAJ",
    "outputId": "c0f7fd72-1e2f-429f-c474-0c9e0348980c"
   },
   "outputs": [
    {
     "data": {
      "text/plain": [
       "dict_keys(['active', 'knowledge', 'u_priority_confirmation', 'reassigned', 'incident_state', 'reopen_count', 'sys_mod_count', 'caller_id', 'opened_by', 'sys_created_by', 'sys_updated_by', 'contact_type', 'location', 'category', 'subcategory', 'u_symptom', 'impact', 'urgency', 'priority', 'assignment_group', 'assigned_to', 'vendor', 'closed_code', 'resolved_by'])"
      ]
     },
     "execution_count": 35,
     "metadata": {},
     "output_type": "execute_result"
    }
   ],
   "source": [
    "feature_tensors.keys()"
   ]
  },
  {
   "cell_type": "code",
   "execution_count": 36,
   "metadata": {
    "id": "51JZJtqj6zua"
   },
   "outputs": [],
   "source": [
    "target = feature_tensors['reassigned']"
   ]
  },
  {
   "cell_type": "code",
   "execution_count": 37,
   "metadata": {
    "id": "N7B9fRxXHz3G"
   },
   "outputs": [],
   "source": [
    "nodes = {\n",
    "    'incident': {'active', 'knowledge', 'u_priority_confirmation',\n",
    "                 'incident_state', 'reopen_count','sys_mod_count',\n",
    "                 'caller_id', 'sys_updated_by','contact_type',\n",
    "                 'location', 'category', 'subcategory','u_symptom',\n",
    "                 'impact', 'urgency', 'priority', 'closed_code',\n",
    "                 'resolved_by'},\n",
    "    'support_org': {'assignment_group', 'assigned_to'},\n",
    "    'customer': {'opened_by'},\n",
    "    'vendor': {'vendor'}\n",
    "}"
   ]
  },
  {
   "cell_type": "code",
   "execution_count": 38,
   "metadata": {
    "colab": {
     "base_uri": "https://localhost:8080/"
    },
    "id": "IkGNhZkW1wsF",
    "outputId": "a5bba537-9531-4518-949f-84585d32da84"
   },
   "outputs": [
    {
     "data": {
      "text/plain": [
       "assignment_group     79\n",
       "assigned_to         235\n",
       "dtype: int64"
      ]
     },
     "execution_count": 38,
     "metadata": {},
     "output_type": "execute_result"
    }
   ],
   "source": [
    "df_support_org = df_relevant.groupby(['assignment_group', 'assigned_to']).size().reset_index()[['assignment_group', 'assigned_to']]\n",
    "df_support_org.nunique()"
   ]
  },
  {
   "cell_type": "code",
   "execution_count": 39,
   "metadata": {
    "colab": {
     "base_uri": "https://localhost:8080/"
    },
    "id": "6XFHz5BB9DBq",
    "outputId": "26ab14c4-01d4-4cf4-a899-cbb35d57c78f"
   },
   "outputs": [
    {
     "data": {
      "text/plain": [
       "torch.Size([1981, 118])"
      ]
     },
     "execution_count": 39,
     "metadata": {},
     "output_type": "execute_result"
    }
   ],
   "source": [
    "support_org_tensors = {}\n",
    "group_emb = nn.Embedding(79, 79//2+1)\n",
    "to_emb = nn.Embedding(235, 235//2+1)\n",
    "group_tensor = torch.tensor(df_support_org['assignment_group'], dtype=torch.long)\n",
    "to_tensor = torch.tensor(df_support_org['assigned_to'], dtype=torch.long)\n",
    "support_org_tensors['assignment_group'] = group_emb(group_tensor)\n",
    "support_org_tensors['assigned_to'] = to_emb(to_tensor)\n",
    "\n",
    "support_org_tensors['assigned_to'].size()"
   ]
  },
  {
   "cell_type": "code",
   "execution_count": 40,
   "metadata": {
    "id": "CC5u9SkkCBkW"
   },
   "outputs": [],
   "source": [
    "df_customer = df_relevant.groupby(['opened_by']).size().reset_index()[['opened_by']]\n",
    "df_vendor = df_relevant.groupby(['vendor']).size().reset_index()[['vendor']]"
   ]
  },
  {
   "cell_type": "code",
   "execution_count": 41,
   "metadata": {
    "colab": {
     "base_uri": "https://localhost:8080/"
    },
    "id": "GChv1SgsCghl",
    "outputId": "1d0efc68-b4d7-40e6-e31d-e69309771e6e"
   },
   "outputs": [
    {
     "data": {
      "text/plain": [
       "torch.Size([208, 105])"
      ]
     },
     "execution_count": 41,
     "metadata": {},
     "output_type": "execute_result"
    }
   ],
   "source": [
    "customer_tensors = {}\n",
    "opened_emb = nn.Embedding(208, 208//2+1)\n",
    "opened_tensor = torch.tensor(df_customer['opened_by'], dtype=torch.long)\n",
    "customer_tensors['opened_by'] = opened_emb(opened_tensor)\n",
    "\n",
    "customer_tensors['opened_by'].size()"
   ]
  },
  {
   "cell_type": "code",
   "execution_count": 42,
   "metadata": {
    "colab": {
     "base_uri": "https://localhost:8080/"
    },
    "id": "9nimd0ctDdZ3",
    "outputId": "6b5543aa-b3d4-4d1c-89f1-2c681aa47b04"
   },
   "outputs": [
    {
     "data": {
      "text/plain": [
       "torch.Size([5, 10])"
      ]
     },
     "execution_count": 42,
     "metadata": {},
     "output_type": "execute_result"
    }
   ],
   "source": [
    "vendor_tensors = {}\n",
    "vendor_emb = nn.Embedding(18, 18//2+1)\n",
    "vendor_tensor = torch.tensor(df_vendor['vendor'], dtype=torch.long)\n",
    "vendor_tensors['vendor'] = vendor_emb(vendor_tensor)\n",
    "\n",
    "vendor_tensors['vendor'].size()"
   ]
  },
  {
   "cell_type": "code",
   "execution_count": 43,
   "metadata": {
    "colab": {
     "base_uri": "https://localhost:8080/"
    },
    "id": "fIX28G92qURf",
    "outputId": "b37e3bee-dfa4-4d17-b58e-4273adb95993"
   },
   "outputs": [
    {
     "data": {
      "text/plain": [
       "Index(['active', 'knowledge', 'u_priority_confirmation', 'reassigned'], dtype='object')"
      ]
     },
     "execution_count": 43,
     "metadata": {},
     "output_type": "execute_result"
    }
   ],
   "source": [
    "bool_cols"
   ]
  },
  {
   "cell_type": "code",
   "execution_count": 44,
   "metadata": {
    "id": "ayqs6zN57ZQn"
   },
   "outputs": [
    {
     "name": "stdout",
     "output_type": "stream",
     "text": [
      "Found existing installation: torch-geometric 2.4.0\n",
      "Uninstalling torch-geometric-2.4.0:\n",
      "  Successfully uninstalled torch-geometric-2.4.0\n"
     ]
    },
    {
     "name": "stderr",
     "output_type": "stream",
     "text": [
      "WARNING: Skipping torch-scatter as it is not installed.\n",
      "WARNING: Skipping torch-sparse as it is not installed.\n",
      "WARNING: Skipping torch-cluster as it is not installed.\n"
     ]
    },
    {
     "name": "stdout",
     "output_type": "stream",
     "text": [
      "Looking in links: https://data.pyg.org/whl/torch-2.0.1+cpu.html\n",
      "Collecting torch-scatter\n",
      "  Using cached https://data.pyg.org/whl/torch-2.0.0%2Bcpu/torch_scatter-2.1.1%2Bpt20cpu-cp38-cp38-win_amd64.whl (500 kB)\n",
      "Installing collected packages: torch-scatter\n",
      "Successfully installed torch-scatter-2.1.1+pt20cpu\n",
      "Looking in links: https://data.pyg.org/whl/torch-2.0.1+cpu.html\n",
      "Collecting torch-sparse\n",
      "  Using cached https://data.pyg.org/whl/torch-2.0.0%2Bcpu/torch_sparse-0.6.17%2Bpt20cpu-cp38-cp38-win_amd64.whl (1.2 MB)\n",
      "Requirement already satisfied: scipy in c:\\users\\tanja\\anaconda3\\lib\\site-packages (from torch-sparse) (1.6.2)\n",
      "Requirement already satisfied: numpy<1.23.0,>=1.16.5 in c:\\users\\tanja\\anaconda3\\lib\\site-packages (from scipy->torch-sparse) (1.19.5)\n",
      "Installing collected packages: torch-sparse\n",
      "Successfully installed torch-sparse-0.6.17+pt20cpu\n",
      "Looking in links: https://data.pyg.org/whl/torch-2.0.1+cpu.html\n",
      "Collecting torch-cluster\n",
      "  Using cached https://data.pyg.org/whl/torch-2.0.0%2Bcpu/torch_cluster-1.6.1%2Bpt20cpu-cp38-cp38-win_amd64.whl (881 kB)\n",
      "Requirement already satisfied: scipy in c:\\users\\tanja\\anaconda3\\lib\\site-packages (from torch-cluster) (1.6.2)\n",
      "Requirement already satisfied: numpy<1.23.0,>=1.16.5 in c:\\users\\tanja\\anaconda3\\lib\\site-packages (from scipy->torch-cluster) (1.19.5)\n",
      "Installing collected packages: torch-cluster\n",
      "Successfully installed torch-cluster-1.6.1+pt20cpu\n",
      "Collecting git+https://github.com/pyg-team/pytorch_geometric.git"
     ]
    },
    {
     "name": "stderr",
     "output_type": "stream",
     "text": [
      "  Running command git clone -q https://github.com/pyg-team/pytorch_geometric.git 'C:\\Users\\tanja\\AppData\\Local\\Temp\\pip-req-build-box_g053'\n"
     ]
    },
    {
     "name": "stdout",
     "output_type": "stream",
     "text": [
      "\n",
      "  Cloning https://github.com/pyg-team/pytorch_geometric.git to c:\\users\\tanja\\appdata\\local\\temp\\pip-req-build-box_g053\n",
      "  Installing build dependencies: started\n",
      "  Installing build dependencies: finished with status 'done'\n",
      "  Getting requirements to build wheel: started\n",
      "  Getting requirements to build wheel: finished with status 'done'\n",
      "    Preparing wheel metadata: started\n",
      "    Preparing wheel metadata: finished with status 'done'\n",
      "Requirement already satisfied: scipy in c:\\users\\tanja\\anaconda3\\lib\\site-packages (from torch_geometric==2.4.0) (1.6.2)\n",
      "Requirement already satisfied: scikit-learn in c:\\users\\tanja\\anaconda3\\lib\\site-packages (from torch_geometric==2.4.0) (0.24.2)\n",
      "Requirement already satisfied: tqdm in c:\\users\\tanja\\anaconda3\\lib\\site-packages (from torch_geometric==2.4.0) (4.59.0)\n",
      "Requirement already satisfied: jinja2 in c:\\users\\tanja\\anaconda3\\lib\\site-packages (from torch_geometric==2.4.0) (2.11.3)\n",
      "Requirement already satisfied: requests in c:\\users\\tanja\\anaconda3\\lib\\site-packages (from torch_geometric==2.4.0) (2.25.1)\n",
      "Requirement already satisfied: psutil>=5.8.0 in c:\\users\\tanja\\anaconda3\\lib\\site-packages (from torch_geometric==2.4.0) (5.8.0)\n",
      "Requirement already satisfied: numpy in c:\\users\\tanja\\anaconda3\\lib\\site-packages (from torch_geometric==2.4.0) (1.19.5)\n",
      "Requirement already satisfied: pyparsing in c:\\users\\tanja\\anaconda3\\lib\\site-packages (from torch_geometric==2.4.0) (2.4.7)\n",
      "Requirement already satisfied: MarkupSafe>=0.23 in c:\\users\\tanja\\anaconda3\\lib\\site-packages (from jinja2->torch_geometric==2.4.0) (1.1.1)\n",
      "Requirement already satisfied: urllib3<1.27,>=1.21.1 in c:\\users\\tanja\\anaconda3\\lib\\site-packages (from requests->torch_geometric==2.4.0) (1.26.4)\n",
      "Requirement already satisfied: chardet<5,>=3.0.2 in c:\\users\\tanja\\anaconda3\\lib\\site-packages (from requests->torch_geometric==2.4.0) (4.0.0)\n",
      "Requirement already satisfied: certifi>=2017.4.17 in c:\\users\\tanja\\anaconda3\\lib\\site-packages (from requests->torch_geometric==2.4.0) (2021.5.30)\n",
      "Requirement already satisfied: idna<3,>=2.5 in c:\\users\\tanja\\anaconda3\\lib\\site-packages (from requests->torch_geometric==2.4.0) (2.10)\n",
      "Requirement already satisfied: threadpoolctl>=2.0.0 in c:\\users\\tanja\\anaconda3\\lib\\site-packages (from scikit-learn->torch_geometric==2.4.0) (2.1.0)\n",
      "Requirement already satisfied: joblib>=0.11 in c:\\users\\tanja\\anaconda3\\lib\\site-packages (from scikit-learn->torch_geometric==2.4.0) (1.0.1)\n",
      "Building wheels for collected packages: torch-geometric\n",
      "  Building wheel for torch-geometric (PEP 517): started\n",
      "  Building wheel for torch-geometric (PEP 517): finished with status 'done'\n",
      "  Created wheel for torch-geometric: filename=torch_geometric-2.4.0-py3-none-any.whl size=981198 sha256=531485eb1459b3653eb1cdfae035182332918bc6b5aa21f39537f99ce8a5bd10\n",
      "  Stored in directory: C:\\Users\\tanja\\AppData\\Local\\Temp\\pip-ephem-wheel-cache-tkajpq89\\wheels\\ba\\e1\\8e\\28297c3201c884d3ea8c47ba71a9e71e547e556c0caa9cf5a2\n",
      "Successfully built torch-geometric\n",
      "Installing collected packages: torch-geometric\n",
      "Successfully installed torch-geometric-2.4.0\n"
     ]
    }
   ],
   "source": [
    "# !pip uninstall torch-scatter torch-sparse torch-geometric torch-cluster  --y\n",
    "# !pip install torch-scatter -f https://data.pyg.org/whl/torch-{torch.__version__}.html\n",
    "# !pip install torch-sparse -f https://data.pyg.org/whl/torch-{torch.__version__}.html\n",
    "# !pip install torch-cluster -f https://data.pyg.org/whl/torch-{torch.__version__}.html\n",
    "# !pip install git+https://github.com/pyg-team/pytorch_geometric.git"
   ]
  },
  {
   "cell_type": "code",
   "execution_count": 45,
   "metadata": {
    "id": "D1qTwgyIm0Yu"
   },
   "outputs": [],
   "source": [
    "from torch_geometric.data import HeteroData"
   ]
  },
  {
   "cell_type": "code",
   "execution_count": 46,
   "metadata": {
    "id": "udKa0nm9nEmm"
   },
   "outputs": [],
   "source": [
    "data = HeteroData()"
   ]
  },
  {
   "cell_type": "code",
   "execution_count": 47,
   "metadata": {
    "id": "uLlLVm3R6j9u"
   },
   "outputs": [],
   "source": [
    "data['incident'].y = target"
   ]
  },
  {
   "cell_type": "code",
   "execution_count": 48,
   "metadata": {
    "colab": {
     "base_uri": "https://localhost:8080/"
    },
    "id": "lEObp5pvAK6X",
    "outputId": "c61afce6-4499-460e-ec1c-7c18b8d1ea6d"
   },
   "outputs": [
    {
     "data": {
      "text/plain": [
       "tensor([[-1.6694, -0.0967, -0.1020,  0.6002, -0.1661],\n",
       "        [-0.6895,  1.0244, -0.2074,  1.0584,  0.3844],\n",
       "        [ 0.5994, -0.0469,  0.7445,  0.3352, -0.8999]])"
      ]
     },
     "execution_count": 48,
     "metadata": {},
     "output_type": "execute_result"
    }
   ],
   "source": [
    "torch.randn(3, 5)"
   ]
  },
  {
   "cell_type": "code",
   "execution_count": 49,
   "metadata": {
    "colab": {
     "base_uri": "https://localhost:8080/"
    },
    "id": "BvhpDarM9kio",
    "outputId": "854d0843-16b6-458e-ce36-fcbefb6626eb"
   },
   "outputs": [
    {
     "data": {
      "text/plain": [
       "tensor([1, 1, 1,  ..., 1, 1, 0], dtype=torch.int32)"
      ]
     },
     "execution_count": 49,
     "metadata": {},
     "output_type": "execute_result"
    }
   ],
   "source": [
    "feature_tensors['active']"
   ]
  },
  {
   "cell_type": "code",
   "execution_count": 50,
   "metadata": {
    "colab": {
     "base_uri": "https://localhost:8080/"
    },
    "id": "LWQ07MwXo7N8",
    "outputId": "d0717189-50b9-482b-bf58-a93de26cd55f"
   },
   "outputs": [
    {
     "data": {
      "text/plain": [
       "141712"
      ]
     },
     "execution_count": 50,
     "metadata": {},
     "output_type": "execute_result"
    }
   ],
   "source": [
    "feature_tensors['active'].size()[0]"
   ]
  },
  {
   "cell_type": "code",
   "execution_count": 51,
   "metadata": {
    "id": "ppTaV6udpC9U"
   },
   "outputs": [],
   "source": [
    "feature_tensors['active'] = torch.reshape(feature_tensors['active'], (feature_tensors['active'].size()[0], 1))"
   ]
  },
  {
   "cell_type": "code",
   "execution_count": 52,
   "metadata": {
    "colab": {
     "base_uri": "https://localhost:8080/"
    },
    "id": "QOCVcANIorqY",
    "outputId": "e040844b-4f6d-427f-b1d2-6305f18bb537"
   },
   "outputs": [
    {
     "data": {
      "text/plain": [
       "tensor([[-0.7368, -0.0282,  1.0186,  ...,  0.5930, -1.1954,  0.4588],\n",
       "        [-0.7368, -0.0282,  1.0186,  ...,  0.5930, -1.1954,  0.4588],\n",
       "        [-0.7368, -0.0282,  1.0186,  ...,  0.5930, -1.1954,  0.4588],\n",
       "        ...,\n",
       "        [-0.7368, -0.0282,  1.0186,  ...,  0.5930, -1.1954,  0.4588],\n",
       "        [-0.7368, -0.0282,  1.0186,  ...,  0.5930, -1.1954,  0.4588],\n",
       "        [-0.7368, -0.0282,  1.0186,  ...,  0.5930, -1.1954,  0.4588]],\n",
       "       grad_fn=<EmbeddingBackward0>)"
      ]
     },
     "execution_count": 52,
     "metadata": {},
     "output_type": "execute_result"
    }
   ],
   "source": [
    "feature_tensors['impact']"
   ]
  },
  {
   "cell_type": "code",
   "execution_count": 53,
   "metadata": {
    "colab": {
     "base_uri": "https://localhost:8080/"
    },
    "id": "6w3GodERAOXp",
    "outputId": "e9e09f4d-199d-4e48-cfbe-e89d449bab06"
   },
   "outputs": [
    {
     "data": {
      "text/plain": [
       "torch.Size([141712, 128])"
      ]
     },
     "execution_count": 53,
     "metadata": {},
     "output_type": "execute_result"
    }
   ],
   "source": [
    "feature_tensors['impact'].size()"
   ]
  },
  {
   "cell_type": "code",
   "execution_count": 54,
   "metadata": {
    "colab": {
     "base_uri": "https://localhost:8080/"
    },
    "id": "l67z6Mqlo1Fy",
    "outputId": "fce04281-22f8-48ab-eff8-3850f7246ba6"
   },
   "outputs": [
    {
     "data": {
      "text/plain": [
       "tensor([[ 1.0000, -0.7368, -0.0282,  ...,  0.5930, -1.1954,  0.4588],\n",
       "        [ 1.0000, -0.7368, -0.0282,  ...,  0.5930, -1.1954,  0.4588],\n",
       "        [ 1.0000, -0.7368, -0.0282,  ...,  0.5930, -1.1954,  0.4588],\n",
       "        ...,\n",
       "        [ 1.0000, -0.7368, -0.0282,  ...,  0.5930, -1.1954,  0.4588],\n",
       "        [ 1.0000, -0.7368, -0.0282,  ...,  0.5930, -1.1954,  0.4588],\n",
       "        [ 0.0000, -0.7368, -0.0282,  ...,  0.5930, -1.1954,  0.4588]],\n",
       "       grad_fn=<CatBackward0>)"
      ]
     },
     "execution_count": 54,
     "metadata": {},
     "output_type": "execute_result"
    }
   ],
   "source": [
    "torch.hstack((feature_tensors['active'], feature_tensors['impact']))"
   ]
  },
  {
   "cell_type": "code",
   "execution_count": 55,
   "metadata": {
    "id": "LxA6AJdwqHOp"
   },
   "outputs": [],
   "source": [
    "incident_features = torch.tensor([])\n",
    "for col in nodes['incident']:\n",
    "    if col in bool_cols:\n",
    "        feature_tensors[col] = torch.reshape(feature_tensors[col], (feature_tensors[col].size()[0], 1))\n",
    "    incident_features = torch.hstack((incident_features, feature_tensors[col]))"
   ]
  },
  {
   "cell_type": "code",
   "execution_count": 56,
   "metadata": {
    "id": "oRR0kU2ctAbj"
   },
   "outputs": [],
   "source": [
    "support_org_features = torch.tensor([])\n",
    "for col in nodes['support_org']:\n",
    "    support_org_features = torch.hstack((support_org_features, support_org_tensors[col]))"
   ]
  },
  {
   "cell_type": "code",
   "execution_count": 57,
   "metadata": {
    "id": "iyXtrTFpvEXz"
   },
   "outputs": [],
   "source": [
    "customer_features = torch.tensor([])\n",
    "for col in nodes['customer']:\n",
    "    customer_features = torch.hstack((customer_features, customer_tensors[col]))"
   ]
  },
  {
   "cell_type": "code",
   "execution_count": 58,
   "metadata": {
    "id": "lQNX49-EvcX7"
   },
   "outputs": [],
   "source": [
    "vendor_features = torch.tensor([])\n",
    "for col in nodes['vendor']:\n",
    "    vendor_features = torch.hstack((vendor_features, vendor_tensors[col]))"
   ]
  },
  {
   "cell_type": "code",
   "execution_count": 59,
   "metadata": {
    "id": "Vbs5rnCxvrXI"
   },
   "outputs": [],
   "source": [
    "data['incident'].x = incident_features\n",
    "data['support_org'].x = support_org_features\n",
    "data['customer'].x = customer_features\n",
    "data['vendor'].x = vendor_features"
   ]
  },
  {
   "cell_type": "code",
   "execution_count": 60,
   "metadata": {
    "id": "jz6xSs_swu7H"
   },
   "outputs": [],
   "source": [
    "num_edges = incident_features.size()[0]"
   ]
  },
  {
   "cell_type": "code",
   "execution_count": 61,
   "metadata": {
    "colab": {
     "base_uri": "https://localhost:8080/"
    },
    "id": "-inRaOKu4Jvj",
    "outputId": "2ffc7a45-ec90-48b0-b53c-93995dd76ebe"
   },
   "outputs": [
    {
     "data": {
      "text/plain": [
       "1923"
      ]
     },
     "execution_count": 61,
     "metadata": {},
     "output_type": "execute_result"
    }
   ],
   "source": [
    "num_incident_features = incident_features.size()[1]\n",
    "num_incident_features"
   ]
  },
  {
   "cell_type": "code",
   "execution_count": 62,
   "metadata": {
    "colab": {
     "base_uri": "https://localhost:8080/"
    },
    "id": "YWo2ARmu4gXf",
    "outputId": "e74392f1-3f3d-4ca9-e1c4-f9137949410b"
   },
   "outputs": [
    {
     "data": {
      "text/plain": [
       "2"
      ]
     },
     "execution_count": 62,
     "metadata": {},
     "output_type": "execute_result"
    }
   ],
   "source": [
    "num_classes = len(data['incident'].y.unique())\n",
    "num_classes"
   ]
  },
  {
   "cell_type": "code",
   "execution_count": 63,
   "metadata": {
    "id": "E4Sog-FtFRAM"
   },
   "outputs": [],
   "source": [
    "data['incident', 'assigned_to', 'support_org'].edge_index = torch.stack([torch.arange(support_org_features.size()[0]), torch.arange(support_org_features.size()[0])], dim=0)\n",
    "data['incident', 'reported_by', 'customer'].edge_index = torch.stack([torch.arange(customer_features.size()[0]), torch.arange(customer_features.size()[0])], dim=0)\n",
    "data['incident', 'assigned_to', 'vendor'].edge_index = torch.stack([torch.arange(vendor_features.size()[0]), torch.arange(vendor_features.size()[0])], dim=0)"
   ]
  },
  {
   "cell_type": "code",
   "execution_count": 64,
   "metadata": {
    "colab": {
     "base_uri": "https://localhost:8080/"
    },
    "id": "_9WFWepIF13i",
    "outputId": "2aa40792-e810-4c05-de28-0563c7bd8a2e"
   },
   "outputs": [
    {
     "data": {
      "text/plain": [
       "{'_global_store': {},\n",
       " 'incident': {'y': tensor([0, 0, 0,  ..., 1, 1, 1], dtype=torch.int32),\n",
       "  'x': tensor([[ 1.0000,  0.0405,  1.1533,  ...,  1.0970, -0.0405,  0.8579],\n",
       "          [ 1.0000,  0.2713,  0.7429,  ...,  1.0970, -0.0405,  0.8579],\n",
       "          [ 1.0000, -0.2308, -1.6998,  ...,  1.0970, -0.0405,  0.8579],\n",
       "          ...,\n",
       "          [ 0.0000, -1.3943, -0.0567,  ...,  1.0970, -0.0405,  0.8579],\n",
       "          [ 0.0000,  0.2713,  0.7429,  ...,  1.0970, -0.0405,  0.8579],\n",
       "          [ 0.0000, -0.2308, -1.6998,  ...,  1.0970, -0.0405,  0.8579]],\n",
       "         grad_fn=<CatBackward0>)},\n",
       " 'support_org': {'x': tensor([[-0.4875,  0.0808,  0.0518,  ..., -0.2919,  1.3635, -1.8558],\n",
       "          [-0.4875,  0.0808,  0.0518,  ...,  1.4007,  1.4981, -2.6095],\n",
       "          [-0.4875,  0.0808,  0.0518,  ...,  0.3696, -0.2198, -1.0984],\n",
       "          ...,\n",
       "          [-0.0161, -1.2642,  2.4426,  ...,  1.7367, -1.6997, -1.3976],\n",
       "          [-0.0161, -1.2642,  2.4426,  ...,  1.4033,  2.1476, -0.5875],\n",
       "          [-0.0161, -1.2642,  2.4426,  ...,  1.4668, -1.1439, -0.2434]],\n",
       "         grad_fn=<CatBackward0>)},\n",
       " 'customer': {'x': tensor([[ 0.2500,  0.6637,  0.3025,  ..., -1.3484, -1.7969, -0.4664],\n",
       "          [-0.4200,  0.6678, -1.1514,  ..., -0.2093,  0.0825,  0.6042],\n",
       "          [ 0.7188, -0.3677, -0.0553,  ..., -1.0971, -0.1024,  0.4153],\n",
       "          ...,\n",
       "          [ 0.2910,  2.4470, -0.5965,  ...,  0.7411,  0.2640, -0.3109],\n",
       "          [ 1.8572, -0.5945,  0.5747,  ...,  1.8806, -1.9178,  1.9418],\n",
       "          [ 1.5213,  0.3725,  0.3741,  ...,  1.1849, -0.4395,  0.0889]],\n",
       "         grad_fn=<CatBackward0>)},\n",
       " 'vendor': {'x': tensor([[ 0.4686, -0.9346,  0.8417,  0.5050, -1.6182,  0.4576, -1.7005,  0.4404,\n",
       "            1.2951, -0.4312],\n",
       "          [-0.9831, -0.4823, -0.7881, -0.2763, -0.3910,  1.7275,  1.8186,  1.1385,\n",
       "           -0.2725, -0.3720],\n",
       "          [-1.0610, -0.4304,  0.3542, -0.3881,  0.9124, -0.6797,  0.1997,  0.4288,\n",
       "           -0.2714,  0.8393],\n",
       "          [-0.3472, -0.4834,  0.7220, -0.7647,  0.6839,  0.1921, -0.4427, -0.3850,\n",
       "            0.7375, -0.3054],\n",
       "          [ 0.6777,  0.4823, -0.4425,  0.1354, -2.0226,  0.6977,  0.9360,  1.6777,\n",
       "            0.8478,  0.1703]], grad_fn=<CatBackward0>)},\n",
       " ('incident',\n",
       "  'assigned_to',\n",
       "  'support_org'): {'edge_index': tensor([[   0,    1,    2,  ..., 1978, 1979, 1980],\n",
       "          [   0,    1,    2,  ..., 1978, 1979, 1980]])},\n",
       " ('incident',\n",
       "  'reported_by',\n",
       "  'customer'): {'edge_index': tensor([[  0,   1,   2,   3,   4,   5,   6,   7,   8,   9,  10,  11,  12,  13,\n",
       "            14,  15,  16,  17,  18,  19,  20,  21,  22,  23,  24,  25,  26,  27,\n",
       "            28,  29,  30,  31,  32,  33,  34,  35,  36,  37,  38,  39,  40,  41,\n",
       "            42,  43,  44,  45,  46,  47,  48,  49,  50,  51,  52,  53,  54,  55,\n",
       "            56,  57,  58,  59,  60,  61,  62,  63,  64,  65,  66,  67,  68,  69,\n",
       "            70,  71,  72,  73,  74,  75,  76,  77,  78,  79,  80,  81,  82,  83,\n",
       "            84,  85,  86,  87,  88,  89,  90,  91,  92,  93,  94,  95,  96,  97,\n",
       "            98,  99, 100, 101, 102, 103, 104, 105, 106, 107, 108, 109, 110, 111,\n",
       "           112, 113, 114, 115, 116, 117, 118, 119, 120, 121, 122, 123, 124, 125,\n",
       "           126, 127, 128, 129, 130, 131, 132, 133, 134, 135, 136, 137, 138, 139,\n",
       "           140, 141, 142, 143, 144, 145, 146, 147, 148, 149, 150, 151, 152, 153,\n",
       "           154, 155, 156, 157, 158, 159, 160, 161, 162, 163, 164, 165, 166, 167,\n",
       "           168, 169, 170, 171, 172, 173, 174, 175, 176, 177, 178, 179, 180, 181,\n",
       "           182, 183, 184, 185, 186, 187, 188, 189, 190, 191, 192, 193, 194, 195,\n",
       "           196, 197, 198, 199, 200, 201, 202, 203, 204, 205, 206, 207],\n",
       "          [  0,   1,   2,   3,   4,   5,   6,   7,   8,   9,  10,  11,  12,  13,\n",
       "            14,  15,  16,  17,  18,  19,  20,  21,  22,  23,  24,  25,  26,  27,\n",
       "            28,  29,  30,  31,  32,  33,  34,  35,  36,  37,  38,  39,  40,  41,\n",
       "            42,  43,  44,  45,  46,  47,  48,  49,  50,  51,  52,  53,  54,  55,\n",
       "            56,  57,  58,  59,  60,  61,  62,  63,  64,  65,  66,  67,  68,  69,\n",
       "            70,  71,  72,  73,  74,  75,  76,  77,  78,  79,  80,  81,  82,  83,\n",
       "            84,  85,  86,  87,  88,  89,  90,  91,  92,  93,  94,  95,  96,  97,\n",
       "            98,  99, 100, 101, 102, 103, 104, 105, 106, 107, 108, 109, 110, 111,\n",
       "           112, 113, 114, 115, 116, 117, 118, 119, 120, 121, 122, 123, 124, 125,\n",
       "           126, 127, 128, 129, 130, 131, 132, 133, 134, 135, 136, 137, 138, 139,\n",
       "           140, 141, 142, 143, 144, 145, 146, 147, 148, 149, 150, 151, 152, 153,\n",
       "           154, 155, 156, 157, 158, 159, 160, 161, 162, 163, 164, 165, 166, 167,\n",
       "           168, 169, 170, 171, 172, 173, 174, 175, 176, 177, 178, 179, 180, 181,\n",
       "           182, 183, 184, 185, 186, 187, 188, 189, 190, 191, 192, 193, 194, 195,\n",
       "           196, 197, 198, 199, 200, 201, 202, 203, 204, 205, 206, 207]])},\n",
       " ('incident',\n",
       "  'assigned_to',\n",
       "  'vendor'): {'edge_index': tensor([[0, 1, 2, 3, 4],\n",
       "          [0, 1, 2, 3, 4]])}}"
      ]
     },
     "execution_count": 64,
     "metadata": {},
     "output_type": "execute_result"
    }
   ],
   "source": [
    "data.to_dict()"
   ]
  },
  {
   "cell_type": "code",
   "execution_count": 65,
   "metadata": {
    "colab": {
     "base_uri": "https://localhost:8080/"
    },
    "id": "MgAvJmzZxvFF",
    "outputId": "54c7353f-3acc-4418-8297-02ae285efa60"
   },
   "outputs": [
    {
     "data": {
      "text/plain": [
       "['incident', 'support_org', 'customer', 'vendor']"
      ]
     },
     "execution_count": 65,
     "metadata": {},
     "output_type": "execute_result"
    }
   ],
   "source": [
    "data.node_types"
   ]
  },
  {
   "cell_type": "code",
   "execution_count": 66,
   "metadata": {
    "id": "2CU8ZBCQGYHS"
   },
   "outputs": [],
   "source": [
    "from torch_geometric.transforms.random_node_split import RandomNodeSplit\n",
    "import torch_geometric.transforms as T\n",
    "\n",
    "data = T.ToUndirected()(data)\n",
    "# data = T.NormalizeFeatures()(data)\n",
    "split = RandomNodeSplit(num_test=0.33, num_val=0.2)\n",
    "\n",
    "data = split(data)"
   ]
  },
  {
   "cell_type": "code",
   "execution_count": 67,
   "metadata": {
    "colab": {
     "base_uri": "https://localhost:8080/"
    },
    "id": "xV9f9XgpGcnR",
    "outputId": "db1e17a9-c485-4d2b-c6a3-d112dcea18cf"
   },
   "outputs": [
    {
     "data": {
      "text/plain": [
       "HeteroData(\n",
       "  incident={\n",
       "    y=[141712],\n",
       "    x=[141712, 1923],\n",
       "    train_mask=[141712],\n",
       "    val_mask=[141712],\n",
       "    test_mask=[141712],\n",
       "  },\n",
       "  support_org={ x=[1981, 158] },\n",
       "  customer={ x=[208, 105] },\n",
       "  vendor={ x=[5, 10] },\n",
       "  (incident, assigned_to, support_org)={ edge_index=[2, 1981] },\n",
       "  (incident, reported_by, customer)={ edge_index=[2, 208] },\n",
       "  (incident, assigned_to, vendor)={ edge_index=[2, 5] },\n",
       "  (support_org, rev_assigned_to, incident)={ edge_index=[2, 1981] },\n",
       "  (customer, rev_reported_by, incident)={ edge_index=[2, 208] },\n",
       "  (vendor, rev_assigned_to, incident)={ edge_index=[2, 5] }\n",
       ")"
      ]
     },
     "execution_count": 67,
     "metadata": {},
     "output_type": "execute_result"
    }
   ],
   "source": [
    "data"
   ]
  },
  {
   "cell_type": "code",
   "execution_count": 68,
   "metadata": {
    "colab": {
     "base_uri": "https://localhost:8080/"
    },
    "id": "AyeYOeO0sdRg",
    "outputId": "c0fb06da-7e2a-486f-afaa-6f2861af3b7e"
   },
   "outputs": [
    {
     "data": {
      "text/plain": [
       "tensor([False, False, False,  ..., False, False, False])"
      ]
     },
     "execution_count": 68,
     "metadata": {},
     "output_type": "execute_result"
    }
   ],
   "source": [
    "data['incident'].train_mask"
   ]
  },
  {
   "cell_type": "code",
   "execution_count": 69,
   "metadata": {
    "colab": {
     "base_uri": "https://localhost:8080/"
    },
    "id": "xkN02Qf82Mru",
    "outputId": "d332302a-1919-4dee-d934-57f67b9afad0"
   },
   "outputs": [
    {
     "data": {
      "text/plain": [
       "HeteroData(\n",
       "  incident={\n",
       "    y=[141712],\n",
       "    x=[141712, 1923],\n",
       "    train_mask=[141712],\n",
       "    val_mask=[141712],\n",
       "    test_mask=[141712],\n",
       "  },\n",
       "  support_org={ x=[1981, 158] },\n",
       "  customer={ x=[208, 105] },\n",
       "  vendor={ x=[5, 10] },\n",
       "  (incident, assigned_to, support_org)={ edge_index=[2, 1981] },\n",
       "  (incident, reported_by, customer)={ edge_index=[2, 208] },\n",
       "  (incident, assigned_to, vendor)={ edge_index=[2, 5] },\n",
       "  (support_org, rev_assigned_to, incident)={ edge_index=[2, 1981] },\n",
       "  (customer, rev_reported_by, incident)={ edge_index=[2, 208] },\n",
       "  (vendor, rev_assigned_to, incident)={ edge_index=[2, 5] }\n",
       ")"
      ]
     },
     "execution_count": 69,
     "metadata": {},
     "output_type": "execute_result"
    }
   ],
   "source": [
    "data"
   ]
  },
  {
   "cell_type": "code",
   "execution_count": 70,
   "metadata": {
    "id": "UKcUTONLF3ic"
   },
   "outputs": [],
   "source": [
    "from torch_geometric.nn import SAGEConv, to_hetero\n",
    "import torch.nn.functional as F\n",
    "\n",
    "class GCN(torch.nn.Module):\n",
    "    def __init__(self, hidden_channels, out_channels):\n",
    "        super().__init__()\n",
    "        self.conv1 = SAGEConv((-1, -1), hidden_channels, aggr='sum')\n",
    "        self.conv2 = SAGEConv((-1, -1), out_channels, aggr='sum')\n",
    "\n",
    "    def forward(self, x, edge_index):\n",
    "        x = self.conv1(x, edge_index).relu()\n",
    "        x = self.conv2(x, edge_index).sigmoid()\n",
    "\n",
    "        return x\n",
    "\n",
    "\n",
    "gcn = GCN(hidden_channels=64, out_channels=2)\n",
    "gcn = to_hetero(gcn, data.metadata(), aggr='sum')\n",
    "optimizer = torch.optim.Adam(gcn.parameters(), lr=0.0001, weight_decay=5e-4)\n",
    "# loss = F.binary_cross_entropy()"
   ]
  },
  {
   "cell_type": "code",
   "execution_count": 71,
   "metadata": {
    "id": "tdkxmKrM6fcJ"
   },
   "outputs": [],
   "source": [
    "from tqdm import tqdm\n",
    "from sklearn.metrics import roc_auc_score, accuracy_score\n",
    "def train(model, data, optimizer, loss, n_epochs=200):\n",
    "    train_losses = []\n",
    "    val_accs = []\n",
    "    for epoch in tqdm(range(1, n_epochs + 1)):\n",
    "        model.train()\n",
    "        optimizer.zero_grad()\n",
    "        out = model(data.x_dict, data.edge_index_dict)\n",
    "        mask = data['incident'].train_mask\n",
    "        loss_fn = F.cross_entropy(out['incident'][mask], data['incident'].y[mask].type(torch.LongTensor))\n",
    "        loss_fn.backward(retain_graph=True)\n",
    "        optimizer.step()\n",
    "\n",
    "        val_acc = eval_node_classifier(model, data, data['incident'].val_mask)\n",
    "        train_acc = accuracy_score(out['incident'][mask].argmax(dim=-1), data['incident'].y[mask].detach().numpy())\n",
    "        if epoch % 2 == 0:\n",
    "            print(f'\\tEpoch: {epoch}, train_loss: {float(loss_fn):.5f}, train_acc: {train_acc:.5f}, val_acc: {val_acc:.5f}')\n",
    "\n",
    "        train_losses.append(loss_fn)\n",
    "        val_accs.append(val_acc)\n",
    "\n",
    "    return train_losses, val_accs\n",
    "\n",
    "\n",
    "def eval_node_classifier(model, data, mask):\n",
    "    with torch.no_grad():\n",
    "        model.eval()\n",
    "        out = model(data.x_dict, data.edge_index_dict)['incident']\n",
    "        pred = out.argmax(dim=-1)\n",
    "\n",
    "    #     roc_score = roc_auc_score(pred, mask)\n",
    "        acc_score = accuracy_score(pred, mask)\n",
    "\n",
    "        return acc_score"
   ]
  },
  {
   "cell_type": "code",
   "execution_count": 72,
   "metadata": {
    "colab": {
     "base_uri": "https://localhost:8080/"
    },
    "id": "C6ncW8ZFFG50",
    "outputId": "11d87c0d-e4a7-454c-a694-cfce12f8edc5"
   },
   "outputs": [
    {
     "name": "stderr",
     "output_type": "stream",
     "text": [
      "  4%|███▎                                                                               | 2/50 [00:23<09:18, 11.64s/it]"
     ]
    },
    {
     "name": "stdout",
     "output_type": "stream",
     "text": [
      "\tEpoch: 2, train_loss: 0.68999, train_acc: 0.53664, val_acc: 0.55425\n"
     ]
    },
    {
     "name": "stderr",
     "output_type": "stream",
     "text": [
      "  8%|██████▋                                                                            | 4/50 [00:46<08:50, 11.54s/it]"
     ]
    },
    {
     "name": "stdout",
     "output_type": "stream",
     "text": [
      "\tEpoch: 4, train_loss: 0.66795, train_acc: 0.62429, val_acc: 0.45726\n"
     ]
    },
    {
     "name": "stderr",
     "output_type": "stream",
     "text": [
      " 12%|█████████▉                                                                         | 6/50 [01:11<08:46, 11.96s/it]"
     ]
    },
    {
     "name": "stdout",
     "output_type": "stream",
     "text": [
      "\tEpoch: 6, train_loss: 0.64638, train_acc: 0.66675, val_acc: 0.40612\n"
     ]
    },
    {
     "name": "stderr",
     "output_type": "stream",
     "text": [
      " 16%|█████████████▎                                                                     | 8/50 [01:35<08:24, 12.02s/it]"
     ]
    },
    {
     "name": "stdout",
     "output_type": "stream",
     "text": [
      "\tEpoch: 8, train_loss: 0.62877, train_acc: 0.68499, val_acc: 0.45341\n"
     ]
    },
    {
     "name": "stderr",
     "output_type": "stream",
     "text": [
      " 20%|████████████████▍                                                                 | 10/50 [02:00<08:06, 12.17s/it]"
     ]
    },
    {
     "name": "stdout",
     "output_type": "stream",
     "text": [
      "\tEpoch: 10, train_loss: 0.61468, train_acc: 0.69574, val_acc: 0.49335\n"
     ]
    },
    {
     "name": "stderr",
     "output_type": "stream",
     "text": [
      " 24%|███████████████████▋                                                              | 12/50 [02:23<07:38, 12.08s/it]"
     ]
    },
    {
     "name": "stdout",
     "output_type": "stream",
     "text": [
      "\tEpoch: 12, train_loss: 0.60412, train_acc: 0.70546, val_acc: 0.47606\n"
     ]
    },
    {
     "name": "stderr",
     "output_type": "stream",
     "text": [
      "ERROR: Could not install packages due to an OSError: [WinError 5] Access is denied: 'C:\\\\Users\\\\tanja\\\\anaconda3\\\\Lib\\\\site-packages\\\\torch_scatter\\\\_scatter_cpu.pyd'\n",
      "Consider using the `--user` option or check the permissions.\n",
      "\n"
     ]
    },
    {
     "name": "stdout",
     "output_type": "stream",
     "text": [
      "Looking in links: https://data.pyg.org/whl/torch-{torch.__version__}.html\n",
      "Collecting torch-scatter\n",
      "  Downloading torch_scatter-2.1.1.tar.gz (107 kB)\n",
      "Building wheels for collected packages: torch-scatter\n",
      "  Building wheel for torch-scatter (setup.py): started\n",
      "  Building wheel for torch-scatter (setup.py): still running...\n",
      "  Building wheel for torch-scatter (setup.py): still running...\n",
      "  Building wheel for torch-scatter (setup.py): still running...\n",
      "  Building wheel for torch-scatter (setup.py): still running...\n",
      "  Building wheel for torch-scatter (setup.py): finished with status 'done'\n",
      "  Created wheel for torch-scatter: filename=torch_scatter-2.1.1-cp38-cp38-win_amd64.whl size=519809 sha256=8fefdc851ea41626a068d55a30dbdc4bf1f3b0bb1d1fb1fe9e8f6c3e38d41b49\n",
      "  Stored in directory: c:\\users\\tanja\\appdata\\local\\pip\\cache\\wheels\\6e\\7d\\ef\\cc482ff35ea019f4e2285e42174449007bb177576eb4f5fae9\n",
      "Successfully built torch-scatter\n",
      "Installing collected packages: torch-scatter\n"
     ]
    },
    {
     "name": "stderr",
     "output_type": "stream",
     "text": [
      " 28%|██████████████████████▉                                                           | 14/50 [02:47<07:02, 11.74s/it]"
     ]
    },
    {
     "name": "stdout",
     "output_type": "stream",
     "text": [
      "\tEpoch: 14, train_loss: 0.59330, train_acc: 0.72104, val_acc: 0.44717\n"
     ]
    },
    {
     "name": "stderr",
     "output_type": "stream",
     "text": [
      " 32%|██████████████████████████▏                                                       | 16/50 [03:09<06:29, 11.46s/it]"
     ]
    },
    {
     "name": "stdout",
     "output_type": "stream",
     "text": [
      "\tEpoch: 16, train_loss: 0.58344, train_acc: 0.73346, val_acc: 0.45003\n"
     ]
    },
    {
     "name": "stderr",
     "output_type": "stream",
     "text": [
      " 36%|█████████████████████████████▌                                                    | 18/50 [03:31<05:59, 11.22s/it]"
     ]
    },
    {
     "name": "stdout",
     "output_type": "stream",
     "text": [
      "\tEpoch: 18, train_loss: 0.57469, train_acc: 0.74268, val_acc: 0.46477\n"
     ]
    },
    {
     "name": "stderr",
     "output_type": "stream",
     "text": [
      " 40%|████████████████████████████████▊                                                 | 20/50 [03:55<05:49, 11.66s/it]"
     ]
    },
    {
     "name": "stdout",
     "output_type": "stream",
     "text": [
      "\tEpoch: 20, train_loss: 0.56761, train_acc: 0.75071, val_acc: 0.45667\n"
     ]
    },
    {
     "name": "stderr",
     "output_type": "stream",
     "text": [
      " 44%|████████████████████████████████████                                              | 22/50 [04:17<05:17, 11.33s/it]"
     ]
    },
    {
     "name": "stdout",
     "output_type": "stream",
     "text": [
      "\tEpoch: 22, train_loss: 0.56057, train_acc: 0.75867, val_acc: 0.44542\n"
     ]
    },
    {
     "name": "stderr",
     "output_type": "stream",
     "text": [
      " 48%|███████████████████████████████████████▎                                          | 24/50 [04:40<04:58, 11.49s/it]"
     ]
    },
    {
     "name": "stdout",
     "output_type": "stream",
     "text": [
      "\tEpoch: 24, train_loss: 0.55450, train_acc: 0.76575, val_acc: 0.45532\n"
     ]
    },
    {
     "name": "stderr",
     "output_type": "stream",
     "text": [
      " 52%|██████████████████████████████████████████▋                                       | 26/50 [05:02<04:31, 11.31s/it]"
     ]
    },
    {
     "name": "stdout",
     "output_type": "stream",
     "text": [
      "\tEpoch: 26, train_loss: 0.54924, train_acc: 0.77182, val_acc: 0.46429\n"
     ]
    },
    {
     "name": "stderr",
     "output_type": "stream",
     "text": [
      " 56%|█████████████████████████████████████████████▉                                    | 28/50 [05:25<04:07, 11.24s/it]"
     ]
    },
    {
     "name": "stdout",
     "output_type": "stream",
     "text": [
      "\tEpoch: 28, train_loss: 0.54391, train_acc: 0.77799, val_acc: 0.45576\n"
     ]
    },
    {
     "name": "stderr",
     "output_type": "stream",
     "text": [
      " 60%|█████████████████████████████████████████████████▏                                | 30/50 [05:47<03:42, 11.13s/it]"
     ]
    },
    {
     "name": "stdout",
     "output_type": "stream",
     "text": [
      "\tEpoch: 30, train_loss: 0.53876, train_acc: 0.78257, val_acc: 0.45242\n"
     ]
    },
    {
     "name": "stderr",
     "output_type": "stream",
     "text": [
      " 64%|████████████████████████████████████████████████████▍                             | 32/50 [06:10<03:26, 11.48s/it]"
     ]
    },
    {
     "name": "stdout",
     "output_type": "stream",
     "text": [
      "\tEpoch: 32, train_loss: 0.53413, train_acc: 0.78793, val_acc: 0.45958\n"
     ]
    },
    {
     "name": "stderr",
     "output_type": "stream",
     "text": [
      " 68%|███████████████████████████████████████████████████████▊                          | 34/50 [06:33<03:00, 11.30s/it]"
     ]
    },
    {
     "name": "stdout",
     "output_type": "stream",
     "text": [
      "\tEpoch: 34, train_loss: 0.52974, train_acc: 0.79270, val_acc: 0.45820\n"
     ]
    },
    {
     "name": "stderr",
     "output_type": "stream",
     "text": [
      " 72%|███████████████████████████████████████████████████████████                       | 36/50 [06:55<02:39, 11.42s/it]"
     ]
    },
    {
     "name": "stdout",
     "output_type": "stream",
     "text": [
      "\tEpoch: 36, train_loss: 0.52560, train_acc: 0.79643, val_acc: 0.45519\n"
     ]
    },
    {
     "name": "stderr",
     "output_type": "stream",
     "text": [
      " 76%|██████████████████████████████████████████████████████████████▎                   | 38/50 [07:18<02:16, 11.41s/it]"
     ]
    },
    {
     "name": "stdout",
     "output_type": "stream",
     "text": [
      "\tEpoch: 38, train_loss: 0.52195, train_acc: 0.80024, val_acc: 0.46022\n"
     ]
    },
    {
     "name": "stderr",
     "output_type": "stream",
     "text": [
      " 80%|█████████████████████████████████████████████████████████████████▌                | 40/50 [07:41<01:55, 11.59s/it]"
     ]
    },
    {
     "name": "stdout",
     "output_type": "stream",
     "text": [
      "\tEpoch: 40, train_loss: 0.51846, train_acc: 0.80333, val_acc: 0.46067\n"
     ]
    },
    {
     "name": "stderr",
     "output_type": "stream",
     "text": [
      " 84%|████████████████████████████████████████████████████████████████████▉             | 42/50 [08:04<01:30, 11.33s/it]"
     ]
    },
    {
     "name": "stdout",
     "output_type": "stream",
     "text": [
      "\tEpoch: 42, train_loss: 0.51513, train_acc: 0.80701, val_acc: 0.45662\n"
     ]
    },
    {
     "name": "stderr",
     "output_type": "stream",
     "text": [
      " 88%|████████████████████████████████████████████████████████████████████████▏         | 44/50 [08:27<01:08, 11.45s/it]"
     ]
    },
    {
     "name": "stdout",
     "output_type": "stream",
     "text": [
      "\tEpoch: 44, train_loss: 0.51206, train_acc: 0.81037, val_acc: 0.46014\n"
     ]
    },
    {
     "name": "stderr",
     "output_type": "stream",
     "text": [
      " 92%|███████████████████████████████████████████████████████████████████████████▍      | 46/50 [08:49<00:45, 11.30s/it]"
     ]
    },
    {
     "name": "stdout",
     "output_type": "stream",
     "text": [
      "\tEpoch: 46, train_loss: 0.50909, train_acc: 0.81402, val_acc: 0.46242\n"
     ]
    },
    {
     "name": "stderr",
     "output_type": "stream",
     "text": [
      " 96%|██████████████████████████████████████████████████████████████████████████████▋   | 48/50 [09:11<00:22, 11.22s/it]"
     ]
    },
    {
     "name": "stdout",
     "output_type": "stream",
     "text": [
      "\tEpoch: 48, train_loss: 0.50634, train_acc: 0.81724, val_acc: 0.46096\n"
     ]
    },
    {
     "name": "stderr",
     "output_type": "stream",
     "text": [
      "100%|██████████████████████████████████████████████████████████████████████████████████| 50/50 [09:37<00:00, 11.56s/it]"
     ]
    },
    {
     "name": "stdout",
     "output_type": "stream",
     "text": [
      "\tEpoch: 50, train_loss: 0.50377, train_acc: 0.82009, val_acc: 0.46360\n"
     ]
    },
    {
     "name": "stderr",
     "output_type": "stream",
     "text": [
      "\n"
     ]
    }
   ],
   "source": [
    "train_losses, val_losses = train(gcn, data, optimizer, None, 50)"
   ]
  },
  {
   "cell_type": "code",
   "execution_count": 74,
   "metadata": {
    "id": "aPu2moduOTV7"
   },
   "outputs": [
    {
     "data": {
      "text/plain": [
       "0.47760246133002143"
      ]
     },
     "execution_count": 74,
     "metadata": {},
     "output_type": "execute_result"
    }
   ],
   "source": [
    "acc_score = eval_node_classifier(gcn, data, data['incident'].test_mask)\n",
    "acc_score"
   ]
  },
  {
   "cell_type": "code",
   "execution_count": null,
   "metadata": {
    "id": "Ifjp2KVWYGXx"
   },
   "outputs": [],
   "source": []
  }
 ],
 "metadata": {
  "colab": {
   "provenance": []
  },
  "kernelspec": {
   "display_name": "Python 3",
   "language": "python",
   "name": "python3"
  },
  "language_info": {
   "codemirror_mode": {
    "name": "ipython",
    "version": 3
   },
   "file_extension": ".py",
   "mimetype": "text/x-python",
   "name": "python",
   "nbconvert_exporter": "python",
   "pygments_lexer": "ipython3",
   "version": "3.8.8"
  }
 },
 "nbformat": 4,
 "nbformat_minor": 4
}
